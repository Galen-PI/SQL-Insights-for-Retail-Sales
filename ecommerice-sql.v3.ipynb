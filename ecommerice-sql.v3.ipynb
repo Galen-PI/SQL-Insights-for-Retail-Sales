{
 "cells": [
  {
   "cell_type": "markdown",
   "id": "fd16adce",
   "metadata": {
    "papermill": {
     "duration": 0.007679,
     "end_time": "2025-10-23T18:19:00.852052",
     "exception": false,
     "start_time": "2025-10-23T18:19:00.844373",
     "status": "completed"
    },
    "tags": []
   },
   "source": [
    "# Loading SQL"
   ]
  },
  {
   "cell_type": "code",
   "execution_count": 1,
   "id": "b40fb76b",
   "metadata": {
    "execution": {
     "iopub.execute_input": "2025-10-23T18:19:00.866782Z",
     "iopub.status.busy": "2025-10-23T18:19:00.866474Z",
     "iopub.status.idle": "2025-10-23T18:19:00.884231Z",
     "shell.execute_reply": "2025-10-23T18:19:00.883395Z"
    },
    "jupyter": {
     "source_hidden": true
    },
    "papermill": {
     "duration": 0.026886,
     "end_time": "2025-10-23T18:19:00.885800",
     "exception": false,
     "start_time": "2025-10-23T18:19:00.858914",
     "status": "completed"
    },
    "tags": []
   },
   "outputs": [
    {
     "data": {
      "text/plain": [
       "['Amazon Sale Report.csv',\n",
       " 'Cloud Warehouse Compersion Chart.csv',\n",
       " 'May-2022.csv',\n",
       " 'P  L March 2021.csv',\n",
       " 'International sale Report.csv',\n",
       " 'Expense IIGF.csv',\n",
       " 'Sale Report.csv']"
      ]
     },
     "execution_count": 1,
     "metadata": {},
     "output_type": "execute_result"
    }
   ],
   "source": [
    "import os\n",
    "# Path to the dataset directory\n",
    "dataset_path = '/kaggle/input/unlock-profits-with-e-commerce-sales-data'\n",
    "# List all files in the dataset directory\n",
    "os.listdir(dataset_path)"
   ]
  },
  {
   "cell_type": "code",
   "execution_count": 2,
   "id": "98f4ad7d",
   "metadata": {
    "execution": {
     "iopub.execute_input": "2025-10-23T18:19:00.901034Z",
     "iopub.status.busy": "2025-10-23T18:19:00.900685Z",
     "iopub.status.idle": "2025-10-23T18:19:05.177379Z",
     "shell.execute_reply": "2025-10-23T18:19:05.176399Z"
    },
    "jupyter": {
     "source_hidden": true
    },
    "papermill": {
     "duration": 4.286292,
     "end_time": "2025-10-23T18:19:05.179112",
     "exception": false,
     "start_time": "2025-10-23T18:19:00.892820",
     "status": "completed"
    },
    "tags": []
   },
   "outputs": [],
   "source": [
    "import pandas as pd\n",
    "\n",
    "asr = pd.read_csv(f'{dataset_path}/Amazon Sale Report.csv', low_memory=False)\n",
    "expense = pd.read_csv(f'{dataset_path}/Expense IIGF.csv')\n",
    "may = pd.read_csv(f'{dataset_path}/May-2022.csv')\n",
    "sales = pd.read_csv(f'{dataset_path}/Sale Report.csv')\n",
    "cc = pd.read_csv(f'{dataset_path}/Cloud Warehouse Compersion Chart.csv')\n",
    "march = pd.read_csv(f'{dataset_path}/P  L March 2021.csv')\n",
    "international = pd.read_csv(f'{dataset_path}/International sale Report.csv')"
   ]
  },
  {
   "cell_type": "code",
   "execution_count": 3,
   "id": "5e2dfc70",
   "metadata": {
    "execution": {
     "iopub.execute_input": "2025-10-23T18:19:05.194469Z",
     "iopub.status.busy": "2025-10-23T18:19:05.194149Z",
     "iopub.status.idle": "2025-10-23T18:19:11.351736Z",
     "shell.execute_reply": "2025-10-23T18:19:11.350774Z"
    },
    "jupyter": {
     "source_hidden": true
    },
    "papermill": {
     "duration": 6.167306,
     "end_time": "2025-10-23T18:19:11.353541",
     "exception": false,
     "start_time": "2025-10-23T18:19:05.186235",
     "status": "completed"
    },
    "tags": []
   },
   "outputs": [
    {
     "name": "stdout",
     "output_type": "stream",
     "text": [
      "Requirement already satisfied: pandasql in /usr/local/lib/python3.11/dist-packages (0.7.3)\r\n",
      "Requirement already satisfied: numpy in /usr/local/lib/python3.11/dist-packages (from pandasql) (1.26.4)\r\n",
      "Requirement already satisfied: pandas in /usr/local/lib/python3.11/dist-packages (from pandasql) (2.2.3)\r\n",
      "Requirement already satisfied: sqlalchemy in /usr/local/lib/python3.11/dist-packages (from pandasql) (2.0.41)\r\n",
      "Requirement already satisfied: mkl_fft in /usr/local/lib/python3.11/dist-packages (from numpy->pandasql) (1.3.8)\r\n",
      "Requirement already satisfied: mkl_random in /usr/local/lib/python3.11/dist-packages (from numpy->pandasql) (1.2.4)\r\n",
      "Requirement already satisfied: mkl_umath in /usr/local/lib/python3.11/dist-packages (from numpy->pandasql) (0.1.1)\r\n",
      "Requirement already satisfied: mkl in /usr/local/lib/python3.11/dist-packages (from numpy->pandasql) (2025.2.0)\r\n",
      "Requirement already satisfied: tbb4py in /usr/local/lib/python3.11/dist-packages (from numpy->pandasql) (2022.2.0)\r\n",
      "Requirement already satisfied: mkl-service in /usr/local/lib/python3.11/dist-packages (from numpy->pandasql) (2.4.1)\r\n",
      "Requirement already satisfied: python-dateutil>=2.8.2 in /usr/local/lib/python3.11/dist-packages (from pandas->pandasql) (2.9.0.post0)\r\n",
      "Requirement already satisfied: pytz>=2020.1 in /usr/local/lib/python3.11/dist-packages (from pandas->pandasql) (2025.2)\r\n",
      "Requirement already satisfied: tzdata>=2022.7 in /usr/local/lib/python3.11/dist-packages (from pandas->pandasql) (2025.2)\r\n",
      "Requirement already satisfied: greenlet>=1 in /usr/local/lib/python3.11/dist-packages (from sqlalchemy->pandasql) (3.2.3)\r\n",
      "Requirement already satisfied: typing-extensions>=4.6.0 in /usr/local/lib/python3.11/dist-packages (from sqlalchemy->pandasql) (4.15.0)\r\n",
      "Requirement already satisfied: six>=1.5 in /usr/local/lib/python3.11/dist-packages (from python-dateutil>=2.8.2->pandas->pandasql) (1.17.0)\r\n",
      "Requirement already satisfied: intel-openmp<2026,>=2024 in /usr/local/lib/python3.11/dist-packages (from mkl->numpy->pandasql) (2024.2.0)\r\n",
      "Requirement already satisfied: tbb==2022.* in /usr/local/lib/python3.11/dist-packages (from mkl->numpy->pandasql) (2022.2.0)\r\n",
      "Requirement already satisfied: tcmlib==1.* in /usr/local/lib/python3.11/dist-packages (from tbb==2022.*->mkl->numpy->pandasql) (1.4.0)\r\n",
      "Requirement already satisfied: intel-cmplr-lib-rt in /usr/local/lib/python3.11/dist-packages (from mkl_umath->numpy->pandasql) (2024.2.0)\r\n",
      "Requirement already satisfied: intel-cmplr-lib-ur==2024.2.0 in /usr/local/lib/python3.11/dist-packages (from intel-openmp<2026,>=2024->mkl->numpy->pandasql) (2024.2.0)\r\n"
     ]
    }
   ],
   "source": [
    "!pip install pandasql\n",
    "import pandasql as psql\n",
    "from pandasql import sqldf\n",
    "\n",
    "# Helper function\n",
    "pysqldf = lambda q: sqldf(q, globals())\n",
    "def run_query(query):\n",
    "    return psql.sqldf(query, globals())"
   ]
  },
  {
   "cell_type": "markdown",
   "id": "149fd9b8",
   "metadata": {
    "papermill": {
     "duration": 0.006678,
     "end_time": "2025-10-23T18:19:11.367591",
     "exception": false,
     "start_time": "2025-10-23T18:19:11.360913",
     "status": "completed"
    },
    "tags": []
   },
   "source": [
    "# Verification"
   ]
  },
  {
   "cell_type": "code",
   "execution_count": 4,
   "id": "005056a1",
   "metadata": {
    "execution": {
     "iopub.execute_input": "2025-10-23T18:19:11.383337Z",
     "iopub.status.busy": "2025-10-23T18:19:11.382701Z",
     "iopub.status.idle": "2025-10-23T18:19:11.412786Z",
     "shell.execute_reply": "2025-10-23T18:19:11.411661Z"
    },
    "jupyter": {
     "source_hidden": true
    },
    "papermill": {
     "duration": 0.040221,
     "end_time": "2025-10-23T18:19:11.414756",
     "exception": false,
     "start_time": "2025-10-23T18:19:11.374535",
     "status": "completed"
    },
    "tags": []
   },
   "outputs": [
    {
     "name": "stdout",
     "output_type": "stream",
     "text": [
      "   index             Order ID      Date                        Status  \\\n",
      "0      0  405-8078784-5731545  04-30-22                     Cancelled   \n",
      "1      1  171-9198151-1101146  04-30-22  Shipped - Delivered to Buyer   \n",
      "2      2  404-0687676-7273146  04-30-22                       Shipped   \n",
      "3      3  403-9615377-8133951  04-30-22                     Cancelled   \n",
      "4      4  407-1069790-7240320  04-30-22                       Shipped   \n",
      "\n",
      "  Fulfilment Sales Channel  ship-service-level    Style              SKU  \\\n",
      "0   Merchant      Amazon.in           Standard   SET389   SET389-KR-NP-S   \n",
      "1   Merchant      Amazon.in           Standard  JNE3781  JNE3781-KR-XXXL   \n",
      "2     Amazon      Amazon.in          Expedited  JNE3371    JNE3371-KR-XL   \n",
      "3   Merchant      Amazon.in           Standard    J0341       J0341-DR-L   \n",
      "4     Amazon      Amazon.in          Expedited  JNE3671  JNE3671-TU-XXXL   \n",
      "\n",
      "        Category  ... currency  Amount    ship-city   ship-state  \\\n",
      "0            Set  ...      INR  647.62       MUMBAI  MAHARASHTRA   \n",
      "1          kurta  ...      INR  406.00    BENGALURU    KARNATAKA   \n",
      "2          kurta  ...      INR  329.00  NAVI MUMBAI  MAHARASHTRA   \n",
      "3  Western Dress  ...      INR  753.33   PUDUCHERRY   PUDUCHERRY   \n",
      "4            Top  ...      INR  574.00      CHENNAI   TAMIL NADU   \n",
      "\n",
      "  ship-postal-code  ship-country  \\\n",
      "0         400081.0            IN   \n",
      "1         560085.0            IN   \n",
      "2         410210.0            IN   \n",
      "3         605008.0            IN   \n",
      "4         600073.0            IN   \n",
      "\n",
      "                                       promotion-ids    B2B  fulfilled-by  \\\n",
      "0                                                NaN  False     Easy Ship   \n",
      "1  Amazon PLCC Free-Financing Universal Merchant ...  False     Easy Ship   \n",
      "2       IN Core Free Shipping 2015/04/08 23-48-5-108   True           NaN   \n",
      "3                                                NaN  False     Easy Ship   \n",
      "4                                                NaN  False           NaN   \n",
      "\n",
      "  Unnamed: 22  \n",
      "0         NaN  \n",
      "1         NaN  \n",
      "2         NaN  \n",
      "3         NaN  \n",
      "4         NaN  \n",
      "\n",
      "[5 rows x 24 columns]\n"
     ]
    }
   ],
   "source": [
    "print(asr.head())"
   ]
  },
  {
   "cell_type": "code",
   "execution_count": 5,
   "id": "2a24783d",
   "metadata": {
    "execution": {
     "iopub.execute_input": "2025-10-23T18:19:11.430624Z",
     "iopub.status.busy": "2025-10-23T18:19:11.430313Z",
     "iopub.status.idle": "2025-10-23T18:19:11.438689Z",
     "shell.execute_reply": "2025-10-23T18:19:11.437593Z"
    },
    "jupyter": {
     "source_hidden": true
    },
    "papermill": {
     "duration": 0.018023,
     "end_time": "2025-10-23T18:19:11.440146",
     "exception": false,
     "start_time": "2025-10-23T18:19:11.422123",
     "status": "completed"
    },
    "tags": []
   },
   "outputs": [
    {
     "name": "stdout",
     "output_type": "stream",
     "text": [
      "   index       SKU Code Design No.  Stock       Category Size Color\n",
      "0      0    AN201-RED-L      AN201    5.0  AN : LEGGINGS    L   Red\n",
      "1      1    AN201-RED-M      AN201    5.0  AN : LEGGINGS    M   Red\n",
      "2      2    AN201-RED-S      AN201    3.0  AN : LEGGINGS    S   Red\n",
      "3      3   AN201-RED-XL      AN201    6.0  AN : LEGGINGS   XL   Red\n",
      "4      4  AN201-RED-XXL      AN201    3.0  AN : LEGGINGS  XXL   Red\n"
     ]
    }
   ],
   "source": [
    "print(sales.head())"
   ]
  },
  {
   "cell_type": "code",
   "execution_count": 6,
   "id": "23146468",
   "metadata": {
    "_kg_hide-input": true,
    "execution": {
     "iopub.execute_input": "2025-10-23T18:19:11.455983Z",
     "iopub.status.busy": "2025-10-23T18:19:11.455673Z",
     "iopub.status.idle": "2025-10-23T18:19:11.463822Z",
     "shell.execute_reply": "2025-10-23T18:19:11.462661Z"
    },
    "jupyter": {
     "source_hidden": true
    },
    "papermill": {
     "duration": 0.017859,
     "end_time": "2025-10-23T18:19:11.465420",
     "exception": false,
     "start_time": "2025-10-23T18:19:11.447561",
     "status": "completed"
    },
    "tags": []
   },
   "outputs": [
    {
     "name": "stdout",
     "output_type": "stream",
     "text": [
      "   index      DATE  Months            CUSTOMER    Style             SKU Size  \\\n",
      "0      0  06-05-21  Jun-21  REVATHY LOGANATHAN  MEN5004    MEN5004-KR-L    L   \n",
      "1      1  06-05-21  Jun-21  REVATHY LOGANATHAN  MEN5004   MEN5004-KR-XL   XL   \n",
      "2      2  06-05-21  Jun-21  REVATHY LOGANATHAN  MEN5004  MEN5004-KR-XXL  XXL   \n",
      "3      3  06-05-21  Jun-21  REVATHY LOGANATHAN  MEN5009    MEN5009-KR-L    L   \n",
      "4      4  06-05-21  Jun-21  REVATHY LOGANATHAN  MEN5011    MEN5011-KR-L    L   \n",
      "\n",
      "    PCS    RATE GROSS AMT  \n",
      "0  1.00  616.56    617.00  \n",
      "1  1.00  616.56    617.00  \n",
      "2  1.00  616.56    617.00  \n",
      "3  1.00  616.56    617.00  \n",
      "4  1.00  616.56    617.00  \n"
     ]
    }
   ],
   "source": [
    "print(international.head())"
   ]
  },
  {
   "cell_type": "code",
   "execution_count": 7,
   "id": "be01501d",
   "metadata": {
    "execution": {
     "iopub.execute_input": "2025-10-23T18:19:11.481471Z",
     "iopub.status.busy": "2025-10-23T18:19:11.480743Z",
     "iopub.status.idle": "2025-10-23T18:19:11.488190Z",
     "shell.execute_reply": "2025-10-23T18:19:11.487115Z"
    },
    "jupyter": {
     "source_hidden": true
    },
    "papermill": {
     "duration": 0.0169,
     "end_time": "2025-10-23T18:19:11.489598",
     "exception": false,
     "start_time": "2025-10-23T18:19:11.472698",
     "status": "completed"
    },
    "tags": []
   },
   "outputs": [
    {
     "name": "stdout",
     "output_type": "stream",
     "text": [
      "   index Recived Amount Unnamed: 1  \\\n",
      "0      0     Particular     Amount   \n",
      "1      1       06-19-22       1000   \n",
      "2      2       06-20-22       1500   \n",
      "3      3       06-22-22        500   \n",
      "4      4       06-23-22       2000   \n",
      "\n",
      "                                             Expance Unnamed: 3  \n",
      "0                                         Particular     Amount  \n",
      "1                                          Large Bag        380  \n",
      "2  Stationary(Soft Pin, Paper pin for Dupatta, Fe...        170  \n",
      "3                                                OLA        839  \n",
      "4                                          Auto Rent        520  \n"
     ]
    }
   ],
   "source": [
    "print(expense.head())"
   ]
  },
  {
   "cell_type": "code",
   "execution_count": 8,
   "id": "12ec5150",
   "metadata": {
    "execution": {
     "iopub.execute_input": "2025-10-23T18:19:11.505413Z",
     "iopub.status.busy": "2025-10-23T18:19:11.505096Z",
     "iopub.status.idle": "2025-10-23T18:19:11.515348Z",
     "shell.execute_reply": "2025-10-23T18:19:11.514359Z"
    },
    "jupyter": {
     "source_hidden": true
    },
    "papermill": {
     "duration": 0.019782,
     "end_time": "2025-10-23T18:19:11.516789",
     "exception": false,
     "start_time": "2025-10-23T18:19:11.497007",
     "status": "completed"
    },
    "tags": []
   },
   "outputs": [
    {
     "name": "stdout",
     "output_type": "stream",
     "text": [
      "   index             Sku    Style Id  Catalog Category Weight   TP MRP Old  \\\n",
      "0      0    Os206_3141_S  Os206_3141  Moments    Kurta    0.3  538    2178   \n",
      "1      1    Os206_3141_M  Os206_3141  Moments    Kurta    0.3  538    2178   \n",
      "2      2    Os206_3141_L  Os206_3141  Moments    Kurta    0.3  538    2178   \n",
      "3      3   Os206_3141_XL  Os206_3141  Moments    Kurta    0.3  538    2178   \n",
      "4      4  Os206_3141_2XL  Os206_3141  Moments    Kurta    0.3  538    2178   \n",
      "\n",
      "  Final MRP Old Ajio MRP Amazon MRP Amazon FBA MRP Flipkart MRP Limeroad MRP  \\\n",
      "0          2295     2295       2295           2295         2295         2295   \n",
      "1          2295     2295       2295           2295         2295         2295   \n",
      "2          2295     2295       2295           2295         2295         2295   \n",
      "3          2295     2295       2295           2295         2295         2295   \n",
      "4          2295     2295       2295           2295         2295         2295   \n",
      "\n",
      "  Myntra MRP Paytm MRP Snapdeal MRP  \n",
      "0       2295      2295         2295  \n",
      "1       2295      2295         2295  \n",
      "2       2295      2295         2295  \n",
      "3       2295      2295         2295  \n",
      "4       2295      2295         2295  \n"
     ]
    }
   ],
   "source": [
    "print(may.head())"
   ]
  },
  {
   "cell_type": "code",
   "execution_count": 9,
   "id": "af8a89d1",
   "metadata": {
    "execution": {
     "iopub.execute_input": "2025-10-23T18:19:11.532925Z",
     "iopub.status.busy": "2025-10-23T18:19:11.532585Z",
     "iopub.status.idle": "2025-10-23T18:19:11.539719Z",
     "shell.execute_reply": "2025-10-23T18:19:11.538752Z"
    },
    "jupyter": {
     "source_hidden": true
    },
    "papermill": {
     "duration": 0.0177,
     "end_time": "2025-10-23T18:19:11.542023",
     "exception": false,
     "start_time": "2025-10-23T18:19:11.524323",
     "status": "completed"
    },
    "tags": []
   },
   "outputs": [
    {
     "name": "stdout",
     "output_type": "stream",
     "text": [
      "   index                        Shiprocket        Unnamed: 1  \\\n",
      "0      0                             Heads  Price (Per Unit)   \n",
      "1      1     Inbound (Fresh Stock and RTO)             ₹4.00   \n",
      "2      2                          Outbound             ₹7.00   \n",
      "3      3                   Storage Fee/Cft            ₹25.00   \n",
      "4      4  Customer Return with Detailed QC             ₹6.00   \n",
      "\n",
      "             INCREFF  \n",
      "0   Price (Per Unit)  \n",
      "1                  4  \n",
      "2                 11  \n",
      "3  Rs 0.15/- Per Day  \n",
      "4               15.5  \n"
     ]
    }
   ],
   "source": [
    "print(cc.head())"
   ]
  },
  {
   "cell_type": "code",
   "execution_count": 10,
   "id": "1293560b",
   "metadata": {
    "execution": {
     "iopub.execute_input": "2025-10-23T18:19:11.558891Z",
     "iopub.status.busy": "2025-10-23T18:19:11.558556Z",
     "iopub.status.idle": "2025-10-23T18:19:11.568404Z",
     "shell.execute_reply": "2025-10-23T18:19:11.567215Z"
    },
    "jupyter": {
     "source_hidden": true
    },
    "papermill": {
     "duration": 0.019696,
     "end_time": "2025-10-23T18:19:11.569840",
     "exception": false,
     "start_time": "2025-10-23T18:19:11.550144",
     "status": "completed"
    },
    "tags": []
   },
   "outputs": [
    {
     "name": "stdout",
     "output_type": "stream",
     "text": [
      "   index             Sku    Style Id  Catalog Category Weight TP 1    TP 2  \\\n",
      "0      0    Os206_3141_S  Os206_3141  Moments    Kurta    0.3  538  435.78   \n",
      "1      1    Os206_3141_M  Os206_3141  Moments    Kurta    0.3  538  435.78   \n",
      "2      2    Os206_3141_L  Os206_3141  Moments    Kurta    0.3  538  435.78   \n",
      "3      3   Os206_3141_XL  Os206_3141  Moments    Kurta    0.3  538  435.78   \n",
      "4      4  Os206_3141_2XL  Os206_3141  Moments    Kurta    0.3  538  435.78   \n",
      "\n",
      "  MRP Old Final MRP Old Ajio MRP Amazon MRP Amazon FBA MRP Flipkart MRP  \\\n",
      "0    2178          2295     2295       2295           2295         2295   \n",
      "1    2178          2295     2295       2295           2295         2295   \n",
      "2    2178          2295     2295       2295           2295         2295   \n",
      "3    2178          2295     2295       2295           2295         2295   \n",
      "4    2178          2295     2295       2295           2295         2295   \n",
      "\n",
      "  Limeroad MRP Myntra MRP Paytm MRP Snapdeal MRP  \n",
      "0         2295       2295      2295         2295  \n",
      "1         2295       2295      2295         2295  \n",
      "2         2295       2295      2295         2295  \n",
      "3         2295       2295      2295         2295  \n",
      "4         2295       2295      2295         2295  \n"
     ]
    }
   ],
   "source": [
    "print(march.head())"
   ]
  },
  {
   "cell_type": "code",
   "execution_count": 11,
   "id": "925931c7",
   "metadata": {
    "execution": {
     "iopub.execute_input": "2025-10-23T18:19:11.586348Z",
     "iopub.status.busy": "2025-10-23T18:19:11.586036Z",
     "iopub.status.idle": "2025-10-23T18:19:11.746825Z",
     "shell.execute_reply": "2025-10-23T18:19:11.745669Z"
    },
    "jupyter": {
     "source_hidden": true
    },
    "papermill": {
     "duration": 0.170818,
     "end_time": "2025-10-23T18:19:11.748354",
     "exception": false,
     "start_time": "2025-10-23T18:19:11.577536",
     "status": "completed"
    },
    "tags": []
   },
   "outputs": [
    {
     "name": "stdout",
     "output_type": "stream",
     "text": [
      "<class 'pandas.core.frame.DataFrame'>\n",
      "RangeIndex: 128975 entries, 0 to 128974\n",
      "Data columns (total 24 columns):\n",
      " #   Column              Non-Null Count   Dtype  \n",
      "---  ------              --------------   -----  \n",
      " 0   index               128975 non-null  int64  \n",
      " 1   Order ID            128975 non-null  object \n",
      " 2   Date                128975 non-null  object \n",
      " 3   Status              128975 non-null  object \n",
      " 4   Fulfilment          128975 non-null  object \n",
      " 5   Sales Channel       128975 non-null  object \n",
      " 6   ship-service-level  128975 non-null  object \n",
      " 7   Style               128975 non-null  object \n",
      " 8   SKU                 128975 non-null  object \n",
      " 9   Category            128975 non-null  object \n",
      " 10  Size                128975 non-null  object \n",
      " 11  ASIN                128975 non-null  object \n",
      " 12  Courier Status      122103 non-null  object \n",
      " 13  Qty                 128975 non-null  int64  \n",
      " 14  currency            121180 non-null  object \n",
      " 15  Amount              121180 non-null  float64\n",
      " 16  ship-city           128942 non-null  object \n",
      " 17  ship-state          128942 non-null  object \n",
      " 18  ship-postal-code    128942 non-null  float64\n",
      " 19  ship-country        128942 non-null  object \n",
      " 20  promotion-ids       79822 non-null   object \n",
      " 21  B2B                 128975 non-null  bool   \n",
      " 22  fulfilled-by        39277 non-null   object \n",
      " 23  Unnamed: 22         79925 non-null   object \n",
      "dtypes: bool(1), float64(2), int64(2), object(19)\n",
      "memory usage: 22.8+ MB\n",
      "None\n"
     ]
    }
   ],
   "source": [
    "print(asr.info())"
   ]
  },
  {
   "cell_type": "code",
   "execution_count": 12,
   "id": "6a6643de",
   "metadata": {
    "execution": {
     "iopub.execute_input": "2025-10-23T18:19:11.765902Z",
     "iopub.status.busy": "2025-10-23T18:19:11.764860Z",
     "iopub.status.idle": "2025-10-23T18:19:11.778389Z",
     "shell.execute_reply": "2025-10-23T18:19:11.776956Z"
    },
    "jupyter": {
     "source_hidden": true
    },
    "papermill": {
     "duration": 0.023812,
     "end_time": "2025-10-23T18:19:11.780038",
     "exception": false,
     "start_time": "2025-10-23T18:19:11.756226",
     "status": "completed"
    },
    "tags": []
   },
   "outputs": [
    {
     "name": "stdout",
     "output_type": "stream",
     "text": [
      "<class 'pandas.core.frame.DataFrame'>\n",
      "RangeIndex: 9271 entries, 0 to 9270\n",
      "Data columns (total 7 columns):\n",
      " #   Column      Non-Null Count  Dtype  \n",
      "---  ------      --------------  -----  \n",
      " 0   index       9271 non-null   int64  \n",
      " 1   SKU Code    9188 non-null   object \n",
      " 2   Design No.  9235 non-null   object \n",
      " 3   Stock       9235 non-null   float64\n",
      " 4   Category    9226 non-null   object \n",
      " 5   Size        9235 non-null   object \n",
      " 6   Color       9226 non-null   object \n",
      "dtypes: float64(1), int64(1), object(5)\n",
      "memory usage: 507.1+ KB\n",
      "None\n"
     ]
    }
   ],
   "source": [
    "print(sales.info())"
   ]
  },
  {
   "cell_type": "code",
   "execution_count": 13,
   "id": "8b61b706",
   "metadata": {
    "execution": {
     "iopub.execute_input": "2025-10-23T18:19:11.797048Z",
     "iopub.status.busy": "2025-10-23T18:19:11.796566Z",
     "iopub.status.idle": "2025-10-23T18:19:11.824254Z",
     "shell.execute_reply": "2025-10-23T18:19:11.822783Z"
    },
    "jupyter": {
     "source_hidden": true
    },
    "papermill": {
     "duration": 0.037682,
     "end_time": "2025-10-23T18:19:11.825827",
     "exception": false,
     "start_time": "2025-10-23T18:19:11.788145",
     "status": "completed"
    },
    "tags": []
   },
   "outputs": [
    {
     "name": "stdout",
     "output_type": "stream",
     "text": [
      "<class 'pandas.core.frame.DataFrame'>\n",
      "RangeIndex: 37432 entries, 0 to 37431\n",
      "Data columns (total 10 columns):\n",
      " #   Column     Non-Null Count  Dtype \n",
      "---  ------     --------------  ----- \n",
      " 0   index      37432 non-null  int64 \n",
      " 1   DATE       37431 non-null  object\n",
      " 2   Months     37407 non-null  object\n",
      " 3   CUSTOMER   36392 non-null  object\n",
      " 4   Style      36392 non-null  object\n",
      " 5   SKU        34958 non-null  object\n",
      " 6   Size       36392 non-null  object\n",
      " 7   PCS        36392 non-null  object\n",
      " 8   RATE       36392 non-null  object\n",
      " 9   GROSS AMT  36392 non-null  object\n",
      "dtypes: int64(1), object(9)\n",
      "memory usage: 2.9+ MB\n",
      "None\n"
     ]
    }
   ],
   "source": [
    "print(international.info())"
   ]
  },
  {
   "cell_type": "code",
   "execution_count": 14,
   "id": "16acfbc1",
   "metadata": {
    "execution": {
     "iopub.execute_input": "2025-10-23T18:19:11.843027Z",
     "iopub.status.busy": "2025-10-23T18:19:11.842697Z",
     "iopub.status.idle": "2025-10-23T18:19:11.852798Z",
     "shell.execute_reply": "2025-10-23T18:19:11.851578Z"
    },
    "jupyter": {
     "source_hidden": true
    },
    "papermill": {
     "duration": 0.020194,
     "end_time": "2025-10-23T18:19:11.854290",
     "exception": false,
     "start_time": "2025-10-23T18:19:11.834096",
     "status": "completed"
    },
    "tags": []
   },
   "outputs": [
    {
     "name": "stdout",
     "output_type": "stream",
     "text": [
      "<class 'pandas.core.frame.DataFrame'>\n",
      "RangeIndex: 17 entries, 0 to 16\n",
      "Data columns (total 5 columns):\n",
      " #   Column          Non-Null Count  Dtype \n",
      "---  ------          --------------  ----- \n",
      " 0   index           17 non-null     int64 \n",
      " 1   Recived Amount  6 non-null      object\n",
      " 2   Unnamed: 1      6 non-null      object\n",
      " 3   Expance         15 non-null     object\n",
      " 4   Unnamed: 3      17 non-null     object\n",
      "dtypes: int64(1), object(4)\n",
      "memory usage: 812.0+ bytes\n",
      "None\n"
     ]
    }
   ],
   "source": [
    "print(expense.info())"
   ]
  },
  {
   "cell_type": "code",
   "execution_count": 15,
   "id": "1626e0c3",
   "metadata": {
    "execution": {
     "iopub.execute_input": "2025-10-23T18:19:11.871809Z",
     "iopub.status.busy": "2025-10-23T18:19:11.871502Z",
     "iopub.status.idle": "2025-10-23T18:19:11.884007Z",
     "shell.execute_reply": "2025-10-23T18:19:11.882791Z"
    },
    "jupyter": {
     "source_hidden": true
    },
    "papermill": {
     "duration": 0.023027,
     "end_time": "2025-10-23T18:19:11.885475",
     "exception": false,
     "start_time": "2025-10-23T18:19:11.862448",
     "status": "completed"
    },
    "tags": []
   },
   "outputs": [
    {
     "name": "stdout",
     "output_type": "stream",
     "text": [
      "<class 'pandas.core.frame.DataFrame'>\n",
      "RangeIndex: 1330 entries, 0 to 1329\n",
      "Data columns (total 17 columns):\n",
      " #   Column          Non-Null Count  Dtype \n",
      "---  ------          --------------  ----- \n",
      " 0   index           1330 non-null   int64 \n",
      " 1   Sku             1330 non-null   object\n",
      " 2   Style Id        1330 non-null   object\n",
      " 3   Catalog         1330 non-null   object\n",
      " 4   Category        1330 non-null   object\n",
      " 5   Weight          1330 non-null   object\n",
      " 6   TP              1330 non-null   object\n",
      " 7   MRP Old         1330 non-null   object\n",
      " 8   Final MRP Old   1330 non-null   object\n",
      " 9   Ajio MRP        1330 non-null   object\n",
      " 10  Amazon MRP      1330 non-null   object\n",
      " 11  Amazon FBA MRP  1330 non-null   object\n",
      " 12  Flipkart MRP    1330 non-null   object\n",
      " 13  Limeroad MRP    1330 non-null   object\n",
      " 14  Myntra MRP      1330 non-null   object\n",
      " 15  Paytm MRP       1330 non-null   object\n",
      " 16  Snapdeal MRP    1330 non-null   object\n",
      "dtypes: int64(1), object(16)\n",
      "memory usage: 176.8+ KB\n",
      "None\n"
     ]
    }
   ],
   "source": [
    "print(may.info())"
   ]
  },
  {
   "cell_type": "code",
   "execution_count": 16,
   "id": "7cad4ca2",
   "metadata": {
    "execution": {
     "iopub.execute_input": "2025-10-23T18:19:11.902927Z",
     "iopub.status.busy": "2025-10-23T18:19:11.902613Z",
     "iopub.status.idle": "2025-10-23T18:19:11.912232Z",
     "shell.execute_reply": "2025-10-23T18:19:11.911124Z"
    },
    "jupyter": {
     "source_hidden": true
    },
    "papermill": {
     "duration": 0.019936,
     "end_time": "2025-10-23T18:19:11.913691",
     "exception": false,
     "start_time": "2025-10-23T18:19:11.893755",
     "status": "completed"
    },
    "tags": []
   },
   "outputs": [
    {
     "name": "stdout",
     "output_type": "stream",
     "text": [
      "<class 'pandas.core.frame.DataFrame'>\n",
      "RangeIndex: 50 entries, 0 to 49\n",
      "Data columns (total 4 columns):\n",
      " #   Column      Non-Null Count  Dtype \n",
      "---  ------      --------------  ----- \n",
      " 0   index       50 non-null     int64 \n",
      " 1   Shiprocket  21 non-null     object\n",
      " 2   Unnamed: 1  41 non-null     object\n",
      " 3   INCREFF     28 non-null     object\n",
      "dtypes: int64(1), object(3)\n",
      "memory usage: 1.7+ KB\n",
      "None\n"
     ]
    }
   ],
   "source": [
    "print(cc.info())"
   ]
  },
  {
   "cell_type": "code",
   "execution_count": 17,
   "id": "e9b8a0a3",
   "metadata": {
    "execution": {
     "iopub.execute_input": "2025-10-23T18:19:11.931284Z",
     "iopub.status.busy": "2025-10-23T18:19:11.931003Z",
     "iopub.status.idle": "2025-10-23T18:19:11.943893Z",
     "shell.execute_reply": "2025-10-23T18:19:11.942553Z"
    },
    "jupyter": {
     "source_hidden": true
    },
    "papermill": {
     "duration": 0.023848,
     "end_time": "2025-10-23T18:19:11.945571",
     "exception": false,
     "start_time": "2025-10-23T18:19:11.921723",
     "status": "completed"
    },
    "tags": []
   },
   "outputs": [
    {
     "name": "stdout",
     "output_type": "stream",
     "text": [
      "<class 'pandas.core.frame.DataFrame'>\n",
      "RangeIndex: 1330 entries, 0 to 1329\n",
      "Data columns (total 18 columns):\n",
      " #   Column          Non-Null Count  Dtype \n",
      "---  ------          --------------  ----- \n",
      " 0   index           1330 non-null   int64 \n",
      " 1   Sku             1330 non-null   object\n",
      " 2   Style Id        1330 non-null   object\n",
      " 3   Catalog         1330 non-null   object\n",
      " 4   Category        1330 non-null   object\n",
      " 5   Weight          1330 non-null   object\n",
      " 6   TP 1            1330 non-null   object\n",
      " 7   TP 2            1330 non-null   object\n",
      " 8   MRP Old         1330 non-null   object\n",
      " 9   Final MRP Old   1330 non-null   object\n",
      " 10  Ajio MRP        1330 non-null   object\n",
      " 11  Amazon MRP      1330 non-null   object\n",
      " 12  Amazon FBA MRP  1330 non-null   object\n",
      " 13  Flipkart MRP    1330 non-null   object\n",
      " 14  Limeroad MRP    1330 non-null   object\n",
      " 15  Myntra MRP      1330 non-null   object\n",
      " 16  Paytm MRP       1330 non-null   object\n",
      " 17  Snapdeal MRP    1330 non-null   object\n",
      "dtypes: int64(1), object(17)\n",
      "memory usage: 187.2+ KB\n",
      "None\n"
     ]
    }
   ],
   "source": [
    "print(march.info())"
   ]
  },
  {
   "cell_type": "markdown",
   "id": "1b3ea93c",
   "metadata": {
    "papermill": {
     "duration": 0.008246,
     "end_time": "2025-10-23T18:19:11.961954",
     "exception": false,
     "start_time": "2025-10-23T18:19:11.953708",
     "status": "completed"
    },
    "tags": []
   },
   "source": [
    "# SQL Queries based off of SKU's"
   ]
  },
  {
   "cell_type": "markdown",
   "id": "207cf53a",
   "metadata": {
    "papermill": {
     "duration": 0.008439,
     "end_time": "2025-10-23T18:19:11.978989",
     "exception": false,
     "start_time": "2025-10-23T18:19:11.970550",
     "status": "completed"
    },
    "tags": []
   },
   "source": [
    "## Top 10 Best-Selling SKUs\n",
    "This query shows the 10 SKUs with the highest total units sold across all sales."
   ]
  },
  {
   "cell_type": "code",
   "execution_count": 18,
   "id": "92113566",
   "metadata": {
    "execution": {
     "iopub.execute_input": "2025-10-23T18:19:11.996705Z",
     "iopub.status.busy": "2025-10-23T18:19:11.996398Z",
     "iopub.status.idle": "2025-10-23T18:19:15.994278Z",
     "shell.execute_reply": "2025-10-23T18:19:15.993003Z"
    },
    "jupyter": {
     "source_hidden": true
    },
    "papermill": {
     "duration": 4.008874,
     "end_time": "2025-10-23T18:19:15.995997",
     "exception": false,
     "start_time": "2025-10-23T18:19:11.987123",
     "status": "completed"
    },
    "tags": []
   },
   "outputs": [
    {
     "data": {
      "text/html": [
       "<div>\n",
       "<style scoped>\n",
       "    .dataframe tbody tr th:only-of-type {\n",
       "        vertical-align: middle;\n",
       "    }\n",
       "\n",
       "    .dataframe tbody tr th {\n",
       "        vertical-align: top;\n",
       "    }\n",
       "\n",
       "    .dataframe thead th {\n",
       "        text-align: right;\n",
       "    }\n",
       "</style>\n",
       "<table border=\"1\" class=\"dataframe\">\n",
       "  <thead>\n",
       "    <tr style=\"text-align: right;\">\n",
       "      <th></th>\n",
       "      <th>SKU</th>\n",
       "      <th>total_product</th>\n",
       "    </tr>\n",
       "  </thead>\n",
       "  <tbody>\n",
       "    <tr>\n",
       "      <th>0</th>\n",
       "      <td>JNE3797-KR-L</td>\n",
       "      <td>773</td>\n",
       "    </tr>\n",
       "    <tr>\n",
       "      <th>1</th>\n",
       "      <td>JNE3797-KR-M</td>\n",
       "      <td>657</td>\n",
       "    </tr>\n",
       "    <tr>\n",
       "      <th>2</th>\n",
       "      <td>JNE3797-KR-S</td>\n",
       "      <td>587</td>\n",
       "    </tr>\n",
       "    <tr>\n",
       "      <th>3</th>\n",
       "      <td>JNE3405-KR-L</td>\n",
       "      <td>535</td>\n",
       "    </tr>\n",
       "    <tr>\n",
       "      <th>4</th>\n",
       "      <td>J0230-SKD-M</td>\n",
       "      <td>507</td>\n",
       "    </tr>\n",
       "    <tr>\n",
       "      <th>5</th>\n",
       "      <td>JNE3797-KR-XL</td>\n",
       "      <td>474</td>\n",
       "    </tr>\n",
       "    <tr>\n",
       "      <th>6</th>\n",
       "      <td>J0230-SKD-S</td>\n",
       "      <td>452</td>\n",
       "    </tr>\n",
       "    <tr>\n",
       "      <th>7</th>\n",
       "      <td>JNE3405-KR-S</td>\n",
       "      <td>443</td>\n",
       "    </tr>\n",
       "    <tr>\n",
       "      <th>8</th>\n",
       "      <td>JNE3797-KR-XS</td>\n",
       "      <td>431</td>\n",
       "    </tr>\n",
       "    <tr>\n",
       "      <th>9</th>\n",
       "      <td>JNE3797-KR-XXL</td>\n",
       "      <td>395</td>\n",
       "    </tr>\n",
       "  </tbody>\n",
       "</table>\n",
       "</div>"
      ],
      "text/plain": [
       "              SKU  total_product\n",
       "0    JNE3797-KR-L            773\n",
       "1    JNE3797-KR-M            657\n",
       "2    JNE3797-KR-S            587\n",
       "3    JNE3405-KR-L            535\n",
       "4     J0230-SKD-M            507\n",
       "5   JNE3797-KR-XL            474\n",
       "6     J0230-SKD-S            452\n",
       "7    JNE3405-KR-S            443\n",
       "8   JNE3797-KR-XS            431\n",
       "9  JNE3797-KR-XXL            395"
      ]
     },
     "execution_count": 18,
     "metadata": {},
     "output_type": "execute_result"
    }
   ],
   "source": [
    "#total product based on SKU codes\n",
    "query = \"\"\"\n",
    "Select SKU, count(Qty) as total_product\n",
    "From asr\n",
    "Group by SKU\n",
    "Order by total_product desc\n",
    "Limit 10;\n",
    "\"\"\"\n",
    "pysqldf(query)"
   ]
  },
  {
   "cell_type": "markdown",
   "id": "513a70f1",
   "metadata": {
    "papermill": {
     "duration": 0.008104,
     "end_time": "2025-10-23T18:19:16.012659",
     "exception": false,
     "start_time": "2025-10-23T18:19:16.004555",
     "status": "completed"
    },
    "tags": []
   },
   "source": [
    "## Total Gross Revenue by SKU\n",
    "This query shows total international gross revenue per SKU, highlighting which products generate the most revenue."
   ]
  },
  {
   "cell_type": "code",
   "execution_count": 19,
   "id": "c39dc1b5",
   "metadata": {
    "execution": {
     "iopub.execute_input": "2025-10-23T18:19:16.032856Z",
     "iopub.status.busy": "2025-10-23T18:19:16.032571Z",
     "iopub.status.idle": "2025-10-23T18:19:20.440608Z",
     "shell.execute_reply": "2025-10-23T18:19:20.439778Z"
    },
    "jupyter": {
     "source_hidden": true
    },
    "papermill": {
     "duration": 4.420366,
     "end_time": "2025-10-23T18:19:20.442121",
     "exception": false,
     "start_time": "2025-10-23T18:19:16.021755",
     "status": "completed"
    },
    "tags": []
   },
   "outputs": [
    {
     "data": {
      "text/html": [
       "<div>\n",
       "<style scoped>\n",
       "    .dataframe tbody tr th:only-of-type {\n",
       "        vertical-align: middle;\n",
       "    }\n",
       "\n",
       "    .dataframe tbody tr th {\n",
       "        vertical-align: top;\n",
       "    }\n",
       "\n",
       "    .dataframe thead th {\n",
       "        text-align: right;\n",
       "    }\n",
       "</style>\n",
       "<table border=\"1\" class=\"dataframe\">\n",
       "  <thead>\n",
       "    <tr style=\"text-align: right;\">\n",
       "      <th></th>\n",
       "      <th>total_gross</th>\n",
       "      <th>SKU</th>\n",
       "    </tr>\n",
       "  </thead>\n",
       "  <tbody>\n",
       "    <tr>\n",
       "      <th>0</th>\n",
       "      <td>20240.0</td>\n",
       "      <td>SET413-KR-NP-XXXL</td>\n",
       "    </tr>\n",
       "    <tr>\n",
       "      <th>1</th>\n",
       "      <td>14960.0</td>\n",
       "      <td>SET413-KR-NP-XXL</td>\n",
       "    </tr>\n",
       "    <tr>\n",
       "      <th>2</th>\n",
       "      <td>23348.0</td>\n",
       "      <td>SET413-KR-NP-XS</td>\n",
       "    </tr>\n",
       "    <tr>\n",
       "      <th>3</th>\n",
       "      <td>24050.0</td>\n",
       "      <td>SET413-KR-NP-XL</td>\n",
       "    </tr>\n",
       "    <tr>\n",
       "      <th>4</th>\n",
       "      <td>24076.0</td>\n",
       "      <td>SET413-KR-NP-S</td>\n",
       "    </tr>\n",
       "  </tbody>\n",
       "</table>\n",
       "</div>"
      ],
      "text/plain": [
       "   total_gross                SKU\n",
       "0      20240.0  SET413-KR-NP-XXXL\n",
       "1      14960.0   SET413-KR-NP-XXL\n",
       "2      23348.0    SET413-KR-NP-XS\n",
       "3      24050.0    SET413-KR-NP-XL\n",
       "4      24076.0     SET413-KR-NP-S"
      ]
     },
     "execution_count": 19,
     "metadata": {},
     "output_type": "execute_result"
    }
   ],
   "source": [
    "#how much a SKU made in revenue\n",
    "query = \"\"\"\n",
    "Select sum(international.\"GROSS AMT\") as total_gross, asr.sku\n",
    "From asr\n",
    "Join international on asr.SKU = international.SKU\n",
    "Group by asr.sku\n",
    "Order by asr.sku desc\n",
    "Limit 5;\n",
    "\"\"\"\n",
    "pysqldf(query)"
   ]
  },
  {
   "cell_type": "markdown",
   "id": "af8758a1",
   "metadata": {
    "papermill": {
     "duration": 0.00817,
     "end_time": "2025-10-23T18:19:20.458959",
     "exception": false,
     "start_time": "2025-10-23T18:19:20.450789",
     "status": "completed"
    },
    "tags": []
   },
   "source": [
    "## SKU Sales Distribution by State\n",
    "This query shows how many units of each SKU were purchased in each state, along with the total gross per SKU."
   ]
  },
  {
   "cell_type": "code",
   "execution_count": 20,
   "id": "ac6cda59",
   "metadata": {
    "execution": {
     "iopub.execute_input": "2025-10-23T18:19:20.477803Z",
     "iopub.status.busy": "2025-10-23T18:19:20.476956Z",
     "iopub.status.idle": "2025-10-23T18:19:24.635633Z",
     "shell.execute_reply": "2025-10-23T18:19:24.634738Z"
    },
    "jupyter": {
     "source_hidden": true
    },
    "papermill": {
     "duration": 4.169614,
     "end_time": "2025-10-23T18:19:24.636996",
     "exception": false,
     "start_time": "2025-10-23T18:19:20.467382",
     "status": "completed"
    },
    "tags": []
   },
   "outputs": [
    {
     "data": {
      "text/html": [
       "<div>\n",
       "<style scoped>\n",
       "    .dataframe tbody tr th:only-of-type {\n",
       "        vertical-align: middle;\n",
       "    }\n",
       "\n",
       "    .dataframe tbody tr th {\n",
       "        vertical-align: top;\n",
       "    }\n",
       "\n",
       "    .dataframe thead th {\n",
       "        text-align: right;\n",
       "    }\n",
       "</style>\n",
       "<table border=\"1\" class=\"dataframe\">\n",
       "  <thead>\n",
       "    <tr style=\"text-align: right;\">\n",
       "      <th></th>\n",
       "      <th>SKU</th>\n",
       "      <th>State</th>\n",
       "      <th>total_gross</th>\n",
       "      <th>total_product</th>\n",
       "    </tr>\n",
       "  </thead>\n",
       "  <tbody>\n",
       "    <tr>\n",
       "      <th>0</th>\n",
       "      <td>JNE3797-KR-M</td>\n",
       "      <td>KERALA</td>\n",
       "      <td>1034.0</td>\n",
       "      <td>94</td>\n",
       "    </tr>\n",
       "    <tr>\n",
       "      <th>1</th>\n",
       "      <td>J0230-SKD-M</td>\n",
       "      <td>MAHARASHTRA</td>\n",
       "      <td>23675.0</td>\n",
       "      <td>88</td>\n",
       "    </tr>\n",
       "    <tr>\n",
       "      <th>2</th>\n",
       "      <td>SET268-KR-NP-S</td>\n",
       "      <td>MAHARASHTRA</td>\n",
       "      <td>30758.0</td>\n",
       "      <td>87</td>\n",
       "    </tr>\n",
       "    <tr>\n",
       "      <th>3</th>\n",
       "      <td>JNE3405-KR-S</td>\n",
       "      <td>MAHARASHTRA</td>\n",
       "      <td>6137.0</td>\n",
       "      <td>82</td>\n",
       "    </tr>\n",
       "    <tr>\n",
       "      <th>4</th>\n",
       "      <td>SET268-KR-NP-XL</td>\n",
       "      <td>MAHARASHTRA</td>\n",
       "      <td>34102.0</td>\n",
       "      <td>76</td>\n",
       "    </tr>\n",
       "    <tr>\n",
       "      <th>5</th>\n",
       "      <td>JNE3797-KR-XL</td>\n",
       "      <td>MAHARASHTRA</td>\n",
       "      <td>1860.0</td>\n",
       "      <td>74</td>\n",
       "    </tr>\n",
       "    <tr>\n",
       "      <th>6</th>\n",
       "      <td>SET268-KR-NP-L</td>\n",
       "      <td>MAHARASHTRA</td>\n",
       "      <td>54772.0</td>\n",
       "      <td>73</td>\n",
       "    </tr>\n",
       "    <tr>\n",
       "      <th>7</th>\n",
       "      <td>SET268-KR-NP-XL</td>\n",
       "      <td>KARNATAKA</td>\n",
       "      <td>34102.0</td>\n",
       "      <td>72</td>\n",
       "    </tr>\n",
       "    <tr>\n",
       "      <th>8</th>\n",
       "      <td>JNE3797-KR-M</td>\n",
       "      <td>KARNATAKA</td>\n",
       "      <td>1034.0</td>\n",
       "      <td>70</td>\n",
       "    </tr>\n",
       "    <tr>\n",
       "      <th>9</th>\n",
       "      <td>J0230-SKD-S</td>\n",
       "      <td>MAHARASHTRA</td>\n",
       "      <td>13935.0</td>\n",
       "      <td>70</td>\n",
       "    </tr>\n",
       "    <tr>\n",
       "      <th>10</th>\n",
       "      <td>JNE3405-KR-L</td>\n",
       "      <td>MAHARASHTRA</td>\n",
       "      <td>12207.0</td>\n",
       "      <td>68</td>\n",
       "    </tr>\n",
       "    <tr>\n",
       "      <th>11</th>\n",
       "      <td>JNE3797-KR-XL</td>\n",
       "      <td>KARNATAKA</td>\n",
       "      <td>1860.0</td>\n",
       "      <td>67</td>\n",
       "    </tr>\n",
       "    <tr>\n",
       "      <th>12</th>\n",
       "      <td>J0230-SKD-M</td>\n",
       "      <td>KARNATAKA</td>\n",
       "      <td>23675.0</td>\n",
       "      <td>63</td>\n",
       "    </tr>\n",
       "    <tr>\n",
       "      <th>13</th>\n",
       "      <td>JNE3405-KR-M</td>\n",
       "      <td>MAHARASHTRA</td>\n",
       "      <td>13647.0</td>\n",
       "      <td>63</td>\n",
       "    </tr>\n",
       "    <tr>\n",
       "      <th>14</th>\n",
       "      <td>JNE3797-KR-M</td>\n",
       "      <td>MAHARASHTRA</td>\n",
       "      <td>1034.0</td>\n",
       "      <td>63</td>\n",
       "    </tr>\n",
       "    <tr>\n",
       "      <th>15</th>\n",
       "      <td>J0230-SKD-M</td>\n",
       "      <td>UTTAR PRADESH</td>\n",
       "      <td>23675.0</td>\n",
       "      <td>63</td>\n",
       "    </tr>\n",
       "    <tr>\n",
       "      <th>16</th>\n",
       "      <td>SET345-KR-NP-M</td>\n",
       "      <td>KARNATAKA</td>\n",
       "      <td>9547.0</td>\n",
       "      <td>62</td>\n",
       "    </tr>\n",
       "    <tr>\n",
       "      <th>17</th>\n",
       "      <td>JNE3797-KR-XXL</td>\n",
       "      <td>MAHARASHTRA</td>\n",
       "      <td>1858.0</td>\n",
       "      <td>60</td>\n",
       "    </tr>\n",
       "    <tr>\n",
       "      <th>18</th>\n",
       "      <td>JNE3797-KR-XL</td>\n",
       "      <td>KERALA</td>\n",
       "      <td>1860.0</td>\n",
       "      <td>59</td>\n",
       "    </tr>\n",
       "    <tr>\n",
       "      <th>19</th>\n",
       "      <td>SET268-KR-NP-L</td>\n",
       "      <td>KARNATAKA</td>\n",
       "      <td>54772.0</td>\n",
       "      <td>56</td>\n",
       "    </tr>\n",
       "  </tbody>\n",
       "</table>\n",
       "</div>"
      ],
      "text/plain": [
       "                SKU          State  total_gross  total_product\n",
       "0      JNE3797-KR-M         KERALA       1034.0             94\n",
       "1       J0230-SKD-M    MAHARASHTRA      23675.0             88\n",
       "2    SET268-KR-NP-S    MAHARASHTRA      30758.0             87\n",
       "3      JNE3405-KR-S    MAHARASHTRA       6137.0             82\n",
       "4   SET268-KR-NP-XL    MAHARASHTRA      34102.0             76\n",
       "5     JNE3797-KR-XL    MAHARASHTRA       1860.0             74\n",
       "6    SET268-KR-NP-L    MAHARASHTRA      54772.0             73\n",
       "7   SET268-KR-NP-XL      KARNATAKA      34102.0             72\n",
       "8      JNE3797-KR-M      KARNATAKA       1034.0             70\n",
       "9       J0230-SKD-S    MAHARASHTRA      13935.0             70\n",
       "10     JNE3405-KR-L    MAHARASHTRA      12207.0             68\n",
       "11    JNE3797-KR-XL      KARNATAKA       1860.0             67\n",
       "12      J0230-SKD-M      KARNATAKA      23675.0             63\n",
       "13     JNE3405-KR-M    MAHARASHTRA      13647.0             63\n",
       "14     JNE3797-KR-M    MAHARASHTRA       1034.0             63\n",
       "15      J0230-SKD-M  UTTAR PRADESH      23675.0             63\n",
       "16   SET345-KR-NP-M      KARNATAKA       9547.0             62\n",
       "17   JNE3797-KR-XXL    MAHARASHTRA       1858.0             60\n",
       "18    JNE3797-KR-XL         KERALA       1860.0             59\n",
       "19   SET268-KR-NP-L      KARNATAKA      54772.0             56"
      ]
     },
     "execution_count": 20,
     "metadata": {},
     "output_type": "execute_result"
    }
   ],
   "source": [
    "#how many of specific SKU a state bought\n",
    "query = \"\"\"\n",
    "With top_country as(\n",
    "    Select sku, SUM(\"Gross AMT\") as total_gross, Row_number() over (Partition by sku Order by SUM (\"GROSS AMT\") DESC) as rn \n",
    "    From international\n",
    "    Group by sku\n",
    "    )\n",
    "Select a.sku, a.\"ship-state\" as State, t.total_gross, sum(a.Qty) as total_product\n",
    "From asr a\n",
    "Join top_country t on a.SKU = t.SKU\n",
    "Where t.rn = 1\n",
    "Group by a.\"ship-state\", a.sku\n",
    "Order by total_product desc, a.\"ship-state\" asc\n",
    "Limit 20;\n",
    "\"\"\"\n",
    "pysqldf(query)"
   ]
  },
  {
   "cell_type": "markdown",
   "id": "9d92e6f3",
   "metadata": {
    "papermill": {
     "duration": 0.00813,
     "end_time": "2025-10-23T18:19:24.653788",
     "exception": false,
     "start_time": "2025-10-23T18:19:24.645658",
     "status": "completed"
    },
    "tags": []
   },
   "source": [
    "## State-Level Sales and Revenue\n",
    "This query shows total units sold and total spending per state, giving insight into the largest markets.\n"
   ]
  },
  {
   "cell_type": "code",
   "execution_count": 21,
   "id": "e8c67efd",
   "metadata": {
    "execution": {
     "iopub.execute_input": "2025-10-23T18:19:24.672244Z",
     "iopub.status.busy": "2025-10-23T18:19:24.671393Z",
     "iopub.status.idle": "2025-10-23T18:19:28.331812Z",
     "shell.execute_reply": "2025-10-23T18:19:28.330715Z"
    },
    "jupyter": {
     "source_hidden": true
    },
    "papermill": {
     "duration": 3.671337,
     "end_time": "2025-10-23T18:19:28.333454",
     "exception": false,
     "start_time": "2025-10-23T18:19:24.662117",
     "status": "completed"
    },
    "tags": []
   },
   "outputs": [
    {
     "data": {
      "text/html": [
       "<div>\n",
       "<style scoped>\n",
       "    .dataframe tbody tr th:only-of-type {\n",
       "        vertical-align: middle;\n",
       "    }\n",
       "\n",
       "    .dataframe tbody tr th {\n",
       "        vertical-align: top;\n",
       "    }\n",
       "\n",
       "    .dataframe thead th {\n",
       "        text-align: right;\n",
       "    }\n",
       "</style>\n",
       "<table border=\"1\" class=\"dataframe\">\n",
       "  <thead>\n",
       "    <tr style=\"text-align: right;\">\n",
       "      <th></th>\n",
       "      <th>ship-state</th>\n",
       "      <th>total_product</th>\n",
       "      <th>total_spent</th>\n",
       "    </tr>\n",
       "  </thead>\n",
       "  <tbody>\n",
       "    <tr>\n",
       "      <th>0</th>\n",
       "      <td>MAHARASHTRA</td>\n",
       "      <td>20328</td>\n",
       "      <td>13335534.14</td>\n",
       "    </tr>\n",
       "    <tr>\n",
       "      <th>1</th>\n",
       "      <td>KARNATAKA</td>\n",
       "      <td>15901</td>\n",
       "      <td>10481114.37</td>\n",
       "    </tr>\n",
       "    <tr>\n",
       "      <th>2</th>\n",
       "      <td>TAMIL NADU</td>\n",
       "      <td>10412</td>\n",
       "      <td>6515650.11</td>\n",
       "    </tr>\n",
       "    <tr>\n",
       "      <th>3</th>\n",
       "      <td>TELANGANA</td>\n",
       "      <td>10253</td>\n",
       "      <td>6916615.65</td>\n",
       "    </tr>\n",
       "    <tr>\n",
       "      <th>4</th>\n",
       "      <td>UTTAR PRADESH</td>\n",
       "      <td>9499</td>\n",
       "      <td>6816642.08</td>\n",
       "    </tr>\n",
       "    <tr>\n",
       "      <th>5</th>\n",
       "      <td>DELHI</td>\n",
       "      <td>6156</td>\n",
       "      <td>4235215.97</td>\n",
       "    </tr>\n",
       "    <tr>\n",
       "      <th>6</th>\n",
       "      <td>KERALA</td>\n",
       "      <td>5813</td>\n",
       "      <td>3830227.58</td>\n",
       "    </tr>\n",
       "    <tr>\n",
       "      <th>7</th>\n",
       "      <td>WEST BENGAL</td>\n",
       "      <td>5318</td>\n",
       "      <td>3507880.44</td>\n",
       "    </tr>\n",
       "    <tr>\n",
       "      <th>8</th>\n",
       "      <td>ANDHRA PRADESH</td>\n",
       "      <td>4819</td>\n",
       "      <td>3219831.72</td>\n",
       "    </tr>\n",
       "    <tr>\n",
       "      <th>9</th>\n",
       "      <td>Gujarat</td>\n",
       "      <td>4149</td>\n",
       "      <td>2728651.82</td>\n",
       "    </tr>\n",
       "    <tr>\n",
       "      <th>10</th>\n",
       "      <td>HARYANA</td>\n",
       "      <td>4066</td>\n",
       "      <td>2882092.99</td>\n",
       "    </tr>\n",
       "    <tr>\n",
       "      <th>11</th>\n",
       "      <td>RAJASTHAN</td>\n",
       "      <td>2367</td>\n",
       "      <td>1716802.40</td>\n",
       "    </tr>\n",
       "    <tr>\n",
       "      <th>12</th>\n",
       "      <td>MADHYA PRADESH</td>\n",
       "      <td>2260</td>\n",
       "      <td>1592382.98</td>\n",
       "    </tr>\n",
       "    <tr>\n",
       "      <th>13</th>\n",
       "      <td>ODISHA</td>\n",
       "      <td>1890</td>\n",
       "      <td>1372205.63</td>\n",
       "    </tr>\n",
       "    <tr>\n",
       "      <th>14</th>\n",
       "      <td>BIHAR</td>\n",
       "      <td>1847</td>\n",
       "      <td>1394388.32</td>\n",
       "    </tr>\n",
       "    <tr>\n",
       "      <th>15</th>\n",
       "      <td>PUNJAB</td>\n",
       "      <td>1699</td>\n",
       "      <td>1180064.84</td>\n",
       "    </tr>\n",
       "    <tr>\n",
       "      <th>16</th>\n",
       "      <td>ASSAM</td>\n",
       "      <td>1483</td>\n",
       "      <td>1018136.20</td>\n",
       "    </tr>\n",
       "    <tr>\n",
       "      <th>17</th>\n",
       "      <td>UTTARAKHAND</td>\n",
       "      <td>1385</td>\n",
       "      <td>974143.55</td>\n",
       "    </tr>\n",
       "    <tr>\n",
       "      <th>18</th>\n",
       "      <td>JHARKHAND</td>\n",
       "      <td>1284</td>\n",
       "      <td>919088.21</td>\n",
       "    </tr>\n",
       "    <tr>\n",
       "      <th>19</th>\n",
       "      <td>GOA</td>\n",
       "      <td>1022</td>\n",
       "      <td>619437.85</td>\n",
       "    </tr>\n",
       "  </tbody>\n",
       "</table>\n",
       "</div>"
      ],
      "text/plain": [
       "        ship-state  total_product  total_spent\n",
       "0      MAHARASHTRA          20328  13335534.14\n",
       "1        KARNATAKA          15901  10481114.37\n",
       "2       TAMIL NADU          10412   6515650.11\n",
       "3        TELANGANA          10253   6916615.65\n",
       "4    UTTAR PRADESH           9499   6816642.08\n",
       "5            DELHI           6156   4235215.97\n",
       "6           KERALA           5813   3830227.58\n",
       "7      WEST BENGAL           5318   3507880.44\n",
       "8   ANDHRA PRADESH           4819   3219831.72\n",
       "9          Gujarat           4149   2728651.82\n",
       "10         HARYANA           4066   2882092.99\n",
       "11       RAJASTHAN           2367   1716802.40\n",
       "12  MADHYA PRADESH           2260   1592382.98\n",
       "13          ODISHA           1890   1372205.63\n",
       "14           BIHAR           1847   1394388.32\n",
       "15          PUNJAB           1699   1180064.84\n",
       "16           ASSAM           1483   1018136.20\n",
       "17     UTTARAKHAND           1385    974143.55\n",
       "18       JHARKHAND           1284    919088.21\n",
       "19             GOA           1022    619437.85"
      ]
     },
     "execution_count": 21,
     "metadata": {},
     "output_type": "execute_result"
    }
   ],
   "source": [
    "#Total spent/total product per state\n",
    "query = \"\"\"\n",
    "SELECT a.\"ship-state\", SUM(a.Qty) AS total_product, SUM(a.amount) AS total_spent\n",
    "FROM asr a\n",
    "GROUP BY a.\"ship-state\"\n",
    "ORDER BY total_product DESC\n",
    "LIMIT 20;\n",
    "\"\"\"\n",
    "pysqldf(query)"
   ]
  },
  {
   "cell_type": "markdown",
   "id": "e578c57c",
   "metadata": {
    "papermill": {
     "duration": 0.008503,
     "end_time": "2025-10-23T18:19:28.351001",
     "exception": false,
     "start_time": "2025-10-23T18:19:28.342498",
     "status": "completed"
    },
    "tags": []
   },
   "source": [
    "# Orders That Did Not Deliver/Cancelled\n",
    "This query shows the total number of cancelled orders per state, highlighting areas where fulfillment issues occurred."
   ]
  },
  {
   "cell_type": "code",
   "execution_count": 22,
   "id": "59c70040",
   "metadata": {
    "execution": {
     "iopub.execute_input": "2025-10-23T18:19:28.370014Z",
     "iopub.status.busy": "2025-10-23T18:19:28.369295Z",
     "iopub.status.idle": "2025-10-23T18:19:31.784818Z",
     "shell.execute_reply": "2025-10-23T18:19:31.783974Z"
    },
    "papermill": {
     "duration": 3.426865,
     "end_time": "2025-10-23T18:19:31.786475",
     "exception": false,
     "start_time": "2025-10-23T18:19:28.359610",
     "status": "completed"
    },
    "tags": []
   },
   "outputs": [
    {
     "data": {
      "text/html": [
       "<div>\n",
       "<style scoped>\n",
       "    .dataframe tbody tr th:only-of-type {\n",
       "        vertical-align: middle;\n",
       "    }\n",
       "\n",
       "    .dataframe tbody tr th {\n",
       "        vertical-align: top;\n",
       "    }\n",
       "\n",
       "    .dataframe thead th {\n",
       "        text-align: right;\n",
       "    }\n",
       "</style>\n",
       "<table border=\"1\" class=\"dataframe\">\n",
       "  <thead>\n",
       "    <tr style=\"text-align: right;\">\n",
       "      <th></th>\n",
       "      <th>state</th>\n",
       "      <th>cancelled_orders</th>\n",
       "    </tr>\n",
       "  </thead>\n",
       "  <tbody>\n",
       "    <tr>\n",
       "      <th>0</th>\n",
       "      <td>MAHARASHTRA</td>\n",
       "      <td>2778</td>\n",
       "    </tr>\n",
       "    <tr>\n",
       "      <th>1</th>\n",
       "      <td>KARNATAKA</td>\n",
       "      <td>2097</td>\n",
       "    </tr>\n",
       "    <tr>\n",
       "      <th>2</th>\n",
       "      <td>UTTAR PRADESH</td>\n",
       "      <td>1531</td>\n",
       "    </tr>\n",
       "    <tr>\n",
       "      <th>3</th>\n",
       "      <td>TELANGANA</td>\n",
       "      <td>1505</td>\n",
       "    </tr>\n",
       "    <tr>\n",
       "      <th>4</th>\n",
       "      <td>TAMIL NADU</td>\n",
       "      <td>1440</td>\n",
       "    </tr>\n",
       "    <tr>\n",
       "      <th>5</th>\n",
       "      <td>KERALA</td>\n",
       "      <td>1086</td>\n",
       "    </tr>\n",
       "    <tr>\n",
       "      <th>6</th>\n",
       "      <td>WEST BENGAL</td>\n",
       "      <td>846</td>\n",
       "    </tr>\n",
       "    <tr>\n",
       "      <th>7</th>\n",
       "      <td>DELHI</td>\n",
       "      <td>828</td>\n",
       "    </tr>\n",
       "    <tr>\n",
       "      <th>8</th>\n",
       "      <td>ANDHRA PRADESH</td>\n",
       "      <td>815</td>\n",
       "    </tr>\n",
       "    <tr>\n",
       "      <th>9</th>\n",
       "      <td>Gujarat</td>\n",
       "      <td>556</td>\n",
       "    </tr>\n",
       "  </tbody>\n",
       "</table>\n",
       "</div>"
      ],
      "text/plain": [
       "            state  cancelled_orders\n",
       "0     MAHARASHTRA              2778\n",
       "1       KARNATAKA              2097\n",
       "2   UTTAR PRADESH              1531\n",
       "3       TELANGANA              1505\n",
       "4      TAMIL NADU              1440\n",
       "5          KERALA              1086\n",
       "6     WEST BENGAL               846\n",
       "7           DELHI               828\n",
       "8  ANDHRA PRADESH               815\n",
       "9         Gujarat               556"
      ]
     },
     "execution_count": 22,
     "metadata": {},
     "output_type": "execute_result"
    }
   ],
   "source": [
    "query = \"\"\"\n",
    "Select a.\"ship-state\" as state, Count(Distinct a.\"Order ID\") as cancelled_orders\n",
    "From asr a\n",
    "Where a.status = 'Cancelled'\n",
    "Group by a.\"ship-state\"\n",
    "Order by cancelled_orders desc\n",
    "Limit 10;\n",
    "\"\"\"\n",
    "pysqldf(query)"
   ]
  },
  {
   "cell_type": "markdown",
   "id": "abdb951d",
   "metadata": {
    "papermill": {
     "duration": 0.008817,
     "end_time": "2025-10-23T18:19:31.804656",
     "exception": false,
     "start_time": "2025-10-23T18:19:31.795839",
     "status": "completed"
    },
    "tags": []
   },
   "source": [
    "## Expense vs Revenue/ Profit Analysis\n",
    "This query calculates net profit by SKU by subtracting expenses from revenue, showing which products generate the most profit."
   ]
  },
  {
   "cell_type": "code",
   "execution_count": 23,
   "id": "92cde707",
   "metadata": {
    "execution": {
     "iopub.execute_input": "2025-10-23T18:19:31.824614Z",
     "iopub.status.busy": "2025-10-23T18:19:31.824318Z",
     "iopub.status.idle": "2025-10-23T18:19:35.477413Z",
     "shell.execute_reply": "2025-10-23T18:19:35.476513Z"
    },
    "papermill": {
     "duration": 3.664485,
     "end_time": "2025-10-23T18:19:35.478854",
     "exception": false,
     "start_time": "2025-10-23T18:19:31.814369",
     "status": "completed"
    },
    "tags": []
   },
   "outputs": [
    {
     "data": {
      "text/html": [
       "<div>\n",
       "<style scoped>\n",
       "    .dataframe tbody tr th:only-of-type {\n",
       "        vertical-align: middle;\n",
       "    }\n",
       "\n",
       "    .dataframe tbody tr th {\n",
       "        vertical-align: top;\n",
       "    }\n",
       "\n",
       "    .dataframe thead th {\n",
       "        text-align: right;\n",
       "    }\n",
       "</style>\n",
       "<table border=\"1\" class=\"dataframe\">\n",
       "  <thead>\n",
       "    <tr style=\"text-align: right;\">\n",
       "      <th></th>\n",
       "      <th>SKU</th>\n",
       "      <th>fulfillment_method</th>\n",
       "      <th>total_revenue</th>\n",
       "      <th>total_quanitity</th>\n",
       "    </tr>\n",
       "  </thead>\n",
       "  <tbody>\n",
       "    <tr>\n",
       "      <th>0</th>\n",
       "      <td>J0230-SKD-M</td>\n",
       "      <td>Amazon</td>\n",
       "      <td>460368.00</td>\n",
       "      <td>420</td>\n",
       "    </tr>\n",
       "    <tr>\n",
       "      <th>1</th>\n",
       "      <td>J0230-SKD-S</td>\n",
       "      <td>Amazon</td>\n",
       "      <td>397336.00</td>\n",
       "      <td>358</td>\n",
       "    </tr>\n",
       "    <tr>\n",
       "      <th>2</th>\n",
       "      <td>JNE3797-KR-L</td>\n",
       "      <td>Merchant</td>\n",
       "      <td>374158.77</td>\n",
       "      <td>456</td>\n",
       "    </tr>\n",
       "    <tr>\n",
       "      <th>3</th>\n",
       "      <td>JNE3797-KR-M</td>\n",
       "      <td>Merchant</td>\n",
       "      <td>352068.16</td>\n",
       "      <td>424</td>\n",
       "    </tr>\n",
       "    <tr>\n",
       "      <th>4</th>\n",
       "      <td>SET268-KR-NP-XL</td>\n",
       "      <td>Amazon</td>\n",
       "      <td>278618.00</td>\n",
       "      <td>368</td>\n",
       "    </tr>\n",
       "    <tr>\n",
       "      <th>5</th>\n",
       "      <td>SET268-KR-NP-S</td>\n",
       "      <td>Amazon</td>\n",
       "      <td>263128.00</td>\n",
       "      <td>346</td>\n",
       "    </tr>\n",
       "    <tr>\n",
       "      <th>6</th>\n",
       "      <td>J0230-SKD-L</td>\n",
       "      <td>Amazon</td>\n",
       "      <td>261853.00</td>\n",
       "      <td>237</td>\n",
       "    </tr>\n",
       "    <tr>\n",
       "      <th>7</th>\n",
       "      <td>JNE3797-KR-S</td>\n",
       "      <td>Merchant</td>\n",
       "      <td>261057.57</td>\n",
       "      <td>307</td>\n",
       "    </tr>\n",
       "    <tr>\n",
       "      <th>8</th>\n",
       "      <td>SET268-KR-NP-L</td>\n",
       "      <td>Amazon</td>\n",
       "      <td>253290.00</td>\n",
       "      <td>340</td>\n",
       "    </tr>\n",
       "    <tr>\n",
       "      <th>9</th>\n",
       "      <td>SET183-KR-DH-M</td>\n",
       "      <td>Merchant</td>\n",
       "      <td>250171.98</td>\n",
       "      <td>289</td>\n",
       "    </tr>\n",
       "  </tbody>\n",
       "</table>\n",
       "</div>"
      ],
      "text/plain": [
       "               SKU fulfillment_method  total_revenue  total_quanitity\n",
       "0      J0230-SKD-M             Amazon      460368.00              420\n",
       "1      J0230-SKD-S             Amazon      397336.00              358\n",
       "2     JNE3797-KR-L           Merchant      374158.77              456\n",
       "3     JNE3797-KR-M           Merchant      352068.16              424\n",
       "4  SET268-KR-NP-XL             Amazon      278618.00              368\n",
       "5   SET268-KR-NP-S             Amazon      263128.00              346\n",
       "6      J0230-SKD-L             Amazon      261853.00              237\n",
       "7     JNE3797-KR-S           Merchant      261057.57              307\n",
       "8   SET268-KR-NP-L             Amazon      253290.00              340\n",
       "9   SET183-KR-DH-M           Merchant      250171.98              289"
      ]
     },
     "execution_count": 23,
     "metadata": {},
     "output_type": "execute_result"
    }
   ],
   "source": [
    "query = \"\"\"\n",
    "Select a.sku, a.Fulfilment as fulfillment_method,\n",
    "     sum(a.amount) as total_revenue,\n",
    "     sum(Qty) as total_quanitity\n",
    "From asr a\n",
    "Group by a.sku, Fulfilment\n",
    "Order by total_revenue desc\n",
    "Limit 10;\n",
    "\"\"\"\n",
    "pysqldf(query)"
   ]
  },
  {
   "cell_type": "markdown",
   "id": "d1e1419a",
   "metadata": {
    "papermill": {
     "duration": 0.008607,
     "end_time": "2025-10-23T18:19:35.496723",
     "exception": false,
     "start_time": "2025-10-23T18:19:35.488116",
     "status": "completed"
    },
    "tags": []
   },
   "source": [
    "### Total Revenue: Domestic vs International\n",
    "\n",
    "*Expenses are not included due to missing/incomplete data*\n",
    "\n",
    "This query summarizes total revenue and order counts by domestic (IN) and international regions, highlighting the distribution of sales."
   ]
  },
  {
   "cell_type": "code",
   "execution_count": 24,
   "id": "a08956e0",
   "metadata": {
    "execution": {
     "iopub.execute_input": "2025-10-23T18:19:35.515747Z",
     "iopub.status.busy": "2025-10-23T18:19:35.515466Z",
     "iopub.status.idle": "2025-10-23T18:35:09.650771Z",
     "shell.execute_reply": "2025-10-23T18:35:09.649739Z"
    },
    "papermill": {
     "duration": 934.154725,
     "end_time": "2025-10-23T18:35:09.660312",
     "exception": false,
     "start_time": "2025-10-23T18:19:35.505587",
     "status": "completed"
    },
    "tags": []
   },
   "outputs": [
    {
     "data": {
      "text/html": [
       "<div>\n",
       "<style scoped>\n",
       "    .dataframe tbody tr th:only-of-type {\n",
       "        vertical-align: middle;\n",
       "    }\n",
       "\n",
       "    .dataframe tbody tr th {\n",
       "        vertical-align: top;\n",
       "    }\n",
       "\n",
       "    .dataframe thead th {\n",
       "        text-align: right;\n",
       "    }\n",
       "</style>\n",
       "<table border=\"1\" class=\"dataframe\">\n",
       "  <thead>\n",
       "    <tr style=\"text-align: right;\">\n",
       "      <th></th>\n",
       "      <th>domestic_revenue</th>\n",
       "      <th>international_revenue</th>\n",
       "      <th>total_revenue</th>\n",
       "    </tr>\n",
       "  </thead>\n",
       "  <tbody>\n",
       "    <tr>\n",
       "      <th>0</th>\n",
       "      <td>2.941881e+12</td>\n",
       "      <td>2.114622e+12</td>\n",
       "      <td>5.056504e+12</td>\n",
       "    </tr>\n",
       "  </tbody>\n",
       "</table>\n",
       "</div>"
      ],
      "text/plain": [
       "   domestic_revenue  international_revenue  total_revenue\n",
       "0      2.941881e+12           2.114622e+12   5.056504e+12"
      ]
     },
     "execution_count": 24,
     "metadata": {},
     "output_type": "execute_result"
    }
   ],
   "source": [
    "query = \"\"\"\n",
    "Select\n",
    "    Sum(a.amount) as domestic_revenue,\n",
    "    Sum(i.\"Gross AMT\") as international_revenue,\n",
    "    Sum(a.amount) + Sum(i.\"Gross AMT\") as total_revenue\n",
    "From asr a\n",
    "Left Join international i on 1=1\n",
    "\"\"\"\n",
    "pysqldf(query)"
   ]
  },
  {
   "cell_type": "code",
   "execution_count": 25,
   "id": "2248b308",
   "metadata": {
    "execution": {
     "iopub.execute_input": "2025-10-23T18:35:09.680743Z",
     "iopub.status.busy": "2025-10-23T18:35:09.679773Z",
     "iopub.status.idle": "2025-10-23T18:35:13.167952Z",
     "shell.execute_reply": "2025-10-23T18:35:13.166977Z"
    },
    "papermill": {
     "duration": 3.500187,
     "end_time": "2025-10-23T18:35:13.169730",
     "exception": false,
     "start_time": "2025-10-23T18:35:09.669543",
     "status": "completed"
    },
    "tags": []
   },
   "outputs": [
    {
     "data": {
      "text/html": [
       "<div>\n",
       "<style scoped>\n",
       "    .dataframe tbody tr th:only-of-type {\n",
       "        vertical-align: middle;\n",
       "    }\n",
       "\n",
       "    .dataframe tbody tr th {\n",
       "        vertical-align: top;\n",
       "    }\n",
       "\n",
       "    .dataframe thead th {\n",
       "        text-align: right;\n",
       "    }\n",
       "</style>\n",
       "<table border=\"1\" class=\"dataframe\">\n",
       "  <thead>\n",
       "    <tr style=\"text-align: right;\">\n",
       "      <th></th>\n",
       "      <th>domestic_revenue</th>\n",
       "      <th>international_revenue</th>\n",
       "      <th>total_revenue</th>\n",
       "      <th>domestic_orders</th>\n",
       "      <th>international_orders</th>\n",
       "      <th>total_orders</th>\n",
       "    </tr>\n",
       "  </thead>\n",
       "  <tbody>\n",
       "    <tr>\n",
       "      <th>0</th>\n",
       "      <td>78574007.3</td>\n",
       "      <td>0</td>\n",
       "      <td>78574007.3</td>\n",
       "      <td>128942</td>\n",
       "      <td>0</td>\n",
       "      <td>128942</td>\n",
       "    </tr>\n",
       "  </tbody>\n",
       "</table>\n",
       "</div>"
      ],
      "text/plain": [
       "   domestic_revenue  international_revenue  total_revenue  domestic_orders  \\\n",
       "0        78574007.3                      0     78574007.3           128942   \n",
       "\n",
       "   international_orders  total_orders  \n",
       "0                     0        128942  "
      ]
     },
     "execution_count": 25,
     "metadata": {},
     "output_type": "execute_result"
    }
   ],
   "source": [
    "query = \"\"\"\n",
    "SELECT SUM(CASE WHEN \"ship-country\" = 'IN' THEN Amount ELSE 0 END) AS domestic_revenue,\n",
    "       SUM(CASE WHEN \"ship-country\" != 'IN' THEN Amount ELSE 0 END) AS international_revenue,\n",
    "       SUM(Amount) AS total_revenue,\n",
    "       COUNT(CASE WHEN \"ship-country\" = 'IN' THEN 1 END) AS domestic_orders,\n",
    "       COUNT(CASE WHEN \"ship-country\" != 'IN' THEN 1 END) AS international_orders,\n",
    "       count(*) as total_orders\n",
    "FROM asr\n",
    "Where \"ship-country\" is not null;\n",
    "\"\"\"\n",
    "pysqldf(query)"
   ]
  },
  {
   "cell_type": "markdown",
   "id": "23427a00",
   "metadata": {
    "papermill": {
     "duration": 0.009568,
     "end_time": "2025-10-23T18:35:13.188923",
     "exception": false,
     "start_time": "2025-10-23T18:35:13.179355",
     "status": "completed"
    },
    "tags": []
   },
   "source": [
    "# Inventory / Stock Checks"
   ]
  },
  {
   "cell_type": "markdown",
   "id": "154549e2",
   "metadata": {
    "papermill": {
     "duration": 0.008894,
     "end_time": "2025-10-23T18:35:13.207384",
     "exception": false,
     "start_time": "2025-10-23T18:35:13.198490",
     "status": "completed"
    },
    "tags": []
   },
   "source": [
    "## Revenue Over Time"
   ]
  },
  {
   "cell_type": "code",
   "execution_count": 26,
   "id": "6a394591",
   "metadata": {
    "execution": {
     "iopub.execute_input": "2025-10-23T18:35:13.227706Z",
     "iopub.status.busy": "2025-10-23T18:35:13.227431Z",
     "iopub.status.idle": "2025-10-23T18:35:17.025490Z",
     "shell.execute_reply": "2025-10-23T18:35:17.023795Z"
    },
    "papermill": {
     "duration": 3.810208,
     "end_time": "2025-10-23T18:35:17.026800",
     "exception": true,
     "start_time": "2025-10-23T18:35:13.216592",
     "status": "failed"
    },
    "tags": []
   },
   "outputs": [
    {
     "ename": "PandaSQLException",
     "evalue": "(sqlite3.OperationalError) row value misused\n[SQL: \nSelect\n    ('%Y-%m', Date) as month,\n    Sum(amount) as total_revenue,\n    Sum(Qty) as total_quantity\nFrom asr\nGroup By month\nOrder By month asc\nLimit 10;\n]\n(Background on this error at: https://sqlalche.me/e/20/e3q8)",
     "output_type": "error",
     "traceback": [
      "\u001b[0;31m---------------------------------------------------------------------------\u001b[0m",
      "\u001b[0;31mOperationalError\u001b[0m                          Traceback (most recent call last)",
      "\u001b[0;32m/usr/local/lib/python3.11/dist-packages/sqlalchemy/engine/base.py\u001b[0m in \u001b[0;36m_exec_single_context\u001b[0;34m(self, dialect, context, statement, parameters)\u001b[0m\n\u001b[1;32m   1962\u001b[0m                 \u001b[0;32mif\u001b[0m \u001b[0;32mnot\u001b[0m \u001b[0mevt_handled\u001b[0m\u001b[0;34m:\u001b[0m\u001b[0;34m\u001b[0m\u001b[0;34m\u001b[0m\u001b[0m\n\u001b[0;32m-> 1963\u001b[0;31m                     self.dialect.do_execute(\n\u001b[0m\u001b[1;32m   1964\u001b[0m                         \u001b[0mcursor\u001b[0m\u001b[0;34m,\u001b[0m \u001b[0mstr_statement\u001b[0m\u001b[0;34m,\u001b[0m \u001b[0meffective_parameters\u001b[0m\u001b[0;34m,\u001b[0m \u001b[0mcontext\u001b[0m\u001b[0;34m\u001b[0m\u001b[0;34m\u001b[0m\u001b[0m\n",
      "\u001b[0;32m/usr/local/lib/python3.11/dist-packages/sqlalchemy/engine/default.py\u001b[0m in \u001b[0;36mdo_execute\u001b[0;34m(self, cursor, statement, parameters, context)\u001b[0m\n\u001b[1;32m    942\u001b[0m     \u001b[0;32mdef\u001b[0m \u001b[0mdo_execute\u001b[0m\u001b[0;34m(\u001b[0m\u001b[0mself\u001b[0m\u001b[0;34m,\u001b[0m \u001b[0mcursor\u001b[0m\u001b[0;34m,\u001b[0m \u001b[0mstatement\u001b[0m\u001b[0;34m,\u001b[0m \u001b[0mparameters\u001b[0m\u001b[0;34m,\u001b[0m \u001b[0mcontext\u001b[0m\u001b[0;34m=\u001b[0m\u001b[0;32mNone\u001b[0m\u001b[0;34m)\u001b[0m\u001b[0;34m:\u001b[0m\u001b[0;34m\u001b[0m\u001b[0;34m\u001b[0m\u001b[0m\n\u001b[0;32m--> 943\u001b[0;31m         \u001b[0mcursor\u001b[0m\u001b[0;34m.\u001b[0m\u001b[0mexecute\u001b[0m\u001b[0;34m(\u001b[0m\u001b[0mstatement\u001b[0m\u001b[0;34m,\u001b[0m \u001b[0mparameters\u001b[0m\u001b[0;34m)\u001b[0m\u001b[0;34m\u001b[0m\u001b[0;34m\u001b[0m\u001b[0m\n\u001b[0m\u001b[1;32m    944\u001b[0m \u001b[0;34m\u001b[0m\u001b[0m\n",
      "\u001b[0;31mOperationalError\u001b[0m: row value misused",
      "\nThe above exception was the direct cause of the following exception:\n",
      "\u001b[0;31mOperationalError\u001b[0m                          Traceback (most recent call last)",
      "\u001b[0;32m/usr/local/lib/python3.11/dist-packages/pandasql/sqldf.py\u001b[0m in \u001b[0;36m__call__\u001b[0;34m(self, query, env)\u001b[0m\n\u001b[1;32m     60\u001b[0m             \u001b[0;32mtry\u001b[0m\u001b[0;34m:\u001b[0m\u001b[0;34m\u001b[0m\u001b[0;34m\u001b[0m\u001b[0m\n\u001b[0;32m---> 61\u001b[0;31m                 \u001b[0mresult\u001b[0m \u001b[0;34m=\u001b[0m \u001b[0mread_sql\u001b[0m\u001b[0;34m(\u001b[0m\u001b[0mquery\u001b[0m\u001b[0;34m,\u001b[0m \u001b[0mconn\u001b[0m\u001b[0;34m)\u001b[0m\u001b[0;34m\u001b[0m\u001b[0;34m\u001b[0m\u001b[0m\n\u001b[0m\u001b[1;32m     62\u001b[0m             \u001b[0;32mexcept\u001b[0m \u001b[0mDatabaseError\u001b[0m \u001b[0;32mas\u001b[0m \u001b[0mex\u001b[0m\u001b[0;34m:\u001b[0m\u001b[0;34m\u001b[0m\u001b[0;34m\u001b[0m\u001b[0m\n",
      "\u001b[0;32m/usr/local/lib/python3.11/dist-packages/pandas/io/sql.py\u001b[0m in \u001b[0;36mread_sql\u001b[0;34m(sql, con, index_col, coerce_float, params, parse_dates, columns, chunksize, dtype_backend, dtype)\u001b[0m\n\u001b[1;32m    733\u001b[0m         \u001b[0;32melse\u001b[0m\u001b[0;34m:\u001b[0m\u001b[0;34m\u001b[0m\u001b[0;34m\u001b[0m\u001b[0m\n\u001b[0;32m--> 734\u001b[0;31m             return pandas_sql.read_query(\n\u001b[0m\u001b[1;32m    735\u001b[0m                 \u001b[0msql\u001b[0m\u001b[0;34m,\u001b[0m\u001b[0;34m\u001b[0m\u001b[0;34m\u001b[0m\u001b[0m\n",
      "\u001b[0;32m/usr/local/lib/python3.11/dist-packages/pandas/io/sql.py\u001b[0m in \u001b[0;36mread_query\u001b[0;34m(self, sql, index_col, coerce_float, parse_dates, params, chunksize, dtype, dtype_backend)\u001b[0m\n\u001b[1;32m   1835\u001b[0m         \"\"\"\n\u001b[0;32m-> 1836\u001b[0;31m         \u001b[0mresult\u001b[0m \u001b[0;34m=\u001b[0m \u001b[0mself\u001b[0m\u001b[0;34m.\u001b[0m\u001b[0mexecute\u001b[0m\u001b[0;34m(\u001b[0m\u001b[0msql\u001b[0m\u001b[0;34m,\u001b[0m \u001b[0mparams\u001b[0m\u001b[0;34m)\u001b[0m\u001b[0;34m\u001b[0m\u001b[0;34m\u001b[0m\u001b[0m\n\u001b[0m\u001b[1;32m   1837\u001b[0m         \u001b[0mcolumns\u001b[0m \u001b[0;34m=\u001b[0m \u001b[0mresult\u001b[0m\u001b[0;34m.\u001b[0m\u001b[0mkeys\u001b[0m\u001b[0;34m(\u001b[0m\u001b[0;34m)\u001b[0m\u001b[0;34m\u001b[0m\u001b[0;34m\u001b[0m\u001b[0m\n",
      "\u001b[0;32m/usr/local/lib/python3.11/dist-packages/pandas/io/sql.py\u001b[0m in \u001b[0;36mexecute\u001b[0;34m(self, sql, params)\u001b[0m\n\u001b[1;32m   1658\u001b[0m         \u001b[0;32mif\u001b[0m \u001b[0misinstance\u001b[0m\u001b[0;34m(\u001b[0m\u001b[0msql\u001b[0m\u001b[0;34m,\u001b[0m \u001b[0mstr\u001b[0m\u001b[0;34m)\u001b[0m\u001b[0;34m:\u001b[0m\u001b[0;34m\u001b[0m\u001b[0;34m\u001b[0m\u001b[0m\n\u001b[0;32m-> 1659\u001b[0;31m             \u001b[0;32mreturn\u001b[0m \u001b[0mself\u001b[0m\u001b[0;34m.\u001b[0m\u001b[0mcon\u001b[0m\u001b[0;34m.\u001b[0m\u001b[0mexec_driver_sql\u001b[0m\u001b[0;34m(\u001b[0m\u001b[0msql\u001b[0m\u001b[0;34m,\u001b[0m \u001b[0;34m*\u001b[0m\u001b[0margs\u001b[0m\u001b[0;34m)\u001b[0m\u001b[0;34m\u001b[0m\u001b[0;34m\u001b[0m\u001b[0m\n\u001b[0m\u001b[1;32m   1660\u001b[0m         \u001b[0;32mreturn\u001b[0m \u001b[0mself\u001b[0m\u001b[0;34m.\u001b[0m\u001b[0mcon\u001b[0m\u001b[0;34m.\u001b[0m\u001b[0mexecute\u001b[0m\u001b[0;34m(\u001b[0m\u001b[0msql\u001b[0m\u001b[0;34m,\u001b[0m \u001b[0;34m*\u001b[0m\u001b[0margs\u001b[0m\u001b[0;34m)\u001b[0m\u001b[0;34m\u001b[0m\u001b[0;34m\u001b[0m\u001b[0m\n",
      "\u001b[0;32m/usr/local/lib/python3.11/dist-packages/sqlalchemy/engine/base.py\u001b[0m in \u001b[0;36mexec_driver_sql\u001b[0;34m(self, statement, parameters, execution_options)\u001b[0m\n\u001b[1;32m   1774\u001b[0m         \u001b[0mdialect\u001b[0m \u001b[0;34m=\u001b[0m \u001b[0mself\u001b[0m\u001b[0;34m.\u001b[0m\u001b[0mdialect\u001b[0m\u001b[0;34m\u001b[0m\u001b[0;34m\u001b[0m\u001b[0m\n\u001b[0;32m-> 1775\u001b[0;31m         ret = self._execute_context(\n\u001b[0m\u001b[1;32m   1776\u001b[0m             \u001b[0mdialect\u001b[0m\u001b[0;34m,\u001b[0m\u001b[0;34m\u001b[0m\u001b[0;34m\u001b[0m\u001b[0m\n",
      "\u001b[0;32m/usr/local/lib/python3.11/dist-packages/sqlalchemy/engine/base.py\u001b[0m in \u001b[0;36m_execute_context\u001b[0;34m(self, dialect, constructor, statement, parameters, execution_options, *args, **kw)\u001b[0m\n\u001b[1;32m   1841\u001b[0m         \u001b[0;32melse\u001b[0m\u001b[0;34m:\u001b[0m\u001b[0;34m\u001b[0m\u001b[0;34m\u001b[0m\u001b[0m\n\u001b[0;32m-> 1842\u001b[0;31m             return self._exec_single_context(\n\u001b[0m\u001b[1;32m   1843\u001b[0m                 \u001b[0mdialect\u001b[0m\u001b[0;34m,\u001b[0m \u001b[0mcontext\u001b[0m\u001b[0;34m,\u001b[0m \u001b[0mstatement\u001b[0m\u001b[0;34m,\u001b[0m \u001b[0mparameters\u001b[0m\u001b[0;34m\u001b[0m\u001b[0;34m\u001b[0m\u001b[0m\n",
      "\u001b[0;32m/usr/local/lib/python3.11/dist-packages/sqlalchemy/engine/base.py\u001b[0m in \u001b[0;36m_exec_single_context\u001b[0;34m(self, dialect, context, statement, parameters)\u001b[0m\n\u001b[1;32m   1981\u001b[0m         \u001b[0;32mexcept\u001b[0m \u001b[0mBaseException\u001b[0m \u001b[0;32mas\u001b[0m \u001b[0me\u001b[0m\u001b[0;34m:\u001b[0m\u001b[0;34m\u001b[0m\u001b[0;34m\u001b[0m\u001b[0m\n\u001b[0;32m-> 1982\u001b[0;31m             self._handle_dbapi_exception(\n\u001b[0m\u001b[1;32m   1983\u001b[0m                 \u001b[0me\u001b[0m\u001b[0;34m,\u001b[0m \u001b[0mstr_statement\u001b[0m\u001b[0;34m,\u001b[0m \u001b[0meffective_parameters\u001b[0m\u001b[0;34m,\u001b[0m \u001b[0mcursor\u001b[0m\u001b[0;34m,\u001b[0m \u001b[0mcontext\u001b[0m\u001b[0;34m\u001b[0m\u001b[0;34m\u001b[0m\u001b[0m\n",
      "\u001b[0;32m/usr/local/lib/python3.11/dist-packages/sqlalchemy/engine/base.py\u001b[0m in \u001b[0;36m_handle_dbapi_exception\u001b[0;34m(self, e, statement, parameters, cursor, context, is_sub_exec)\u001b[0m\n\u001b[1;32m   2350\u001b[0m                 \u001b[0;32massert\u001b[0m \u001b[0msqlalchemy_exception\u001b[0m \u001b[0;32mis\u001b[0m \u001b[0;32mnot\u001b[0m \u001b[0;32mNone\u001b[0m\u001b[0;34m\u001b[0m\u001b[0;34m\u001b[0m\u001b[0m\n\u001b[0;32m-> 2351\u001b[0;31m                 \u001b[0;32mraise\u001b[0m \u001b[0msqlalchemy_exception\u001b[0m\u001b[0;34m.\u001b[0m\u001b[0mwith_traceback\u001b[0m\u001b[0;34m(\u001b[0m\u001b[0mexc_info\u001b[0m\u001b[0;34m[\u001b[0m\u001b[0;36m2\u001b[0m\u001b[0;34m]\u001b[0m\u001b[0;34m)\u001b[0m \u001b[0;32mfrom\u001b[0m \u001b[0me\u001b[0m\u001b[0;34m\u001b[0m\u001b[0;34m\u001b[0m\u001b[0m\n\u001b[0m\u001b[1;32m   2352\u001b[0m             \u001b[0;32melse\u001b[0m\u001b[0;34m:\u001b[0m\u001b[0;34m\u001b[0m\u001b[0;34m\u001b[0m\u001b[0m\n",
      "\u001b[0;32m/usr/local/lib/python3.11/dist-packages/sqlalchemy/engine/base.py\u001b[0m in \u001b[0;36m_exec_single_context\u001b[0;34m(self, dialect, context, statement, parameters)\u001b[0m\n\u001b[1;32m   1962\u001b[0m                 \u001b[0;32mif\u001b[0m \u001b[0;32mnot\u001b[0m \u001b[0mevt_handled\u001b[0m\u001b[0;34m:\u001b[0m\u001b[0;34m\u001b[0m\u001b[0;34m\u001b[0m\u001b[0m\n\u001b[0;32m-> 1963\u001b[0;31m                     self.dialect.do_execute(\n\u001b[0m\u001b[1;32m   1964\u001b[0m                         \u001b[0mcursor\u001b[0m\u001b[0;34m,\u001b[0m \u001b[0mstr_statement\u001b[0m\u001b[0;34m,\u001b[0m \u001b[0meffective_parameters\u001b[0m\u001b[0;34m,\u001b[0m \u001b[0mcontext\u001b[0m\u001b[0;34m\u001b[0m\u001b[0;34m\u001b[0m\u001b[0m\n",
      "\u001b[0;32m/usr/local/lib/python3.11/dist-packages/sqlalchemy/engine/default.py\u001b[0m in \u001b[0;36mdo_execute\u001b[0;34m(self, cursor, statement, parameters, context)\u001b[0m\n\u001b[1;32m    942\u001b[0m     \u001b[0;32mdef\u001b[0m \u001b[0mdo_execute\u001b[0m\u001b[0;34m(\u001b[0m\u001b[0mself\u001b[0m\u001b[0;34m,\u001b[0m \u001b[0mcursor\u001b[0m\u001b[0;34m,\u001b[0m \u001b[0mstatement\u001b[0m\u001b[0;34m,\u001b[0m \u001b[0mparameters\u001b[0m\u001b[0;34m,\u001b[0m \u001b[0mcontext\u001b[0m\u001b[0;34m=\u001b[0m\u001b[0;32mNone\u001b[0m\u001b[0;34m)\u001b[0m\u001b[0;34m:\u001b[0m\u001b[0;34m\u001b[0m\u001b[0;34m\u001b[0m\u001b[0m\n\u001b[0;32m--> 943\u001b[0;31m         \u001b[0mcursor\u001b[0m\u001b[0;34m.\u001b[0m\u001b[0mexecute\u001b[0m\u001b[0;34m(\u001b[0m\u001b[0mstatement\u001b[0m\u001b[0;34m,\u001b[0m \u001b[0mparameters\u001b[0m\u001b[0;34m)\u001b[0m\u001b[0;34m\u001b[0m\u001b[0;34m\u001b[0m\u001b[0m\n\u001b[0m\u001b[1;32m    944\u001b[0m \u001b[0;34m\u001b[0m\u001b[0m\n",
      "\u001b[0;31mOperationalError\u001b[0m: (sqlite3.OperationalError) row value misused\n[SQL: \nSelect\n    ('%Y-%m', Date) as month,\n    Sum(amount) as total_revenue,\n    Sum(Qty) as total_quantity\nFrom asr\nGroup By month\nOrder By month asc\nLimit 10;\n]\n(Background on this error at: https://sqlalche.me/e/20/e3q8)",
      "\nDuring handling of the above exception, another exception occurred:\n",
      "\u001b[0;31mPandaSQLException\u001b[0m                         Traceback (most recent call last)",
      "\u001b[0;32m/tmp/ipykernel_13/61512672.py\u001b[0m in \u001b[0;36m<cell line: 0>\u001b[0;34m()\u001b[0m\n\u001b[1;32m      9\u001b[0m \u001b[0mLimit\u001b[0m \u001b[0;36m10\u001b[0m\u001b[0;34m;\u001b[0m\u001b[0;34m\u001b[0m\u001b[0;34m\u001b[0m\u001b[0m\n\u001b[1;32m     10\u001b[0m \"\"\"\n\u001b[0;32m---> 11\u001b[0;31m \u001b[0mpysqldf\u001b[0m\u001b[0;34m(\u001b[0m\u001b[0mquery\u001b[0m\u001b[0;34m)\u001b[0m\u001b[0;34m\u001b[0m\u001b[0;34m\u001b[0m\u001b[0m\n\u001b[0m",
      "\u001b[0;32m/tmp/ipykernel_13/572546084.py\u001b[0m in \u001b[0;36m<lambda>\u001b[0;34m(q)\u001b[0m\n\u001b[1;32m      4\u001b[0m \u001b[0;34m\u001b[0m\u001b[0m\n\u001b[1;32m      5\u001b[0m \u001b[0;31m# Helper function\u001b[0m\u001b[0;34m\u001b[0m\u001b[0;34m\u001b[0m\u001b[0m\n\u001b[0;32m----> 6\u001b[0;31m \u001b[0mpysqldf\u001b[0m \u001b[0;34m=\u001b[0m \u001b[0;32mlambda\u001b[0m \u001b[0mq\u001b[0m\u001b[0;34m:\u001b[0m \u001b[0msqldf\u001b[0m\u001b[0;34m(\u001b[0m\u001b[0mq\u001b[0m\u001b[0;34m,\u001b[0m \u001b[0mglobals\u001b[0m\u001b[0;34m(\u001b[0m\u001b[0;34m)\u001b[0m\u001b[0;34m)\u001b[0m\u001b[0;34m\u001b[0m\u001b[0;34m\u001b[0m\u001b[0m\n\u001b[0m\u001b[1;32m      7\u001b[0m \u001b[0;32mdef\u001b[0m \u001b[0mrun_query\u001b[0m\u001b[0;34m(\u001b[0m\u001b[0mquery\u001b[0m\u001b[0;34m)\u001b[0m\u001b[0;34m:\u001b[0m\u001b[0;34m\u001b[0m\u001b[0;34m\u001b[0m\u001b[0m\n\u001b[1;32m      8\u001b[0m     \u001b[0;32mreturn\u001b[0m \u001b[0mpsql\u001b[0m\u001b[0;34m.\u001b[0m\u001b[0msqldf\u001b[0m\u001b[0;34m(\u001b[0m\u001b[0mquery\u001b[0m\u001b[0;34m,\u001b[0m \u001b[0mglobals\u001b[0m\u001b[0;34m(\u001b[0m\u001b[0;34m)\u001b[0m\u001b[0;34m)\u001b[0m\u001b[0;34m\u001b[0m\u001b[0;34m\u001b[0m\u001b[0m\n",
      "\u001b[0;32m/usr/local/lib/python3.11/dist-packages/pandasql/sqldf.py\u001b[0m in \u001b[0;36msqldf\u001b[0;34m(query, env, db_uri)\u001b[0m\n\u001b[1;32m    154\u001b[0m     \u001b[0;34m>>\u001b[0m\u001b[0;34m>\u001b[0m \u001b[0msqldf\u001b[0m\u001b[0;34m(\u001b[0m\u001b[0;34m\"select avg(x) from df;\"\u001b[0m\u001b[0;34m,\u001b[0m \u001b[0mlocals\u001b[0m\u001b[0;34m(\u001b[0m\u001b[0;34m)\u001b[0m\u001b[0;34m)\u001b[0m\u001b[0;34m\u001b[0m\u001b[0;34m\u001b[0m\u001b[0m\n\u001b[1;32m    155\u001b[0m     \"\"\"\n\u001b[0;32m--> 156\u001b[0;31m     \u001b[0;32mreturn\u001b[0m \u001b[0mPandaSQL\u001b[0m\u001b[0;34m(\u001b[0m\u001b[0mdb_uri\u001b[0m\u001b[0;34m)\u001b[0m\u001b[0;34m(\u001b[0m\u001b[0mquery\u001b[0m\u001b[0;34m,\u001b[0m \u001b[0menv\u001b[0m\u001b[0;34m)\u001b[0m\u001b[0;34m\u001b[0m\u001b[0;34m\u001b[0m\u001b[0m\n\u001b[0m",
      "\u001b[0;32m/usr/local/lib/python3.11/dist-packages/pandasql/sqldf.py\u001b[0m in \u001b[0;36m__call__\u001b[0;34m(self, query, env)\u001b[0m\n\u001b[1;32m     61\u001b[0m                 \u001b[0mresult\u001b[0m \u001b[0;34m=\u001b[0m \u001b[0mread_sql\u001b[0m\u001b[0;34m(\u001b[0m\u001b[0mquery\u001b[0m\u001b[0;34m,\u001b[0m \u001b[0mconn\u001b[0m\u001b[0;34m)\u001b[0m\u001b[0;34m\u001b[0m\u001b[0;34m\u001b[0m\u001b[0m\n\u001b[1;32m     62\u001b[0m             \u001b[0;32mexcept\u001b[0m \u001b[0mDatabaseError\u001b[0m \u001b[0;32mas\u001b[0m \u001b[0mex\u001b[0m\u001b[0;34m:\u001b[0m\u001b[0;34m\u001b[0m\u001b[0;34m\u001b[0m\u001b[0m\n\u001b[0;32m---> 63\u001b[0;31m                 \u001b[0;32mraise\u001b[0m \u001b[0mPandaSQLException\u001b[0m\u001b[0;34m(\u001b[0m\u001b[0mex\u001b[0m\u001b[0;34m)\u001b[0m\u001b[0;34m\u001b[0m\u001b[0;34m\u001b[0m\u001b[0m\n\u001b[0m\u001b[1;32m     64\u001b[0m             \u001b[0;32mexcept\u001b[0m \u001b[0mResourceClosedError\u001b[0m\u001b[0;34m:\u001b[0m\u001b[0;34m\u001b[0m\u001b[0;34m\u001b[0m\u001b[0m\n\u001b[1;32m     65\u001b[0m                 \u001b[0;31m# query returns nothing\u001b[0m\u001b[0;34m\u001b[0m\u001b[0;34m\u001b[0m\u001b[0m\n",
      "\u001b[0;31mPandaSQLException\u001b[0m: (sqlite3.OperationalError) row value misused\n[SQL: \nSelect\n    ('%Y-%m', Date) as month,\n    Sum(amount) as total_revenue,\n    Sum(Qty) as total_quantity\nFrom asr\nGroup By month\nOrder By month asc\nLimit 10;\n]\n(Background on this error at: https://sqlalche.me/e/20/e3q8)"
     ]
    }
   ],
   "source": [
    "query = \"\"\"\n",
    "Select\n",
    "    ('%Y-%m', Date) as month,\n",
    "    Sum(amount) as total_revenue,\n",
    "    Sum(Qty) as total_quantity\n",
    "From asr\n",
    "Group By month\n",
    "Order By month asc\n",
    "Limit 10;\n",
    "\"\"\"\n",
    "pysqldf(query)"
   ]
  },
  {
   "cell_type": "markdown",
   "id": "02018991",
   "metadata": {
    "papermill": {
     "duration": null,
     "end_time": null,
     "exception": null,
     "start_time": null,
     "status": "pending"
    },
    "tags": []
   },
   "source": [
    "## SKU Trends Over Time"
   ]
  },
  {
   "cell_type": "code",
   "execution_count": null,
   "id": "83c119aa",
   "metadata": {
    "papermill": {
     "duration": null,
     "end_time": null,
     "exception": null,
     "start_time": null,
     "status": "pending"
    },
    "tags": []
   },
   "outputs": [],
   "source": [
    "query = \"\"\"\n",
    "Select\n",
    "From\n",
    "Where\n",
    "Group By\n",
    "Order By\n",
    "Limit 10;\n",
    "\"\"\"\n",
    "pysqldf(query)"
   ]
  },
  {
   "cell_type": "markdown",
   "id": "cde91434",
   "metadata": {
    "papermill": {
     "duration": null,
     "end_time": null,
     "exception": null,
     "start_time": null,
     "status": "pending"
    },
    "tags": []
   },
   "source": [
    "# Historical Data"
   ]
  },
  {
   "cell_type": "markdown",
   "id": "1f315ef4",
   "metadata": {
    "papermill": {
     "duration": null,
     "end_time": null,
     "exception": null,
     "start_time": null,
     "status": "pending"
    },
    "tags": []
   },
   "source": [
    "## Comparing SKU Quantity Sold vs Stock"
   ]
  },
  {
   "cell_type": "code",
   "execution_count": null,
   "id": "90cbb1f0",
   "metadata": {
    "papermill": {
     "duration": null,
     "end_time": null,
     "exception": null,
     "start_time": null,
     "status": "pending"
    },
    "tags": []
   },
   "outputs": [],
   "source": [
    "query = \"\"\"\n",
    "Select\n",
    "From\n",
    "Where\n",
    "Group By\n",
    "Order By\n",
    "Limit 10;\n",
    "\"\"\"\n",
    "pysqldf(query)"
   ]
  },
  {
   "cell_type": "markdown",
   "id": "ec18259b",
   "metadata": {
    "papermill": {
     "duration": null,
     "end_time": null,
     "exception": null,
     "start_time": null,
     "status": "pending"
    },
    "tags": []
   },
   "source": [
    "## Stock Coverage Percentage"
   ]
  },
  {
   "cell_type": "code",
   "execution_count": null,
   "id": "720cf383",
   "metadata": {
    "papermill": {
     "duration": null,
     "end_time": null,
     "exception": null,
     "start_time": null,
     "status": "pending"
    },
    "tags": []
   },
   "outputs": [],
   "source": [
    "query = \"\"\"\n",
    "Select\n",
    "From\n",
    "Where\n",
    "Group By\n",
    "Order By\n",
    "Limit 10;\n",
    "\"\"\"\n",
    "pysqldf(query)"
   ]
  },
  {
   "cell_type": "code",
   "execution_count": null,
   "id": "c2035f6b",
   "metadata": {
    "papermill": {
     "duration": null,
     "end_time": null,
     "exception": null,
     "start_time": null,
     "status": "pending"
    },
    "tags": []
   },
   "outputs": [],
   "source": [
    "query = \"\"\"\n",
    "Select\n",
    "From\n",
    "Where\n",
    "Group By\n",
    "Order By\n",
    "Limit 10;\n",
    "\"\"\"\n",
    "pysqldf(query)"
   ]
  }
 ],
 "metadata": {
  "kaggle": {
   "accelerator": "none",
   "dataSources": [
    {
     "datasetId": 2699295,
     "sourceId": 4642886,
     "sourceType": "datasetVersion"
    }
   ],
   "dockerImageVersionId": 31153,
   "isGpuEnabled": false,
   "isInternetEnabled": false,
   "language": "python",
   "sourceType": "notebook"
  },
  "kernelspec": {
   "display_name": "Python 3",
   "language": "python",
   "name": "python3"
  },
  "language_info": {
   "codemirror_mode": {
    "name": "ipython",
    "version": 3
   },
   "file_extension": ".py",
   "mimetype": "text/x-python",
   "name": "python",
   "nbconvert_exporter": "python",
   "pygments_lexer": "ipython3",
   "version": "3.11.13"
  },
  "papermill": {
   "default_parameters": {},
   "duration": 981.708244,
   "end_time": "2025-10-23T18:35:17.757292",
   "environment_variables": {},
   "exception": true,
   "input_path": "__notebook__.ipynb",
   "output_path": "__notebook__.ipynb",
   "parameters": {},
   "start_time": "2025-10-23T18:18:56.049048",
   "version": "2.6.0"
  }
 },
 "nbformat": 4,
 "nbformat_minor": 5
}
