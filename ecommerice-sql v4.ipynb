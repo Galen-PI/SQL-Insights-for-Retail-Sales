{
 "cells": [
  {
   "cell_type": "markdown",
   "id": "a45af871",
   "metadata": {
    "papermill": {
     "duration": 0.00979,
     "end_time": "2025-10-24T13:29:43.878874",
     "exception": false,
     "start_time": "2025-10-24T13:29:43.869084",
     "status": "completed"
    },
    "tags": []
   },
   "source": [
    "# Loading SQL"
   ]
  },
  {
   "cell_type": "code",
   "execution_count": 1,
   "id": "8076524b",
   "metadata": {
    "collapsed": true,
    "execution": {
     "iopub.execute_input": "2025-10-24T13:29:43.898792Z",
     "iopub.status.busy": "2025-10-24T13:29:43.898373Z",
     "iopub.status.idle": "2025-10-24T13:29:43.920066Z",
     "shell.execute_reply": "2025-10-24T13:29:43.919083Z"
    },
    "jupyter": {
     "outputs_hidden": true,
     "source_hidden": true
    },
    "papermill": {
     "duration": 0.034006,
     "end_time": "2025-10-24T13:29:43.921701",
     "exception": false,
     "start_time": "2025-10-24T13:29:43.887695",
     "status": "completed"
    },
    "tags": []
   },
   "outputs": [
    {
     "data": {
      "text/plain": [
       "['Amazon Sale Report.csv',\n",
       " 'Cloud Warehouse Compersion Chart.csv',\n",
       " 'May-2022.csv',\n",
       " 'P  L March 2021.csv',\n",
       " 'International sale Report.csv',\n",
       " 'Expense IIGF.csv',\n",
       " 'Sale Report.csv']"
      ]
     },
     "execution_count": 1,
     "metadata": {},
     "output_type": "execute_result"
    }
   ],
   "source": [
    "import os\n",
    "# Path to the dataset directory\n",
    "dataset_path = '/kaggle/input/unlock-profits-with-e-commerce-sales-data'\n",
    "# List all files in the dataset directory\n",
    "os.listdir(dataset_path)"
   ]
  },
  {
   "cell_type": "code",
   "execution_count": 2,
   "id": "68ccbefa",
   "metadata": {
    "collapsed": true,
    "execution": {
     "iopub.execute_input": "2025-10-24T13:29:43.939785Z",
     "iopub.status.busy": "2025-10-24T13:29:43.939496Z",
     "iopub.status.idle": "2025-10-24T13:29:48.118278Z",
     "shell.execute_reply": "2025-10-24T13:29:48.117181Z"
    },
    "jupyter": {
     "outputs_hidden": true,
     "source_hidden": true
    },
    "papermill": {
     "duration": 4.189981,
     "end_time": "2025-10-24T13:29:48.120464",
     "exception": false,
     "start_time": "2025-10-24T13:29:43.930483",
     "status": "completed"
    },
    "tags": []
   },
   "outputs": [],
   "source": [
    "import pandas as pd\n",
    "\n",
    "asr = pd.read_csv(f'{dataset_path}/Amazon Sale Report.csv', low_memory=False)\n",
    "expense = pd.read_csv(f'{dataset_path}/Expense IIGF.csv')\n",
    "may = pd.read_csv(f'{dataset_path}/May-2022.csv')\n",
    "sales = pd.read_csv(f'{dataset_path}/Sale Report.csv')\n",
    "cc = pd.read_csv(f'{dataset_path}/Cloud Warehouse Compersion Chart.csv')\n",
    "march = pd.read_csv(f'{dataset_path}/P  L March 2021.csv')\n",
    "international = pd.read_csv(f'{dataset_path}/International sale Report.csv')"
   ]
  },
  {
   "cell_type": "code",
   "execution_count": 3,
   "id": "8823f0ee",
   "metadata": {
    "collapsed": true,
    "execution": {
     "iopub.execute_input": "2025-10-24T13:29:48.138015Z",
     "iopub.status.busy": "2025-10-24T13:29:48.137647Z",
     "iopub.status.idle": "2025-10-24T13:29:54.729108Z",
     "shell.execute_reply": "2025-10-24T13:29:54.728092Z"
    },
    "jupyter": {
     "outputs_hidden": true,
     "source_hidden": true
    },
    "papermill": {
     "duration": 6.602282,
     "end_time": "2025-10-24T13:29:54.730937",
     "exception": false,
     "start_time": "2025-10-24T13:29:48.128655",
     "status": "completed"
    },
    "tags": []
   },
   "outputs": [
    {
     "name": "stdout",
     "output_type": "stream",
     "text": [
      "Requirement already satisfied: pandasql in /usr/local/lib/python3.11/dist-packages (0.7.3)\r\n",
      "Requirement already satisfied: numpy in /usr/local/lib/python3.11/dist-packages (from pandasql) (1.26.4)\r\n",
      "Requirement already satisfied: pandas in /usr/local/lib/python3.11/dist-packages (from pandasql) (2.2.3)\r\n",
      "Requirement already satisfied: sqlalchemy in /usr/local/lib/python3.11/dist-packages (from pandasql) (2.0.41)\r\n",
      "Requirement already satisfied: mkl_fft in /usr/local/lib/python3.11/dist-packages (from numpy->pandasql) (1.3.8)\r\n",
      "Requirement already satisfied: mkl_random in /usr/local/lib/python3.11/dist-packages (from numpy->pandasql) (1.2.4)\r\n",
      "Requirement already satisfied: mkl_umath in /usr/local/lib/python3.11/dist-packages (from numpy->pandasql) (0.1.1)\r\n",
      "Requirement already satisfied: mkl in /usr/local/lib/python3.11/dist-packages (from numpy->pandasql) (2025.2.0)\r\n",
      "Requirement already satisfied: tbb4py in /usr/local/lib/python3.11/dist-packages (from numpy->pandasql) (2022.2.0)\r\n",
      "Requirement already satisfied: mkl-service in /usr/local/lib/python3.11/dist-packages (from numpy->pandasql) (2.4.1)\r\n",
      "Requirement already satisfied: python-dateutil>=2.8.2 in /usr/local/lib/python3.11/dist-packages (from pandas->pandasql) (2.9.0.post0)\r\n",
      "Requirement already satisfied: pytz>=2020.1 in /usr/local/lib/python3.11/dist-packages (from pandas->pandasql) (2025.2)\r\n",
      "Requirement already satisfied: tzdata>=2022.7 in /usr/local/lib/python3.11/dist-packages (from pandas->pandasql) (2025.2)\r\n",
      "Requirement already satisfied: greenlet>=1 in /usr/local/lib/python3.11/dist-packages (from sqlalchemy->pandasql) (3.2.3)\r\n",
      "Requirement already satisfied: typing-extensions>=4.6.0 in /usr/local/lib/python3.11/dist-packages (from sqlalchemy->pandasql) (4.15.0)\r\n",
      "Requirement already satisfied: six>=1.5 in /usr/local/lib/python3.11/dist-packages (from python-dateutil>=2.8.2->pandas->pandasql) (1.17.0)\r\n",
      "Requirement already satisfied: intel-openmp<2026,>=2024 in /usr/local/lib/python3.11/dist-packages (from mkl->numpy->pandasql) (2024.2.0)\r\n",
      "Requirement already satisfied: tbb==2022.* in /usr/local/lib/python3.11/dist-packages (from mkl->numpy->pandasql) (2022.2.0)\r\n",
      "Requirement already satisfied: tcmlib==1.* in /usr/local/lib/python3.11/dist-packages (from tbb==2022.*->mkl->numpy->pandasql) (1.4.0)\r\n",
      "Requirement already satisfied: intel-cmplr-lib-rt in /usr/local/lib/python3.11/dist-packages (from mkl_umath->numpy->pandasql) (2024.2.0)\r\n",
      "Requirement already satisfied: intel-cmplr-lib-ur==2024.2.0 in /usr/local/lib/python3.11/dist-packages (from intel-openmp<2026,>=2024->mkl->numpy->pandasql) (2024.2.0)\r\n"
     ]
    }
   ],
   "source": [
    "!pip install pandasql\n",
    "import pandasql as psql\n",
    "from pandasql import sqldf\n",
    "\n",
    "# Helper function\n",
    "pysqldf = lambda q: sqldf(q, globals())\n",
    "def run_query(query):\n",
    "    return psql.sqldf(query, globals())"
   ]
  },
  {
   "cell_type": "code",
   "execution_count": 4,
   "id": "1d3855fe",
   "metadata": {
    "collapsed": true,
    "execution": {
     "iopub.execute_input": "2025-10-24T13:29:54.748996Z",
     "iopub.status.busy": "2025-10-24T13:29:54.748518Z",
     "iopub.status.idle": "2025-10-24T13:29:54.884795Z",
     "shell.execute_reply": "2025-10-24T13:29:54.883598Z"
    },
    "jupyter": {
     "outputs_hidden": true,
     "source_hidden": true
    },
    "papermill": {
     "duration": 0.147337,
     "end_time": "2025-10-24T13:29:54.886610",
     "exception": false,
     "start_time": "2025-10-24T13:29:54.739273",
     "status": "completed"
    },
    "tags": []
   },
   "outputs": [
    {
     "name": "stderr",
     "output_type": "stream",
     "text": [
      "/tmp/ipykernel_13/11311965.py:1: UserWarning: The argument 'infer_datetime_format' is deprecated and will be removed in a future version. A strict version of it is now the default, see https://pandas.pydata.org/pdeps/0004-consistent-to-datetime-parsing.html. You can safely remove this argument.\n",
      "  asr['Date'] = pd.to_datetime(asr['Date'], errors='coerce', infer_datetime_format=True)\n",
      "/tmp/ipykernel_13/11311965.py:1: UserWarning: Could not infer format, so each element will be parsed individually, falling back to `dateutil`. To ensure parsing is consistent and as-expected, please specify a format.\n",
      "  asr['Date'] = pd.to_datetime(asr['Date'], errors='coerce', infer_datetime_format=True)\n"
     ]
    }
   ],
   "source": [
    "asr['Date'] = pd.to_datetime(asr['Date'], errors='coerce', infer_datetime_format=True)\n",
    "asr['Date'] = asr['Date'].dt.strftime('%Y-%m-%d')  # Converts datetime → string format SQLite can parse"
   ]
  },
  {
   "cell_type": "code",
   "execution_count": 5,
   "id": "42b89792",
   "metadata": {
    "collapsed": true,
    "execution": {
     "iopub.execute_input": "2025-10-24T13:29:54.904994Z",
     "iopub.status.busy": "2025-10-24T13:29:54.904618Z",
     "iopub.status.idle": "2025-10-24T13:29:54.911866Z",
     "shell.execute_reply": "2025-10-24T13:29:54.910714Z"
    },
    "jupyter": {
     "outputs_hidden": true,
     "source_hidden": true
    },
    "papermill": {
     "duration": 0.018716,
     "end_time": "2025-10-24T13:29:54.913844",
     "exception": false,
     "start_time": "2025-10-24T13:29:54.895128",
     "status": "completed"
    },
    "tags": []
   },
   "outputs": [
    {
     "data": {
      "text/plain": [
       "['2022-04-30',\n",
       " '2022-04-30',\n",
       " '2022-04-30',\n",
       " '2022-04-30',\n",
       " '2022-04-30',\n",
       " '2022-04-30',\n",
       " '2022-04-30',\n",
       " '2022-04-30',\n",
       " '2022-04-30',\n",
       " '2022-04-30']"
      ]
     },
     "execution_count": 5,
     "metadata": {},
     "output_type": "execute_result"
    }
   ],
   "source": [
    "asr['Date'].head(10).tolist()\n"
   ]
  },
  {
   "cell_type": "markdown",
   "id": "7a3062cf",
   "metadata": {
    "papermill": {
     "duration": 0.007932,
     "end_time": "2025-10-24T13:29:54.930623",
     "exception": false,
     "start_time": "2025-10-24T13:29:54.922691",
     "status": "completed"
    },
    "tags": []
   },
   "source": [
    "# Verification"
   ]
  },
  {
   "cell_type": "code",
   "execution_count": 6,
   "id": "9f3950d4",
   "metadata": {
    "collapsed": true,
    "execution": {
     "iopub.execute_input": "2025-10-24T13:29:54.949085Z",
     "iopub.status.busy": "2025-10-24T13:29:54.948251Z",
     "iopub.status.idle": "2025-10-24T13:29:54.974317Z",
     "shell.execute_reply": "2025-10-24T13:29:54.973203Z"
    },
    "jupyter": {
     "outputs_hidden": true,
     "source_hidden": true
    },
    "papermill": {
     "duration": 0.037495,
     "end_time": "2025-10-24T13:29:54.976455",
     "exception": false,
     "start_time": "2025-10-24T13:29:54.938960",
     "status": "completed"
    },
    "tags": []
   },
   "outputs": [
    {
     "name": "stdout",
     "output_type": "stream",
     "text": [
      "   index             Order ID        Date                        Status  \\\n",
      "0      0  405-8078784-5731545  2022-04-30                     Cancelled   \n",
      "1      1  171-9198151-1101146  2022-04-30  Shipped - Delivered to Buyer   \n",
      "2      2  404-0687676-7273146  2022-04-30                       Shipped   \n",
      "3      3  403-9615377-8133951  2022-04-30                     Cancelled   \n",
      "4      4  407-1069790-7240320  2022-04-30                       Shipped   \n",
      "\n",
      "  Fulfilment Sales Channel  ship-service-level    Style              SKU  \\\n",
      "0   Merchant      Amazon.in           Standard   SET389   SET389-KR-NP-S   \n",
      "1   Merchant      Amazon.in           Standard  JNE3781  JNE3781-KR-XXXL   \n",
      "2     Amazon      Amazon.in          Expedited  JNE3371    JNE3371-KR-XL   \n",
      "3   Merchant      Amazon.in           Standard    J0341       J0341-DR-L   \n",
      "4     Amazon      Amazon.in          Expedited  JNE3671  JNE3671-TU-XXXL   \n",
      "\n",
      "        Category  ... currency  Amount    ship-city   ship-state  \\\n",
      "0            Set  ...      INR  647.62       MUMBAI  MAHARASHTRA   \n",
      "1          kurta  ...      INR  406.00    BENGALURU    KARNATAKA   \n",
      "2          kurta  ...      INR  329.00  NAVI MUMBAI  MAHARASHTRA   \n",
      "3  Western Dress  ...      INR  753.33   PUDUCHERRY   PUDUCHERRY   \n",
      "4            Top  ...      INR  574.00      CHENNAI   TAMIL NADU   \n",
      "\n",
      "  ship-postal-code  ship-country  \\\n",
      "0         400081.0            IN   \n",
      "1         560085.0            IN   \n",
      "2         410210.0            IN   \n",
      "3         605008.0            IN   \n",
      "4         600073.0            IN   \n",
      "\n",
      "                                       promotion-ids    B2B  fulfilled-by  \\\n",
      "0                                                NaN  False     Easy Ship   \n",
      "1  Amazon PLCC Free-Financing Universal Merchant ...  False     Easy Ship   \n",
      "2       IN Core Free Shipping 2015/04/08 23-48-5-108   True           NaN   \n",
      "3                                                NaN  False     Easy Ship   \n",
      "4                                                NaN  False           NaN   \n",
      "\n",
      "  Unnamed: 22  \n",
      "0         NaN  \n",
      "1         NaN  \n",
      "2         NaN  \n",
      "3         NaN  \n",
      "4         NaN  \n",
      "\n",
      "[5 rows x 24 columns]\n"
     ]
    }
   ],
   "source": [
    "print(asr.head())"
   ]
  },
  {
   "cell_type": "code",
   "execution_count": 7,
   "id": "182a96f7",
   "metadata": {
    "collapsed": true,
    "execution": {
     "iopub.execute_input": "2025-10-24T13:29:54.995444Z",
     "iopub.status.busy": "2025-10-24T13:29:54.995137Z",
     "iopub.status.idle": "2025-10-24T13:29:55.003565Z",
     "shell.execute_reply": "2025-10-24T13:29:55.002400Z"
    },
    "jupyter": {
     "outputs_hidden": true,
     "source_hidden": true
    },
    "papermill": {
     "duration": 0.019648,
     "end_time": "2025-10-24T13:29:55.005311",
     "exception": false,
     "start_time": "2025-10-24T13:29:54.985663",
     "status": "completed"
    },
    "tags": []
   },
   "outputs": [
    {
     "name": "stdout",
     "output_type": "stream",
     "text": [
      "   index       SKU Code Design No.  Stock       Category Size Color\n",
      "0      0    AN201-RED-L      AN201    5.0  AN : LEGGINGS    L   Red\n",
      "1      1    AN201-RED-M      AN201    5.0  AN : LEGGINGS    M   Red\n",
      "2      2    AN201-RED-S      AN201    3.0  AN : LEGGINGS    S   Red\n",
      "3      3   AN201-RED-XL      AN201    6.0  AN : LEGGINGS   XL   Red\n",
      "4      4  AN201-RED-XXL      AN201    3.0  AN : LEGGINGS  XXL   Red\n"
     ]
    }
   ],
   "source": [
    "print(sales.head())"
   ]
  },
  {
   "cell_type": "code",
   "execution_count": 8,
   "id": "88ea8323",
   "metadata": {
    "_kg_hide-input": true,
    "collapsed": true,
    "execution": {
     "iopub.execute_input": "2025-10-24T13:29:55.023988Z",
     "iopub.status.busy": "2025-10-24T13:29:55.023654Z",
     "iopub.status.idle": "2025-10-24T13:29:55.032711Z",
     "shell.execute_reply": "2025-10-24T13:29:55.031315Z"
    },
    "jupyter": {
     "outputs_hidden": true,
     "source_hidden": true
    },
    "papermill": {
     "duration": 0.020553,
     "end_time": "2025-10-24T13:29:55.034425",
     "exception": false,
     "start_time": "2025-10-24T13:29:55.013872",
     "status": "completed"
    },
    "tags": []
   },
   "outputs": [
    {
     "name": "stdout",
     "output_type": "stream",
     "text": [
      "   index      DATE  Months            CUSTOMER    Style             SKU Size  \\\n",
      "0      0  06-05-21  Jun-21  REVATHY LOGANATHAN  MEN5004    MEN5004-KR-L    L   \n",
      "1      1  06-05-21  Jun-21  REVATHY LOGANATHAN  MEN5004   MEN5004-KR-XL   XL   \n",
      "2      2  06-05-21  Jun-21  REVATHY LOGANATHAN  MEN5004  MEN5004-KR-XXL  XXL   \n",
      "3      3  06-05-21  Jun-21  REVATHY LOGANATHAN  MEN5009    MEN5009-KR-L    L   \n",
      "4      4  06-05-21  Jun-21  REVATHY LOGANATHAN  MEN5011    MEN5011-KR-L    L   \n",
      "\n",
      "    PCS    RATE GROSS AMT  \n",
      "0  1.00  616.56    617.00  \n",
      "1  1.00  616.56    617.00  \n",
      "2  1.00  616.56    617.00  \n",
      "3  1.00  616.56    617.00  \n",
      "4  1.00  616.56    617.00  \n"
     ]
    }
   ],
   "source": [
    "print(international.head())"
   ]
  },
  {
   "cell_type": "code",
   "execution_count": 9,
   "id": "a137a689",
   "metadata": {
    "collapsed": true,
    "execution": {
     "iopub.execute_input": "2025-10-24T13:29:55.053056Z",
     "iopub.status.busy": "2025-10-24T13:29:55.052691Z",
     "iopub.status.idle": "2025-10-24T13:29:55.060878Z",
     "shell.execute_reply": "2025-10-24T13:29:55.059560Z"
    },
    "jupyter": {
     "outputs_hidden": true,
     "source_hidden": true
    },
    "papermill": {
     "duration": 0.019295,
     "end_time": "2025-10-24T13:29:55.062489",
     "exception": false,
     "start_time": "2025-10-24T13:29:55.043194",
     "status": "completed"
    },
    "tags": []
   },
   "outputs": [
    {
     "name": "stdout",
     "output_type": "stream",
     "text": [
      "   index Recived Amount Unnamed: 1  \\\n",
      "0      0     Particular     Amount   \n",
      "1      1       06-19-22       1000   \n",
      "2      2       06-20-22       1500   \n",
      "3      3       06-22-22        500   \n",
      "4      4       06-23-22       2000   \n",
      "\n",
      "                                             Expance Unnamed: 3  \n",
      "0                                         Particular     Amount  \n",
      "1                                          Large Bag        380  \n",
      "2  Stationary(Soft Pin, Paper pin for Dupatta, Fe...        170  \n",
      "3                                                OLA        839  \n",
      "4                                          Auto Rent        520  \n"
     ]
    }
   ],
   "source": [
    "print(expense.head())"
   ]
  },
  {
   "cell_type": "code",
   "execution_count": 10,
   "id": "e3ed0d8a",
   "metadata": {
    "collapsed": true,
    "execution": {
     "iopub.execute_input": "2025-10-24T13:29:55.081865Z",
     "iopub.status.busy": "2025-10-24T13:29:55.080992Z",
     "iopub.status.idle": "2025-10-24T13:29:55.091702Z",
     "shell.execute_reply": "2025-10-24T13:29:55.090679Z"
    },
    "jupyter": {
     "outputs_hidden": true,
     "source_hidden": true
    },
    "papermill": {
     "duration": 0.02219,
     "end_time": "2025-10-24T13:29:55.093564",
     "exception": false,
     "start_time": "2025-10-24T13:29:55.071374",
     "status": "completed"
    },
    "tags": []
   },
   "outputs": [
    {
     "name": "stdout",
     "output_type": "stream",
     "text": [
      "   index             Sku    Style Id  Catalog Category Weight   TP MRP Old  \\\n",
      "0      0    Os206_3141_S  Os206_3141  Moments    Kurta    0.3  538    2178   \n",
      "1      1    Os206_3141_M  Os206_3141  Moments    Kurta    0.3  538    2178   \n",
      "2      2    Os206_3141_L  Os206_3141  Moments    Kurta    0.3  538    2178   \n",
      "3      3   Os206_3141_XL  Os206_3141  Moments    Kurta    0.3  538    2178   \n",
      "4      4  Os206_3141_2XL  Os206_3141  Moments    Kurta    0.3  538    2178   \n",
      "\n",
      "  Final MRP Old Ajio MRP Amazon MRP Amazon FBA MRP Flipkart MRP Limeroad MRP  \\\n",
      "0          2295     2295       2295           2295         2295         2295   \n",
      "1          2295     2295       2295           2295         2295         2295   \n",
      "2          2295     2295       2295           2295         2295         2295   \n",
      "3          2295     2295       2295           2295         2295         2295   \n",
      "4          2295     2295       2295           2295         2295         2295   \n",
      "\n",
      "  Myntra MRP Paytm MRP Snapdeal MRP  \n",
      "0       2295      2295         2295  \n",
      "1       2295      2295         2295  \n",
      "2       2295      2295         2295  \n",
      "3       2295      2295         2295  \n",
      "4       2295      2295         2295  \n"
     ]
    }
   ],
   "source": [
    "print(may.head())"
   ]
  },
  {
   "cell_type": "code",
   "execution_count": 11,
   "id": "cc1d46f8",
   "metadata": {
    "collapsed": true,
    "execution": {
     "iopub.execute_input": "2025-10-24T13:29:55.113623Z",
     "iopub.status.busy": "2025-10-24T13:29:55.113288Z",
     "iopub.status.idle": "2025-10-24T13:29:55.121139Z",
     "shell.execute_reply": "2025-10-24T13:29:55.119827Z"
    },
    "jupyter": {
     "outputs_hidden": true,
     "source_hidden": true
    },
    "papermill": {
     "duration": 0.019561,
     "end_time": "2025-10-24T13:29:55.122729",
     "exception": false,
     "start_time": "2025-10-24T13:29:55.103168",
     "status": "completed"
    },
    "tags": []
   },
   "outputs": [
    {
     "name": "stdout",
     "output_type": "stream",
     "text": [
      "   index                        Shiprocket        Unnamed: 1  \\\n",
      "0      0                             Heads  Price (Per Unit)   \n",
      "1      1     Inbound (Fresh Stock and RTO)             ₹4.00   \n",
      "2      2                          Outbound             ₹7.00   \n",
      "3      3                   Storage Fee/Cft            ₹25.00   \n",
      "4      4  Customer Return with Detailed QC             ₹6.00   \n",
      "\n",
      "             INCREFF  \n",
      "0   Price (Per Unit)  \n",
      "1                  4  \n",
      "2                 11  \n",
      "3  Rs 0.15/- Per Day  \n",
      "4               15.5  \n"
     ]
    }
   ],
   "source": [
    "print(cc.head())"
   ]
  },
  {
   "cell_type": "code",
   "execution_count": 12,
   "id": "a693cdba",
   "metadata": {
    "collapsed": true,
    "execution": {
     "iopub.execute_input": "2025-10-24T13:29:55.142831Z",
     "iopub.status.busy": "2025-10-24T13:29:55.142459Z",
     "iopub.status.idle": "2025-10-24T13:29:55.153573Z",
     "shell.execute_reply": "2025-10-24T13:29:55.152495Z"
    },
    "jupyter": {
     "outputs_hidden": true,
     "source_hidden": true
    },
    "papermill": {
     "duration": 0.023192,
     "end_time": "2025-10-24T13:29:55.155136",
     "exception": false,
     "start_time": "2025-10-24T13:29:55.131944",
     "status": "completed"
    },
    "tags": []
   },
   "outputs": [
    {
     "name": "stdout",
     "output_type": "stream",
     "text": [
      "   index             Sku    Style Id  Catalog Category Weight TP 1    TP 2  \\\n",
      "0      0    Os206_3141_S  Os206_3141  Moments    Kurta    0.3  538  435.78   \n",
      "1      1    Os206_3141_M  Os206_3141  Moments    Kurta    0.3  538  435.78   \n",
      "2      2    Os206_3141_L  Os206_3141  Moments    Kurta    0.3  538  435.78   \n",
      "3      3   Os206_3141_XL  Os206_3141  Moments    Kurta    0.3  538  435.78   \n",
      "4      4  Os206_3141_2XL  Os206_3141  Moments    Kurta    0.3  538  435.78   \n",
      "\n",
      "  MRP Old Final MRP Old Ajio MRP Amazon MRP Amazon FBA MRP Flipkart MRP  \\\n",
      "0    2178          2295     2295       2295           2295         2295   \n",
      "1    2178          2295     2295       2295           2295         2295   \n",
      "2    2178          2295     2295       2295           2295         2295   \n",
      "3    2178          2295     2295       2295           2295         2295   \n",
      "4    2178          2295     2295       2295           2295         2295   \n",
      "\n",
      "  Limeroad MRP Myntra MRP Paytm MRP Snapdeal MRP  \n",
      "0         2295       2295      2295         2295  \n",
      "1         2295       2295      2295         2295  \n",
      "2         2295       2295      2295         2295  \n",
      "3         2295       2295      2295         2295  \n",
      "4         2295       2295      2295         2295  \n"
     ]
    }
   ],
   "source": [
    "print(march.head())"
   ]
  },
  {
   "cell_type": "code",
   "execution_count": 13,
   "id": "9c231ad9",
   "metadata": {
    "collapsed": true,
    "execution": {
     "iopub.execute_input": "2025-10-24T13:29:55.175041Z",
     "iopub.status.busy": "2025-10-24T13:29:55.174704Z",
     "iopub.status.idle": "2025-10-24T13:29:55.332883Z",
     "shell.execute_reply": "2025-10-24T13:29:55.331545Z"
    },
    "jupyter": {
     "outputs_hidden": true,
     "source_hidden": true
    },
    "papermill": {
     "duration": 0.170395,
     "end_time": "2025-10-24T13:29:55.334807",
     "exception": false,
     "start_time": "2025-10-24T13:29:55.164412",
     "status": "completed"
    },
    "tags": []
   },
   "outputs": [
    {
     "name": "stdout",
     "output_type": "stream",
     "text": [
      "<class 'pandas.core.frame.DataFrame'>\n",
      "RangeIndex: 128975 entries, 0 to 128974\n",
      "Data columns (total 24 columns):\n",
      " #   Column              Non-Null Count   Dtype  \n",
      "---  ------              --------------   -----  \n",
      " 0   index               128975 non-null  int64  \n",
      " 1   Order ID            128975 non-null  object \n",
      " 2   Date                128975 non-null  object \n",
      " 3   Status              128975 non-null  object \n",
      " 4   Fulfilment          128975 non-null  object \n",
      " 5   Sales Channel       128975 non-null  object \n",
      " 6   ship-service-level  128975 non-null  object \n",
      " 7   Style               128975 non-null  object \n",
      " 8   SKU                 128975 non-null  object \n",
      " 9   Category            128975 non-null  object \n",
      " 10  Size                128975 non-null  object \n",
      " 11  ASIN                128975 non-null  object \n",
      " 12  Courier Status      122103 non-null  object \n",
      " 13  Qty                 128975 non-null  int64  \n",
      " 14  currency            121180 non-null  object \n",
      " 15  Amount              121180 non-null  float64\n",
      " 16  ship-city           128942 non-null  object \n",
      " 17  ship-state          128942 non-null  object \n",
      " 18  ship-postal-code    128942 non-null  float64\n",
      " 19  ship-country        128942 non-null  object \n",
      " 20  promotion-ids       79822 non-null   object \n",
      " 21  B2B                 128975 non-null  bool   \n",
      " 22  fulfilled-by        39277 non-null   object \n",
      " 23  Unnamed: 22         79925 non-null   object \n",
      "dtypes: bool(1), float64(2), int64(2), object(19)\n",
      "memory usage: 22.8+ MB\n",
      "None\n"
     ]
    }
   ],
   "source": [
    "print(asr.info())"
   ]
  },
  {
   "cell_type": "code",
   "execution_count": 14,
   "id": "501932b8",
   "metadata": {
    "collapsed": true,
    "execution": {
     "iopub.execute_input": "2025-10-24T13:29:55.355003Z",
     "iopub.status.busy": "2025-10-24T13:29:55.354655Z",
     "iopub.status.idle": "2025-10-24T13:29:55.369276Z",
     "shell.execute_reply": "2025-10-24T13:29:55.368241Z"
    },
    "jupyter": {
     "outputs_hidden": true,
     "source_hidden": true
    },
    "papermill": {
     "duration": 0.026492,
     "end_time": "2025-10-24T13:29:55.370858",
     "exception": false,
     "start_time": "2025-10-24T13:29:55.344366",
     "status": "completed"
    },
    "tags": []
   },
   "outputs": [
    {
     "name": "stdout",
     "output_type": "stream",
     "text": [
      "<class 'pandas.core.frame.DataFrame'>\n",
      "RangeIndex: 9271 entries, 0 to 9270\n",
      "Data columns (total 7 columns):\n",
      " #   Column      Non-Null Count  Dtype  \n",
      "---  ------      --------------  -----  \n",
      " 0   index       9271 non-null   int64  \n",
      " 1   SKU Code    9188 non-null   object \n",
      " 2   Design No.  9235 non-null   object \n",
      " 3   Stock       9235 non-null   float64\n",
      " 4   Category    9226 non-null   object \n",
      " 5   Size        9235 non-null   object \n",
      " 6   Color       9226 non-null   object \n",
      "dtypes: float64(1), int64(1), object(5)\n",
      "memory usage: 507.1+ KB\n",
      "None\n"
     ]
    }
   ],
   "source": [
    "print(sales.info())"
   ]
  },
  {
   "cell_type": "code",
   "execution_count": 15,
   "id": "953360d2",
   "metadata": {
    "collapsed": true,
    "execution": {
     "iopub.execute_input": "2025-10-24T13:29:55.391837Z",
     "iopub.status.busy": "2025-10-24T13:29:55.390843Z",
     "iopub.status.idle": "2025-10-24T13:29:55.418839Z",
     "shell.execute_reply": "2025-10-24T13:29:55.417713Z"
    },
    "jupyter": {
     "outputs_hidden": true,
     "source_hidden": true
    },
    "papermill": {
     "duration": 0.04,
     "end_time": "2025-10-24T13:29:55.420576",
     "exception": false,
     "start_time": "2025-10-24T13:29:55.380576",
     "status": "completed"
    },
    "tags": []
   },
   "outputs": [
    {
     "name": "stdout",
     "output_type": "stream",
     "text": [
      "<class 'pandas.core.frame.DataFrame'>\n",
      "RangeIndex: 37432 entries, 0 to 37431\n",
      "Data columns (total 10 columns):\n",
      " #   Column     Non-Null Count  Dtype \n",
      "---  ------     --------------  ----- \n",
      " 0   index      37432 non-null  int64 \n",
      " 1   DATE       37431 non-null  object\n",
      " 2   Months     37407 non-null  object\n",
      " 3   CUSTOMER   36392 non-null  object\n",
      " 4   Style      36392 non-null  object\n",
      " 5   SKU        34958 non-null  object\n",
      " 6   Size       36392 non-null  object\n",
      " 7   PCS        36392 non-null  object\n",
      " 8   RATE       36392 non-null  object\n",
      " 9   GROSS AMT  36392 non-null  object\n",
      "dtypes: int64(1), object(9)\n",
      "memory usage: 2.9+ MB\n",
      "None\n"
     ]
    }
   ],
   "source": [
    "print(international.info())"
   ]
  },
  {
   "cell_type": "code",
   "execution_count": 16,
   "id": "08bc000d",
   "metadata": {
    "collapsed": true,
    "execution": {
     "iopub.execute_input": "2025-10-24T13:29:55.441000Z",
     "iopub.status.busy": "2025-10-24T13:29:55.440661Z",
     "iopub.status.idle": "2025-10-24T13:29:55.452321Z",
     "shell.execute_reply": "2025-10-24T13:29:55.450969Z"
    },
    "jupyter": {
     "outputs_hidden": true,
     "source_hidden": true
    },
    "papermill": {
     "duration": 0.023835,
     "end_time": "2025-10-24T13:29:55.453985",
     "exception": false,
     "start_time": "2025-10-24T13:29:55.430150",
     "status": "completed"
    },
    "tags": []
   },
   "outputs": [
    {
     "name": "stdout",
     "output_type": "stream",
     "text": [
      "<class 'pandas.core.frame.DataFrame'>\n",
      "RangeIndex: 17 entries, 0 to 16\n",
      "Data columns (total 5 columns):\n",
      " #   Column          Non-Null Count  Dtype \n",
      "---  ------          --------------  ----- \n",
      " 0   index           17 non-null     int64 \n",
      " 1   Recived Amount  6 non-null      object\n",
      " 2   Unnamed: 1      6 non-null      object\n",
      " 3   Expance         15 non-null     object\n",
      " 4   Unnamed: 3      17 non-null     object\n",
      "dtypes: int64(1), object(4)\n",
      "memory usage: 812.0+ bytes\n",
      "None\n"
     ]
    }
   ],
   "source": [
    "print(expense.info())"
   ]
  },
  {
   "cell_type": "code",
   "execution_count": 17,
   "id": "b77b3b6b",
   "metadata": {
    "collapsed": true,
    "execution": {
     "iopub.execute_input": "2025-10-24T13:29:55.475128Z",
     "iopub.status.busy": "2025-10-24T13:29:55.474784Z",
     "iopub.status.idle": "2025-10-24T13:29:55.488478Z",
     "shell.execute_reply": "2025-10-24T13:29:55.487174Z"
    },
    "jupyter": {
     "outputs_hidden": true,
     "source_hidden": true
    },
    "papermill": {
     "duration": 0.025829,
     "end_time": "2025-10-24T13:29:55.490175",
     "exception": false,
     "start_time": "2025-10-24T13:29:55.464346",
     "status": "completed"
    },
    "tags": []
   },
   "outputs": [
    {
     "name": "stdout",
     "output_type": "stream",
     "text": [
      "<class 'pandas.core.frame.DataFrame'>\n",
      "RangeIndex: 1330 entries, 0 to 1329\n",
      "Data columns (total 17 columns):\n",
      " #   Column          Non-Null Count  Dtype \n",
      "---  ------          --------------  ----- \n",
      " 0   index           1330 non-null   int64 \n",
      " 1   Sku             1330 non-null   object\n",
      " 2   Style Id        1330 non-null   object\n",
      " 3   Catalog         1330 non-null   object\n",
      " 4   Category        1330 non-null   object\n",
      " 5   Weight          1330 non-null   object\n",
      " 6   TP              1330 non-null   object\n",
      " 7   MRP Old         1330 non-null   object\n",
      " 8   Final MRP Old   1330 non-null   object\n",
      " 9   Ajio MRP        1330 non-null   object\n",
      " 10  Amazon MRP      1330 non-null   object\n",
      " 11  Amazon FBA MRP  1330 non-null   object\n",
      " 12  Flipkart MRP    1330 non-null   object\n",
      " 13  Limeroad MRP    1330 non-null   object\n",
      " 14  Myntra MRP      1330 non-null   object\n",
      " 15  Paytm MRP       1330 non-null   object\n",
      " 16  Snapdeal MRP    1330 non-null   object\n",
      "dtypes: int64(1), object(16)\n",
      "memory usage: 176.8+ KB\n",
      "None\n"
     ]
    }
   ],
   "source": [
    "print(may.info())"
   ]
  },
  {
   "cell_type": "code",
   "execution_count": 18,
   "id": "f71fa1c5",
   "metadata": {
    "collapsed": true,
    "execution": {
     "iopub.execute_input": "2025-10-24T13:29:55.512128Z",
     "iopub.status.busy": "2025-10-24T13:29:55.511763Z",
     "iopub.status.idle": "2025-10-24T13:29:55.525086Z",
     "shell.execute_reply": "2025-10-24T13:29:55.523996Z"
    },
    "jupyter": {
     "outputs_hidden": true,
     "source_hidden": true
    },
    "papermill": {
     "duration": 0.026112,
     "end_time": "2025-10-24T13:29:55.526937",
     "exception": false,
     "start_time": "2025-10-24T13:29:55.500825",
     "status": "completed"
    },
    "tags": []
   },
   "outputs": [
    {
     "name": "stdout",
     "output_type": "stream",
     "text": [
      "<class 'pandas.core.frame.DataFrame'>\n",
      "RangeIndex: 50 entries, 0 to 49\n",
      "Data columns (total 4 columns):\n",
      " #   Column      Non-Null Count  Dtype \n",
      "---  ------      --------------  ----- \n",
      " 0   index       50 non-null     int64 \n",
      " 1   Shiprocket  21 non-null     object\n",
      " 2   Unnamed: 1  41 non-null     object\n",
      " 3   INCREFF     28 non-null     object\n",
      "dtypes: int64(1), object(3)\n",
      "memory usage: 1.7+ KB\n",
      "None\n"
     ]
    }
   ],
   "source": [
    "print(cc.info())"
   ]
  },
  {
   "cell_type": "code",
   "execution_count": 19,
   "id": "fe528817",
   "metadata": {
    "collapsed": true,
    "execution": {
     "iopub.execute_input": "2025-10-24T13:29:55.550042Z",
     "iopub.status.busy": "2025-10-24T13:29:55.548761Z",
     "iopub.status.idle": "2025-10-24T13:29:55.561349Z",
     "shell.execute_reply": "2025-10-24T13:29:55.560087Z"
    },
    "jupyter": {
     "outputs_hidden": true,
     "source_hidden": true
    },
    "papermill": {
     "duration": 0.025717,
     "end_time": "2025-10-24T13:29:55.563114",
     "exception": false,
     "start_time": "2025-10-24T13:29:55.537397",
     "status": "completed"
    },
    "tags": []
   },
   "outputs": [
    {
     "name": "stdout",
     "output_type": "stream",
     "text": [
      "<class 'pandas.core.frame.DataFrame'>\n",
      "RangeIndex: 1330 entries, 0 to 1329\n",
      "Data columns (total 18 columns):\n",
      " #   Column          Non-Null Count  Dtype \n",
      "---  ------          --------------  ----- \n",
      " 0   index           1330 non-null   int64 \n",
      " 1   Sku             1330 non-null   object\n",
      " 2   Style Id        1330 non-null   object\n",
      " 3   Catalog         1330 non-null   object\n",
      " 4   Category        1330 non-null   object\n",
      " 5   Weight          1330 non-null   object\n",
      " 6   TP 1            1330 non-null   object\n",
      " 7   TP 2            1330 non-null   object\n",
      " 8   MRP Old         1330 non-null   object\n",
      " 9   Final MRP Old   1330 non-null   object\n",
      " 10  Ajio MRP        1330 non-null   object\n",
      " 11  Amazon MRP      1330 non-null   object\n",
      " 12  Amazon FBA MRP  1330 non-null   object\n",
      " 13  Flipkart MRP    1330 non-null   object\n",
      " 14  Limeroad MRP    1330 non-null   object\n",
      " 15  Myntra MRP      1330 non-null   object\n",
      " 16  Paytm MRP       1330 non-null   object\n",
      " 17  Snapdeal MRP    1330 non-null   object\n",
      "dtypes: int64(1), object(17)\n",
      "memory usage: 187.2+ KB\n",
      "None\n"
     ]
    }
   ],
   "source": [
    "print(march.info())"
   ]
  },
  {
   "cell_type": "markdown",
   "id": "389d721a",
   "metadata": {
    "papermill": {
     "duration": 0.010026,
     "end_time": "2025-10-24T13:29:55.583698",
     "exception": false,
     "start_time": "2025-10-24T13:29:55.573672",
     "status": "completed"
    },
    "tags": []
   },
   "source": [
    "# SQL Queries based off of SKU's"
   ]
  },
  {
   "cell_type": "markdown",
   "id": "de3b6687",
   "metadata": {
    "papermill": {
     "duration": 0.010438,
     "end_time": "2025-10-24T13:29:55.604937",
     "exception": false,
     "start_time": "2025-10-24T13:29:55.594499",
     "status": "completed"
    },
    "tags": []
   },
   "source": [
    "## Top 10 Best-Selling SKUs\n",
    "This query shows the 10 SKUs with the highest total units sold across all sales."
   ]
  },
  {
   "cell_type": "code",
   "execution_count": 20,
   "id": "7d2f5bd6",
   "metadata": {
    "collapsed": true,
    "execution": {
     "iopub.execute_input": "2025-10-24T13:29:55.627100Z",
     "iopub.status.busy": "2025-10-24T13:29:55.626666Z",
     "iopub.status.idle": "2025-10-24T13:29:59.469734Z",
     "shell.execute_reply": "2025-10-24T13:29:59.468724Z"
    },
    "jupyter": {
     "outputs_hidden": true,
     "source_hidden": true
    },
    "papermill": {
     "duration": 3.856541,
     "end_time": "2025-10-24T13:29:59.471631",
     "exception": false,
     "start_time": "2025-10-24T13:29:55.615090",
     "status": "completed"
    },
    "tags": []
   },
   "outputs": [
    {
     "data": {
      "text/html": [
       "<div>\n",
       "<style scoped>\n",
       "    .dataframe tbody tr th:only-of-type {\n",
       "        vertical-align: middle;\n",
       "    }\n",
       "\n",
       "    .dataframe tbody tr th {\n",
       "        vertical-align: top;\n",
       "    }\n",
       "\n",
       "    .dataframe thead th {\n",
       "        text-align: right;\n",
       "    }\n",
       "</style>\n",
       "<table border=\"1\" class=\"dataframe\">\n",
       "  <thead>\n",
       "    <tr style=\"text-align: right;\">\n",
       "      <th></th>\n",
       "      <th>SKU</th>\n",
       "      <th>total_product</th>\n",
       "    </tr>\n",
       "  </thead>\n",
       "  <tbody>\n",
       "    <tr>\n",
       "      <th>0</th>\n",
       "      <td>JNE3797-KR-L</td>\n",
       "      <td>773</td>\n",
       "    </tr>\n",
       "    <tr>\n",
       "      <th>1</th>\n",
       "      <td>JNE3797-KR-M</td>\n",
       "      <td>657</td>\n",
       "    </tr>\n",
       "    <tr>\n",
       "      <th>2</th>\n",
       "      <td>JNE3797-KR-S</td>\n",
       "      <td>587</td>\n",
       "    </tr>\n",
       "    <tr>\n",
       "      <th>3</th>\n",
       "      <td>JNE3405-KR-L</td>\n",
       "      <td>535</td>\n",
       "    </tr>\n",
       "    <tr>\n",
       "      <th>4</th>\n",
       "      <td>J0230-SKD-M</td>\n",
       "      <td>507</td>\n",
       "    </tr>\n",
       "    <tr>\n",
       "      <th>5</th>\n",
       "      <td>JNE3797-KR-XL</td>\n",
       "      <td>474</td>\n",
       "    </tr>\n",
       "    <tr>\n",
       "      <th>6</th>\n",
       "      <td>J0230-SKD-S</td>\n",
       "      <td>452</td>\n",
       "    </tr>\n",
       "    <tr>\n",
       "      <th>7</th>\n",
       "      <td>JNE3405-KR-S</td>\n",
       "      <td>443</td>\n",
       "    </tr>\n",
       "    <tr>\n",
       "      <th>8</th>\n",
       "      <td>JNE3797-KR-XS</td>\n",
       "      <td>431</td>\n",
       "    </tr>\n",
       "    <tr>\n",
       "      <th>9</th>\n",
       "      <td>JNE3797-KR-XXL</td>\n",
       "      <td>395</td>\n",
       "    </tr>\n",
       "  </tbody>\n",
       "</table>\n",
       "</div>"
      ],
      "text/plain": [
       "              SKU  total_product\n",
       "0    JNE3797-KR-L            773\n",
       "1    JNE3797-KR-M            657\n",
       "2    JNE3797-KR-S            587\n",
       "3    JNE3405-KR-L            535\n",
       "4     J0230-SKD-M            507\n",
       "5   JNE3797-KR-XL            474\n",
       "6     J0230-SKD-S            452\n",
       "7    JNE3405-KR-S            443\n",
       "8   JNE3797-KR-XS            431\n",
       "9  JNE3797-KR-XXL            395"
      ]
     },
     "execution_count": 20,
     "metadata": {},
     "output_type": "execute_result"
    }
   ],
   "source": [
    "#total product based on SKU codes\n",
    "query = \"\"\"\n",
    "Select SKU, count(Qty) as total_product\n",
    "From asr\n",
    "Group by SKU\n",
    "Order by total_product desc\n",
    "Limit 10;\n",
    "\"\"\"\n",
    "pysqldf(query)"
   ]
  },
  {
   "cell_type": "markdown",
   "id": "c710ccc4",
   "metadata": {
    "papermill": {
     "duration": 0.009709,
     "end_time": "2025-10-24T13:29:59.491703",
     "exception": false,
     "start_time": "2025-10-24T13:29:59.481994",
     "status": "completed"
    },
    "tags": []
   },
   "source": [
    "## Total Gross Revenue by SKU\n",
    "This query shows total international gross revenue per SKU, highlighting which products generate the most revenue."
   ]
  },
  {
   "cell_type": "code",
   "execution_count": 21,
   "id": "6bc6f85e",
   "metadata": {
    "collapsed": true,
    "execution": {
     "iopub.execute_input": "2025-10-24T13:29:59.514258Z",
     "iopub.status.busy": "2025-10-24T13:29:59.513119Z",
     "iopub.status.idle": "2025-10-24T13:30:03.978017Z",
     "shell.execute_reply": "2025-10-24T13:30:03.976774Z"
    },
    "jupyter": {
     "outputs_hidden": true,
     "source_hidden": true
    },
    "papermill": {
     "duration": 4.478123,
     "end_time": "2025-10-24T13:30:03.979761",
     "exception": false,
     "start_time": "2025-10-24T13:29:59.501638",
     "status": "completed"
    },
    "tags": []
   },
   "outputs": [
    {
     "data": {
      "text/html": [
       "<div>\n",
       "<style scoped>\n",
       "    .dataframe tbody tr th:only-of-type {\n",
       "        vertical-align: middle;\n",
       "    }\n",
       "\n",
       "    .dataframe tbody tr th {\n",
       "        vertical-align: top;\n",
       "    }\n",
       "\n",
       "    .dataframe thead th {\n",
       "        text-align: right;\n",
       "    }\n",
       "</style>\n",
       "<table border=\"1\" class=\"dataframe\">\n",
       "  <thead>\n",
       "    <tr style=\"text-align: right;\">\n",
       "      <th></th>\n",
       "      <th>total_gross</th>\n",
       "      <th>SKU</th>\n",
       "    </tr>\n",
       "  </thead>\n",
       "  <tbody>\n",
       "    <tr>\n",
       "      <th>0</th>\n",
       "      <td>20240.0</td>\n",
       "      <td>SET413-KR-NP-XXXL</td>\n",
       "    </tr>\n",
       "    <tr>\n",
       "      <th>1</th>\n",
       "      <td>14960.0</td>\n",
       "      <td>SET413-KR-NP-XXL</td>\n",
       "    </tr>\n",
       "    <tr>\n",
       "      <th>2</th>\n",
       "      <td>23348.0</td>\n",
       "      <td>SET413-KR-NP-XS</td>\n",
       "    </tr>\n",
       "    <tr>\n",
       "      <th>3</th>\n",
       "      <td>24050.0</td>\n",
       "      <td>SET413-KR-NP-XL</td>\n",
       "    </tr>\n",
       "    <tr>\n",
       "      <th>4</th>\n",
       "      <td>24076.0</td>\n",
       "      <td>SET413-KR-NP-S</td>\n",
       "    </tr>\n",
       "  </tbody>\n",
       "</table>\n",
       "</div>"
      ],
      "text/plain": [
       "   total_gross                SKU\n",
       "0      20240.0  SET413-KR-NP-XXXL\n",
       "1      14960.0   SET413-KR-NP-XXL\n",
       "2      23348.0    SET413-KR-NP-XS\n",
       "3      24050.0    SET413-KR-NP-XL\n",
       "4      24076.0     SET413-KR-NP-S"
      ]
     },
     "execution_count": 21,
     "metadata": {},
     "output_type": "execute_result"
    }
   ],
   "source": [
    "#how much a SKU made in revenue\n",
    "query = \"\"\"\n",
    "Select sum(international.\"GROSS AMT\") as total_gross, asr.sku\n",
    "From asr\n",
    "Join international on asr.SKU = international.SKU\n",
    "Group by asr.sku\n",
    "Order by asr.sku desc\n",
    "Limit 5;\n",
    "\"\"\"\n",
    "pysqldf(query)"
   ]
  },
  {
   "cell_type": "markdown",
   "id": "56d56524",
   "metadata": {
    "papermill": {
     "duration": 0.009932,
     "end_time": "2025-10-24T13:30:04.000309",
     "exception": false,
     "start_time": "2025-10-24T13:30:03.990377",
     "status": "completed"
    },
    "tags": []
   },
   "source": [
    "## SKU Sales Distribution by State\n",
    "This query shows how many units of each SKU were purchased in each state, along with the total gross per SKU."
   ]
  },
  {
   "cell_type": "code",
   "execution_count": 22,
   "id": "713c5cc5",
   "metadata": {
    "collapsed": true,
    "execution": {
     "iopub.execute_input": "2025-10-24T13:30:04.022710Z",
     "iopub.status.busy": "2025-10-24T13:30:04.021783Z",
     "iopub.status.idle": "2025-10-24T13:30:08.214188Z",
     "shell.execute_reply": "2025-10-24T13:30:08.213141Z"
    },
    "jupyter": {
     "outputs_hidden": true,
     "source_hidden": true
    },
    "papermill": {
     "duration": 4.205302,
     "end_time": "2025-10-24T13:30:08.215874",
     "exception": false,
     "start_time": "2025-10-24T13:30:04.010572",
     "status": "completed"
    },
    "tags": []
   },
   "outputs": [
    {
     "data": {
      "text/html": [
       "<div>\n",
       "<style scoped>\n",
       "    .dataframe tbody tr th:only-of-type {\n",
       "        vertical-align: middle;\n",
       "    }\n",
       "\n",
       "    .dataframe tbody tr th {\n",
       "        vertical-align: top;\n",
       "    }\n",
       "\n",
       "    .dataframe thead th {\n",
       "        text-align: right;\n",
       "    }\n",
       "</style>\n",
       "<table border=\"1\" class=\"dataframe\">\n",
       "  <thead>\n",
       "    <tr style=\"text-align: right;\">\n",
       "      <th></th>\n",
       "      <th>SKU</th>\n",
       "      <th>State</th>\n",
       "      <th>total_gross</th>\n",
       "      <th>total_product</th>\n",
       "    </tr>\n",
       "  </thead>\n",
       "  <tbody>\n",
       "    <tr>\n",
       "      <th>0</th>\n",
       "      <td>JNE3797-KR-M</td>\n",
       "      <td>KERALA</td>\n",
       "      <td>1034.0</td>\n",
       "      <td>94</td>\n",
       "    </tr>\n",
       "    <tr>\n",
       "      <th>1</th>\n",
       "      <td>J0230-SKD-M</td>\n",
       "      <td>MAHARASHTRA</td>\n",
       "      <td>23675.0</td>\n",
       "      <td>88</td>\n",
       "    </tr>\n",
       "    <tr>\n",
       "      <th>2</th>\n",
       "      <td>SET268-KR-NP-S</td>\n",
       "      <td>MAHARASHTRA</td>\n",
       "      <td>30758.0</td>\n",
       "      <td>87</td>\n",
       "    </tr>\n",
       "    <tr>\n",
       "      <th>3</th>\n",
       "      <td>JNE3405-KR-S</td>\n",
       "      <td>MAHARASHTRA</td>\n",
       "      <td>6137.0</td>\n",
       "      <td>82</td>\n",
       "    </tr>\n",
       "    <tr>\n",
       "      <th>4</th>\n",
       "      <td>SET268-KR-NP-XL</td>\n",
       "      <td>MAHARASHTRA</td>\n",
       "      <td>34102.0</td>\n",
       "      <td>76</td>\n",
       "    </tr>\n",
       "    <tr>\n",
       "      <th>5</th>\n",
       "      <td>JNE3797-KR-XL</td>\n",
       "      <td>MAHARASHTRA</td>\n",
       "      <td>1860.0</td>\n",
       "      <td>74</td>\n",
       "    </tr>\n",
       "    <tr>\n",
       "      <th>6</th>\n",
       "      <td>SET268-KR-NP-L</td>\n",
       "      <td>MAHARASHTRA</td>\n",
       "      <td>54772.0</td>\n",
       "      <td>73</td>\n",
       "    </tr>\n",
       "    <tr>\n",
       "      <th>7</th>\n",
       "      <td>SET268-KR-NP-XL</td>\n",
       "      <td>KARNATAKA</td>\n",
       "      <td>34102.0</td>\n",
       "      <td>72</td>\n",
       "    </tr>\n",
       "    <tr>\n",
       "      <th>8</th>\n",
       "      <td>JNE3797-KR-M</td>\n",
       "      <td>KARNATAKA</td>\n",
       "      <td>1034.0</td>\n",
       "      <td>70</td>\n",
       "    </tr>\n",
       "    <tr>\n",
       "      <th>9</th>\n",
       "      <td>J0230-SKD-S</td>\n",
       "      <td>MAHARASHTRA</td>\n",
       "      <td>13935.0</td>\n",
       "      <td>70</td>\n",
       "    </tr>\n",
       "    <tr>\n",
       "      <th>10</th>\n",
       "      <td>JNE3405-KR-L</td>\n",
       "      <td>MAHARASHTRA</td>\n",
       "      <td>12207.0</td>\n",
       "      <td>68</td>\n",
       "    </tr>\n",
       "    <tr>\n",
       "      <th>11</th>\n",
       "      <td>JNE3797-KR-XL</td>\n",
       "      <td>KARNATAKA</td>\n",
       "      <td>1860.0</td>\n",
       "      <td>67</td>\n",
       "    </tr>\n",
       "    <tr>\n",
       "      <th>12</th>\n",
       "      <td>J0230-SKD-M</td>\n",
       "      <td>KARNATAKA</td>\n",
       "      <td>23675.0</td>\n",
       "      <td>63</td>\n",
       "    </tr>\n",
       "    <tr>\n",
       "      <th>13</th>\n",
       "      <td>JNE3405-KR-M</td>\n",
       "      <td>MAHARASHTRA</td>\n",
       "      <td>13647.0</td>\n",
       "      <td>63</td>\n",
       "    </tr>\n",
       "    <tr>\n",
       "      <th>14</th>\n",
       "      <td>JNE3797-KR-M</td>\n",
       "      <td>MAHARASHTRA</td>\n",
       "      <td>1034.0</td>\n",
       "      <td>63</td>\n",
       "    </tr>\n",
       "    <tr>\n",
       "      <th>15</th>\n",
       "      <td>J0230-SKD-M</td>\n",
       "      <td>UTTAR PRADESH</td>\n",
       "      <td>23675.0</td>\n",
       "      <td>63</td>\n",
       "    </tr>\n",
       "    <tr>\n",
       "      <th>16</th>\n",
       "      <td>SET345-KR-NP-M</td>\n",
       "      <td>KARNATAKA</td>\n",
       "      <td>9547.0</td>\n",
       "      <td>62</td>\n",
       "    </tr>\n",
       "    <tr>\n",
       "      <th>17</th>\n",
       "      <td>JNE3797-KR-XXL</td>\n",
       "      <td>MAHARASHTRA</td>\n",
       "      <td>1858.0</td>\n",
       "      <td>60</td>\n",
       "    </tr>\n",
       "    <tr>\n",
       "      <th>18</th>\n",
       "      <td>JNE3797-KR-XL</td>\n",
       "      <td>KERALA</td>\n",
       "      <td>1860.0</td>\n",
       "      <td>59</td>\n",
       "    </tr>\n",
       "    <tr>\n",
       "      <th>19</th>\n",
       "      <td>SET268-KR-NP-L</td>\n",
       "      <td>KARNATAKA</td>\n",
       "      <td>54772.0</td>\n",
       "      <td>56</td>\n",
       "    </tr>\n",
       "  </tbody>\n",
       "</table>\n",
       "</div>"
      ],
      "text/plain": [
       "                SKU          State  total_gross  total_product\n",
       "0      JNE3797-KR-M         KERALA       1034.0             94\n",
       "1       J0230-SKD-M    MAHARASHTRA      23675.0             88\n",
       "2    SET268-KR-NP-S    MAHARASHTRA      30758.0             87\n",
       "3      JNE3405-KR-S    MAHARASHTRA       6137.0             82\n",
       "4   SET268-KR-NP-XL    MAHARASHTRA      34102.0             76\n",
       "5     JNE3797-KR-XL    MAHARASHTRA       1860.0             74\n",
       "6    SET268-KR-NP-L    MAHARASHTRA      54772.0             73\n",
       "7   SET268-KR-NP-XL      KARNATAKA      34102.0             72\n",
       "8      JNE3797-KR-M      KARNATAKA       1034.0             70\n",
       "9       J0230-SKD-S    MAHARASHTRA      13935.0             70\n",
       "10     JNE3405-KR-L    MAHARASHTRA      12207.0             68\n",
       "11    JNE3797-KR-XL      KARNATAKA       1860.0             67\n",
       "12      J0230-SKD-M      KARNATAKA      23675.0             63\n",
       "13     JNE3405-KR-M    MAHARASHTRA      13647.0             63\n",
       "14     JNE3797-KR-M    MAHARASHTRA       1034.0             63\n",
       "15      J0230-SKD-M  UTTAR PRADESH      23675.0             63\n",
       "16   SET345-KR-NP-M      KARNATAKA       9547.0             62\n",
       "17   JNE3797-KR-XXL    MAHARASHTRA       1858.0             60\n",
       "18    JNE3797-KR-XL         KERALA       1860.0             59\n",
       "19   SET268-KR-NP-L      KARNATAKA      54772.0             56"
      ]
     },
     "execution_count": 22,
     "metadata": {},
     "output_type": "execute_result"
    }
   ],
   "source": [
    "#how many of specific SKU a state bought\n",
    "query = \"\"\"\n",
    "With top_country as(\n",
    "    Select sku, SUM(\"Gross AMT\") as total_gross, Row_number() over (Partition by sku Order by SUM (\"GROSS AMT\") DESC) as rn \n",
    "    From international\n",
    "    Group by sku\n",
    "    )\n",
    "Select a.sku, a.\"ship-state\" as State, t.total_gross, sum(a.Qty) as total_product\n",
    "From asr a\n",
    "Join top_country t on a.SKU = t.SKU\n",
    "Where t.rn = 1\n",
    "Group by a.\"ship-state\", a.sku\n",
    "Order by total_product desc, a.\"ship-state\" asc\n",
    "Limit 20;\n",
    "\"\"\"\n",
    "pysqldf(query)"
   ]
  },
  {
   "cell_type": "markdown",
   "id": "b318d62c",
   "metadata": {
    "papermill": {
     "duration": 0.010155,
     "end_time": "2025-10-24T13:30:08.237311",
     "exception": false,
     "start_time": "2025-10-24T13:30:08.227156",
     "status": "completed"
    },
    "tags": []
   },
   "source": [
    "## State-Level Sales and Revenue\n",
    "This query shows total units sold and total spending per state, giving insight into the largest markets.\n"
   ]
  },
  {
   "cell_type": "code",
   "execution_count": 23,
   "id": "6426b1de",
   "metadata": {
    "collapsed": true,
    "execution": {
     "iopub.execute_input": "2025-10-24T13:30:08.259517Z",
     "iopub.status.busy": "2025-10-24T13:30:08.259184Z",
     "iopub.status.idle": "2025-10-24T13:30:11.873435Z",
     "shell.execute_reply": "2025-10-24T13:30:11.872431Z"
    },
    "jupyter": {
     "outputs_hidden": true,
     "source_hidden": true
    },
    "papermill": {
     "duration": 3.627439,
     "end_time": "2025-10-24T13:30:11.875165",
     "exception": false,
     "start_time": "2025-10-24T13:30:08.247726",
     "status": "completed"
    },
    "tags": []
   },
   "outputs": [
    {
     "data": {
      "text/html": [
       "<div>\n",
       "<style scoped>\n",
       "    .dataframe tbody tr th:only-of-type {\n",
       "        vertical-align: middle;\n",
       "    }\n",
       "\n",
       "    .dataframe tbody tr th {\n",
       "        vertical-align: top;\n",
       "    }\n",
       "\n",
       "    .dataframe thead th {\n",
       "        text-align: right;\n",
       "    }\n",
       "</style>\n",
       "<table border=\"1\" class=\"dataframe\">\n",
       "  <thead>\n",
       "    <tr style=\"text-align: right;\">\n",
       "      <th></th>\n",
       "      <th>ship-state</th>\n",
       "      <th>total_product</th>\n",
       "      <th>total_spent</th>\n",
       "    </tr>\n",
       "  </thead>\n",
       "  <tbody>\n",
       "    <tr>\n",
       "      <th>0</th>\n",
       "      <td>MAHARASHTRA</td>\n",
       "      <td>20328</td>\n",
       "      <td>13335534.14</td>\n",
       "    </tr>\n",
       "    <tr>\n",
       "      <th>1</th>\n",
       "      <td>KARNATAKA</td>\n",
       "      <td>15901</td>\n",
       "      <td>10481114.37</td>\n",
       "    </tr>\n",
       "    <tr>\n",
       "      <th>2</th>\n",
       "      <td>TAMIL NADU</td>\n",
       "      <td>10412</td>\n",
       "      <td>6515650.11</td>\n",
       "    </tr>\n",
       "    <tr>\n",
       "      <th>3</th>\n",
       "      <td>TELANGANA</td>\n",
       "      <td>10253</td>\n",
       "      <td>6916615.65</td>\n",
       "    </tr>\n",
       "    <tr>\n",
       "      <th>4</th>\n",
       "      <td>UTTAR PRADESH</td>\n",
       "      <td>9499</td>\n",
       "      <td>6816642.08</td>\n",
       "    </tr>\n",
       "    <tr>\n",
       "      <th>5</th>\n",
       "      <td>DELHI</td>\n",
       "      <td>6156</td>\n",
       "      <td>4235215.97</td>\n",
       "    </tr>\n",
       "    <tr>\n",
       "      <th>6</th>\n",
       "      <td>KERALA</td>\n",
       "      <td>5813</td>\n",
       "      <td>3830227.58</td>\n",
       "    </tr>\n",
       "    <tr>\n",
       "      <th>7</th>\n",
       "      <td>WEST BENGAL</td>\n",
       "      <td>5318</td>\n",
       "      <td>3507880.44</td>\n",
       "    </tr>\n",
       "    <tr>\n",
       "      <th>8</th>\n",
       "      <td>ANDHRA PRADESH</td>\n",
       "      <td>4819</td>\n",
       "      <td>3219831.72</td>\n",
       "    </tr>\n",
       "    <tr>\n",
       "      <th>9</th>\n",
       "      <td>Gujarat</td>\n",
       "      <td>4149</td>\n",
       "      <td>2728651.82</td>\n",
       "    </tr>\n",
       "    <tr>\n",
       "      <th>10</th>\n",
       "      <td>HARYANA</td>\n",
       "      <td>4066</td>\n",
       "      <td>2882092.99</td>\n",
       "    </tr>\n",
       "    <tr>\n",
       "      <th>11</th>\n",
       "      <td>RAJASTHAN</td>\n",
       "      <td>2367</td>\n",
       "      <td>1716802.40</td>\n",
       "    </tr>\n",
       "    <tr>\n",
       "      <th>12</th>\n",
       "      <td>MADHYA PRADESH</td>\n",
       "      <td>2260</td>\n",
       "      <td>1592382.98</td>\n",
       "    </tr>\n",
       "    <tr>\n",
       "      <th>13</th>\n",
       "      <td>ODISHA</td>\n",
       "      <td>1890</td>\n",
       "      <td>1372205.63</td>\n",
       "    </tr>\n",
       "    <tr>\n",
       "      <th>14</th>\n",
       "      <td>BIHAR</td>\n",
       "      <td>1847</td>\n",
       "      <td>1394388.32</td>\n",
       "    </tr>\n",
       "    <tr>\n",
       "      <th>15</th>\n",
       "      <td>PUNJAB</td>\n",
       "      <td>1699</td>\n",
       "      <td>1180064.84</td>\n",
       "    </tr>\n",
       "    <tr>\n",
       "      <th>16</th>\n",
       "      <td>ASSAM</td>\n",
       "      <td>1483</td>\n",
       "      <td>1018136.20</td>\n",
       "    </tr>\n",
       "    <tr>\n",
       "      <th>17</th>\n",
       "      <td>UTTARAKHAND</td>\n",
       "      <td>1385</td>\n",
       "      <td>974143.55</td>\n",
       "    </tr>\n",
       "    <tr>\n",
       "      <th>18</th>\n",
       "      <td>JHARKHAND</td>\n",
       "      <td>1284</td>\n",
       "      <td>919088.21</td>\n",
       "    </tr>\n",
       "    <tr>\n",
       "      <th>19</th>\n",
       "      <td>GOA</td>\n",
       "      <td>1022</td>\n",
       "      <td>619437.85</td>\n",
       "    </tr>\n",
       "  </tbody>\n",
       "</table>\n",
       "</div>"
      ],
      "text/plain": [
       "        ship-state  total_product  total_spent\n",
       "0      MAHARASHTRA          20328  13335534.14\n",
       "1        KARNATAKA          15901  10481114.37\n",
       "2       TAMIL NADU          10412   6515650.11\n",
       "3        TELANGANA          10253   6916615.65\n",
       "4    UTTAR PRADESH           9499   6816642.08\n",
       "5            DELHI           6156   4235215.97\n",
       "6           KERALA           5813   3830227.58\n",
       "7      WEST BENGAL           5318   3507880.44\n",
       "8   ANDHRA PRADESH           4819   3219831.72\n",
       "9          Gujarat           4149   2728651.82\n",
       "10         HARYANA           4066   2882092.99\n",
       "11       RAJASTHAN           2367   1716802.40\n",
       "12  MADHYA PRADESH           2260   1592382.98\n",
       "13          ODISHA           1890   1372205.63\n",
       "14           BIHAR           1847   1394388.32\n",
       "15          PUNJAB           1699   1180064.84\n",
       "16           ASSAM           1483   1018136.20\n",
       "17     UTTARAKHAND           1385    974143.55\n",
       "18       JHARKHAND           1284    919088.21\n",
       "19             GOA           1022    619437.85"
      ]
     },
     "execution_count": 23,
     "metadata": {},
     "output_type": "execute_result"
    }
   ],
   "source": [
    "#Total spent/total product per state\n",
    "query = \"\"\"\n",
    "SELECT a.\"ship-state\", SUM(a.Qty) AS total_product, SUM(a.amount) AS total_spent\n",
    "FROM asr a\n",
    "GROUP BY a.\"ship-state\"\n",
    "ORDER BY total_product DESC\n",
    "LIMIT 20;\n",
    "\"\"\"\n",
    "pysqldf(query)"
   ]
  },
  {
   "cell_type": "markdown",
   "id": "9d3222a8",
   "metadata": {
    "papermill": {
     "duration": 0.010466,
     "end_time": "2025-10-24T13:30:11.896776",
     "exception": false,
     "start_time": "2025-10-24T13:30:11.886310",
     "status": "completed"
    },
    "tags": []
   },
   "source": [
    "# Orders That Did Not Deliver/Cancelled\n",
    "This query shows the total number of cancelled orders per state, highlighting areas where fulfillment issues occurred."
   ]
  },
  {
   "cell_type": "code",
   "execution_count": 24,
   "id": "b0b2ac27",
   "metadata": {
    "collapsed": true,
    "execution": {
     "iopub.execute_input": "2025-10-24T13:30:11.919810Z",
     "iopub.status.busy": "2025-10-24T13:30:11.919502Z",
     "iopub.status.idle": "2025-10-24T13:30:15.264443Z",
     "shell.execute_reply": "2025-10-24T13:30:15.263454Z"
    },
    "jupyter": {
     "outputs_hidden": true,
     "source_hidden": true
    },
    "papermill": {
     "duration": 3.358556,
     "end_time": "2025-10-24T13:30:15.266207",
     "exception": false,
     "start_time": "2025-10-24T13:30:11.907651",
     "status": "completed"
    },
    "tags": []
   },
   "outputs": [
    {
     "data": {
      "text/html": [
       "<div>\n",
       "<style scoped>\n",
       "    .dataframe tbody tr th:only-of-type {\n",
       "        vertical-align: middle;\n",
       "    }\n",
       "\n",
       "    .dataframe tbody tr th {\n",
       "        vertical-align: top;\n",
       "    }\n",
       "\n",
       "    .dataframe thead th {\n",
       "        text-align: right;\n",
       "    }\n",
       "</style>\n",
       "<table border=\"1\" class=\"dataframe\">\n",
       "  <thead>\n",
       "    <tr style=\"text-align: right;\">\n",
       "      <th></th>\n",
       "      <th>state</th>\n",
       "      <th>cancelled_orders</th>\n",
       "    </tr>\n",
       "  </thead>\n",
       "  <tbody>\n",
       "    <tr>\n",
       "      <th>0</th>\n",
       "      <td>MAHARASHTRA</td>\n",
       "      <td>2778</td>\n",
       "    </tr>\n",
       "    <tr>\n",
       "      <th>1</th>\n",
       "      <td>KARNATAKA</td>\n",
       "      <td>2097</td>\n",
       "    </tr>\n",
       "    <tr>\n",
       "      <th>2</th>\n",
       "      <td>UTTAR PRADESH</td>\n",
       "      <td>1531</td>\n",
       "    </tr>\n",
       "    <tr>\n",
       "      <th>3</th>\n",
       "      <td>TELANGANA</td>\n",
       "      <td>1505</td>\n",
       "    </tr>\n",
       "    <tr>\n",
       "      <th>4</th>\n",
       "      <td>TAMIL NADU</td>\n",
       "      <td>1440</td>\n",
       "    </tr>\n",
       "    <tr>\n",
       "      <th>5</th>\n",
       "      <td>KERALA</td>\n",
       "      <td>1086</td>\n",
       "    </tr>\n",
       "    <tr>\n",
       "      <th>6</th>\n",
       "      <td>WEST BENGAL</td>\n",
       "      <td>846</td>\n",
       "    </tr>\n",
       "    <tr>\n",
       "      <th>7</th>\n",
       "      <td>DELHI</td>\n",
       "      <td>828</td>\n",
       "    </tr>\n",
       "    <tr>\n",
       "      <th>8</th>\n",
       "      <td>ANDHRA PRADESH</td>\n",
       "      <td>815</td>\n",
       "    </tr>\n",
       "    <tr>\n",
       "      <th>9</th>\n",
       "      <td>Gujarat</td>\n",
       "      <td>556</td>\n",
       "    </tr>\n",
       "  </tbody>\n",
       "</table>\n",
       "</div>"
      ],
      "text/plain": [
       "            state  cancelled_orders\n",
       "0     MAHARASHTRA              2778\n",
       "1       KARNATAKA              2097\n",
       "2   UTTAR PRADESH              1531\n",
       "3       TELANGANA              1505\n",
       "4      TAMIL NADU              1440\n",
       "5          KERALA              1086\n",
       "6     WEST BENGAL               846\n",
       "7           DELHI               828\n",
       "8  ANDHRA PRADESH               815\n",
       "9         Gujarat               556"
      ]
     },
     "execution_count": 24,
     "metadata": {},
     "output_type": "execute_result"
    }
   ],
   "source": [
    "#cancelled orders\n",
    "query = \"\"\"\n",
    "Select a.\"ship-state\" as state, Count(Distinct a.\"Order ID\") as cancelled_orders\n",
    "From asr a\n",
    "Where a.status = 'Cancelled'\n",
    "Group by a.\"ship-state\"\n",
    "Order by cancelled_orders desc\n",
    "Limit 10;\n",
    "\"\"\"\n",
    "pysqldf(query)"
   ]
  },
  {
   "cell_type": "markdown",
   "id": "aebc1cb9",
   "metadata": {
    "papermill": {
     "duration": 0.010678,
     "end_time": "2025-10-24T13:30:15.288160",
     "exception": false,
     "start_time": "2025-10-24T13:30:15.277482",
     "status": "completed"
    },
    "tags": []
   },
   "source": [
    "## Expense vs Revenue/ Profit Analysis\n",
    "This query calculates net profit by SKU by subtracting expenses from revenue, showing which products generate the most profit."
   ]
  },
  {
   "cell_type": "code",
   "execution_count": 25,
   "id": "2b2a7124",
   "metadata": {
    "collapsed": true,
    "execution": {
     "iopub.execute_input": "2025-10-24T13:30:15.312134Z",
     "iopub.status.busy": "2025-10-24T13:30:15.311801Z",
     "iopub.status.idle": "2025-10-24T13:30:18.951428Z",
     "shell.execute_reply": "2025-10-24T13:30:18.950398Z"
    },
    "jupyter": {
     "outputs_hidden": true,
     "source_hidden": true
    },
    "papermill": {
     "duration": 3.653924,
     "end_time": "2025-10-24T13:30:18.953470",
     "exception": false,
     "start_time": "2025-10-24T13:30:15.299546",
     "status": "completed"
    },
    "tags": []
   },
   "outputs": [
    {
     "data": {
      "text/html": [
       "<div>\n",
       "<style scoped>\n",
       "    .dataframe tbody tr th:only-of-type {\n",
       "        vertical-align: middle;\n",
       "    }\n",
       "\n",
       "    .dataframe tbody tr th {\n",
       "        vertical-align: top;\n",
       "    }\n",
       "\n",
       "    .dataframe thead th {\n",
       "        text-align: right;\n",
       "    }\n",
       "</style>\n",
       "<table border=\"1\" class=\"dataframe\">\n",
       "  <thead>\n",
       "    <tr style=\"text-align: right;\">\n",
       "      <th></th>\n",
       "      <th>SKU</th>\n",
       "      <th>fulfillment_method</th>\n",
       "      <th>total_revenue</th>\n",
       "      <th>total_quanitity</th>\n",
       "    </tr>\n",
       "  </thead>\n",
       "  <tbody>\n",
       "    <tr>\n",
       "      <th>0</th>\n",
       "      <td>J0230-SKD-M</td>\n",
       "      <td>Amazon</td>\n",
       "      <td>460368.00</td>\n",
       "      <td>420</td>\n",
       "    </tr>\n",
       "    <tr>\n",
       "      <th>1</th>\n",
       "      <td>J0230-SKD-S</td>\n",
       "      <td>Amazon</td>\n",
       "      <td>397336.00</td>\n",
       "      <td>358</td>\n",
       "    </tr>\n",
       "    <tr>\n",
       "      <th>2</th>\n",
       "      <td>JNE3797-KR-L</td>\n",
       "      <td>Merchant</td>\n",
       "      <td>374158.77</td>\n",
       "      <td>456</td>\n",
       "    </tr>\n",
       "    <tr>\n",
       "      <th>3</th>\n",
       "      <td>JNE3797-KR-M</td>\n",
       "      <td>Merchant</td>\n",
       "      <td>352068.16</td>\n",
       "      <td>424</td>\n",
       "    </tr>\n",
       "    <tr>\n",
       "      <th>4</th>\n",
       "      <td>SET268-KR-NP-XL</td>\n",
       "      <td>Amazon</td>\n",
       "      <td>278618.00</td>\n",
       "      <td>368</td>\n",
       "    </tr>\n",
       "    <tr>\n",
       "      <th>5</th>\n",
       "      <td>SET268-KR-NP-S</td>\n",
       "      <td>Amazon</td>\n",
       "      <td>263128.00</td>\n",
       "      <td>346</td>\n",
       "    </tr>\n",
       "    <tr>\n",
       "      <th>6</th>\n",
       "      <td>J0230-SKD-L</td>\n",
       "      <td>Amazon</td>\n",
       "      <td>261853.00</td>\n",
       "      <td>237</td>\n",
       "    </tr>\n",
       "    <tr>\n",
       "      <th>7</th>\n",
       "      <td>JNE3797-KR-S</td>\n",
       "      <td>Merchant</td>\n",
       "      <td>261057.57</td>\n",
       "      <td>307</td>\n",
       "    </tr>\n",
       "    <tr>\n",
       "      <th>8</th>\n",
       "      <td>SET268-KR-NP-L</td>\n",
       "      <td>Amazon</td>\n",
       "      <td>253290.00</td>\n",
       "      <td>340</td>\n",
       "    </tr>\n",
       "    <tr>\n",
       "      <th>9</th>\n",
       "      <td>SET183-KR-DH-M</td>\n",
       "      <td>Merchant</td>\n",
       "      <td>250171.98</td>\n",
       "      <td>289</td>\n",
       "    </tr>\n",
       "  </tbody>\n",
       "</table>\n",
       "</div>"
      ],
      "text/plain": [
       "               SKU fulfillment_method  total_revenue  total_quanitity\n",
       "0      J0230-SKD-M             Amazon      460368.00              420\n",
       "1      J0230-SKD-S             Amazon      397336.00              358\n",
       "2     JNE3797-KR-L           Merchant      374158.77              456\n",
       "3     JNE3797-KR-M           Merchant      352068.16              424\n",
       "4  SET268-KR-NP-XL             Amazon      278618.00              368\n",
       "5   SET268-KR-NP-S             Amazon      263128.00              346\n",
       "6      J0230-SKD-L             Amazon      261853.00              237\n",
       "7     JNE3797-KR-S           Merchant      261057.57              307\n",
       "8   SET268-KR-NP-L             Amazon      253290.00              340\n",
       "9   SET183-KR-DH-M           Merchant      250171.98              289"
      ]
     },
     "execution_count": 25,
     "metadata": {},
     "output_type": "execute_result"
    }
   ],
   "source": [
    "#expense/profit\n",
    "query = \"\"\"\n",
    "Select a.sku, a.Fulfilment as fulfillment_method,\n",
    "     sum(a.amount) as total_revenue,\n",
    "     sum(Qty) as total_quanitity\n",
    "From asr a\n",
    "Group by a.sku, Fulfilment\n",
    "Order by total_revenue desc\n",
    "Limit 10;\n",
    "\"\"\"\n",
    "pysqldf(query)"
   ]
  },
  {
   "cell_type": "markdown",
   "id": "6f205fbd",
   "metadata": {
    "papermill": {
     "duration": 0.011477,
     "end_time": "2025-10-24T13:30:18.976616",
     "exception": false,
     "start_time": "2025-10-24T13:30:18.965139",
     "status": "completed"
    },
    "tags": []
   },
   "source": [
    "### Total Revenue: Domestic vs International\n",
    "\n",
    "*Expenses are not included due to missing/incomplete data*\n",
    "\n",
    "This query summarizes total revenue and order counts by domestic (IN) and international regions, highlighting the distribution of sales."
   ]
  },
  {
   "cell_type": "code",
   "execution_count": 26,
   "id": "06025b12",
   "metadata": {
    "collapsed": true,
    "execution": {
     "iopub.execute_input": "2025-10-24T13:30:19.000398Z",
     "iopub.status.busy": "2025-10-24T13:30:19.000035Z",
     "iopub.status.idle": "2025-10-24T13:30:23.185434Z",
     "shell.execute_reply": "2025-10-24T13:30:23.184392Z"
    },
    "jupyter": {
     "outputs_hidden": true,
     "source_hidden": true
    },
    "papermill": {
     "duration": 4.19935,
     "end_time": "2025-10-24T13:30:23.187130",
     "exception": false,
     "start_time": "2025-10-24T13:30:18.987780",
     "status": "completed"
    },
    "tags": []
   },
   "outputs": [
    {
     "data": {
      "text/html": [
       "<div>\n",
       "<style scoped>\n",
       "    .dataframe tbody tr th:only-of-type {\n",
       "        vertical-align: middle;\n",
       "    }\n",
       "\n",
       "    .dataframe tbody tr th {\n",
       "        vertical-align: top;\n",
       "    }\n",
       "\n",
       "    .dataframe thead th {\n",
       "        text-align: right;\n",
       "    }\n",
       "</style>\n",
       "<table border=\"1\" class=\"dataframe\">\n",
       "  <thead>\n",
       "    <tr style=\"text-align: right;\">\n",
       "      <th></th>\n",
       "      <th>domestic_revenue</th>\n",
       "      <th>international_revenue</th>\n",
       "      <th>total_revenue</th>\n",
       "    </tr>\n",
       "  </thead>\n",
       "  <tbody>\n",
       "    <tr>\n",
       "      <th>0</th>\n",
       "      <td>4.952577e+08</td>\n",
       "      <td>387490045.0</td>\n",
       "      <td>8.827477e+08</td>\n",
       "    </tr>\n",
       "  </tbody>\n",
       "</table>\n",
       "</div>"
      ],
      "text/plain": [
       "   domestic_revenue  international_revenue  total_revenue\n",
       "0      4.952577e+08            387490045.0   8.827477e+08"
      ]
     },
     "execution_count": 26,
     "metadata": {},
     "output_type": "execute_result"
    }
   ],
   "source": [
    "#domestic/international\n",
    "query = \"\"\"\n",
    "Select\n",
    "    Sum(a.amount) as domestic_revenue,\n",
    "    Sum(i.\"Gross AMT\") as international_revenue,\n",
    "    Sum(a.amount) + Sum(i.\"Gross AMT\") as total_revenue\n",
    "From asr a\n",
    "Left Join international i on a.SKU = i.sku\n",
    "\"\"\"\n",
    "pysqldf(query)"
   ]
  },
  {
   "cell_type": "code",
   "execution_count": 27,
   "id": "02a2741c",
   "metadata": {
    "collapsed": true,
    "execution": {
     "iopub.execute_input": "2025-10-24T13:30:23.211038Z",
     "iopub.status.busy": "2025-10-24T13:30:23.210702Z",
     "iopub.status.idle": "2025-10-24T13:30:26.700606Z",
     "shell.execute_reply": "2025-10-24T13:30:26.699647Z"
    },
    "jupyter": {
     "outputs_hidden": true,
     "source_hidden": true
    },
    "papermill": {
     "duration": 3.503817,
     "end_time": "2025-10-24T13:30:26.702468",
     "exception": false,
     "start_time": "2025-10-24T13:30:23.198651",
     "status": "completed"
    },
    "tags": []
   },
   "outputs": [
    {
     "data": {
      "text/html": [
       "<div>\n",
       "<style scoped>\n",
       "    .dataframe tbody tr th:only-of-type {\n",
       "        vertical-align: middle;\n",
       "    }\n",
       "\n",
       "    .dataframe tbody tr th {\n",
       "        vertical-align: top;\n",
       "    }\n",
       "\n",
       "    .dataframe thead th {\n",
       "        text-align: right;\n",
       "    }\n",
       "</style>\n",
       "<table border=\"1\" class=\"dataframe\">\n",
       "  <thead>\n",
       "    <tr style=\"text-align: right;\">\n",
       "      <th></th>\n",
       "      <th>domestic_revenue</th>\n",
       "      <th>international_revenue</th>\n",
       "      <th>total_revenue</th>\n",
       "      <th>domestic_orders</th>\n",
       "      <th>international_orders</th>\n",
       "      <th>total_orders</th>\n",
       "    </tr>\n",
       "  </thead>\n",
       "  <tbody>\n",
       "    <tr>\n",
       "      <th>0</th>\n",
       "      <td>78574007.3</td>\n",
       "      <td>0</td>\n",
       "      <td>78574007.3</td>\n",
       "      <td>128942</td>\n",
       "      <td>0</td>\n",
       "      <td>128942</td>\n",
       "    </tr>\n",
       "  </tbody>\n",
       "</table>\n",
       "</div>"
      ],
      "text/plain": [
       "   domestic_revenue  international_revenue  total_revenue  domestic_orders  \\\n",
       "0        78574007.3                      0     78574007.3           128942   \n",
       "\n",
       "   international_orders  total_orders  \n",
       "0                     0        128942  "
      ]
     },
     "execution_count": 27,
     "metadata": {},
     "output_type": "execute_result"
    }
   ],
   "source": [
    "#totals\n",
    "query = \"\"\"\n",
    "SELECT SUM(CASE WHEN \"ship-country\" = 'IN' THEN Amount ELSE 0 END) AS domestic_revenue,\n",
    "       SUM(CASE WHEN \"ship-country\" != 'IN' THEN Amount ELSE 0 END) AS international_revenue,\n",
    "       SUM(Amount) AS total_revenue,\n",
    "       COUNT(CASE WHEN \"ship-country\" = 'IN' THEN 1 END) AS domestic_orders,\n",
    "       COUNT(CASE WHEN \"ship-country\" != 'IN' THEN 1 END) AS international_orders,\n",
    "       count(*) as total_orders\n",
    "FROM asr\n",
    "Where \"ship-country\" is not null;\n",
    "\"\"\"\n",
    "pysqldf(query)"
   ]
  },
  {
   "cell_type": "markdown",
   "id": "6906db3d",
   "metadata": {
    "papermill": {
     "duration": 0.012673,
     "end_time": "2025-10-24T13:30:26.726971",
     "exception": false,
     "start_time": "2025-10-24T13:30:26.714298",
     "status": "completed"
    },
    "tags": []
   },
   "source": [
    "# Inventory / Stock Checks\n",
    "Monitors current inventory levels to ensure products are in stock, helping identify items that need restocking or have surplus stock."
   ]
  },
  {
   "cell_type": "markdown",
   "id": "90805d3b",
   "metadata": {
    "papermill": {
     "duration": 0.011422,
     "end_time": "2025-10-24T13:30:26.750535",
     "exception": false,
     "start_time": "2025-10-24T13:30:26.739113",
     "status": "completed"
    },
    "tags": []
   },
   "source": [
    "## Revenue Over Time\n",
    "Tracks total revenue across periods to identify trends, growth, and seasonal patterns."
   ]
  },
  {
   "cell_type": "code",
   "execution_count": 28,
   "id": "d3305297",
   "metadata": {
    "collapsed": true,
    "execution": {
     "iopub.execute_input": "2025-10-24T13:30:26.776598Z",
     "iopub.status.busy": "2025-10-24T13:30:26.776280Z",
     "iopub.status.idle": "2025-10-24T13:30:30.280542Z",
     "shell.execute_reply": "2025-10-24T13:30:30.279419Z"
    },
    "jupyter": {
     "outputs_hidden": true,
     "source_hidden": true
    },
    "papermill": {
     "duration": 3.519002,
     "end_time": "2025-10-24T13:30:30.282079",
     "exception": false,
     "start_time": "2025-10-24T13:30:26.763077",
     "status": "completed"
    },
    "tags": []
   },
   "outputs": [
    {
     "data": {
      "text/html": [
       "<div>\n",
       "<style scoped>\n",
       "    .dataframe tbody tr th:only-of-type {\n",
       "        vertical-align: middle;\n",
       "    }\n",
       "\n",
       "    .dataframe tbody tr th {\n",
       "        vertical-align: top;\n",
       "    }\n",
       "\n",
       "    .dataframe thead th {\n",
       "        text-align: right;\n",
       "    }\n",
       "</style>\n",
       "<table border=\"1\" class=\"dataframe\">\n",
       "  <thead>\n",
       "    <tr style=\"text-align: right;\">\n",
       "      <th></th>\n",
       "      <th>month</th>\n",
       "      <th>total_revenue</th>\n",
       "      <th>total_quantity</th>\n",
       "    </tr>\n",
       "  </thead>\n",
       "  <tbody>\n",
       "    <tr>\n",
       "      <th>0</th>\n",
       "      <td>2022-03</td>\n",
       "      <td>101683.85</td>\n",
       "      <td>156</td>\n",
       "    </tr>\n",
       "    <tr>\n",
       "      <th>1</th>\n",
       "      <td>2022-04</td>\n",
       "      <td>28838708.32</td>\n",
       "      <td>44206</td>\n",
       "    </tr>\n",
       "    <tr>\n",
       "      <th>2</th>\n",
       "      <td>2022-05</td>\n",
       "      <td>26226476.75</td>\n",
       "      <td>38011</td>\n",
       "    </tr>\n",
       "    <tr>\n",
       "      <th>3</th>\n",
       "      <td>2022-06</td>\n",
       "      <td>23425809.38</td>\n",
       "      <td>34276</td>\n",
       "    </tr>\n",
       "  </tbody>\n",
       "</table>\n",
       "</div>"
      ],
      "text/plain": [
       "     month  total_revenue  total_quantity\n",
       "0  2022-03      101683.85             156\n",
       "1  2022-04    28838708.32           44206\n",
       "2  2022-05    26226476.75           38011\n",
       "3  2022-06    23425809.38           34276"
      ]
     },
     "execution_count": 28,
     "metadata": {},
     "output_type": "execute_result"
    }
   ],
   "source": [
    "#Revenue over time\n",
    "query = \"\"\"\n",
    "Select\n",
    "    strftime('%Y-%m', Date) as month,\n",
    "    Sum(amount) as total_revenue,\n",
    "    Sum(Qty) as total_quantity\n",
    "From asr\n",
    "Group By month\n",
    "Order By month asc\n",
    "Limit 10;\n",
    "\"\"\"\n",
    "pysqldf(query)"
   ]
  },
  {
   "cell_type": "markdown",
   "id": "298d8346",
   "metadata": {
    "papermill": {
     "duration": 0.011525,
     "end_time": "2025-10-24T13:30:30.305620",
     "exception": false,
     "start_time": "2025-10-24T13:30:30.294095",
     "status": "completed"
    },
    "tags": []
   },
   "source": [
    "## SKU Trends Over Time\n",
    "Shows how individual products are performing over time, highlighting bestsellers and slow-moving items."
   ]
  },
  {
   "cell_type": "code",
   "execution_count": 29,
   "id": "a00670c4",
   "metadata": {
    "collapsed": true,
    "execution": {
     "iopub.execute_input": "2025-10-24T13:30:30.330391Z",
     "iopub.status.busy": "2025-10-24T13:30:30.330076Z",
     "iopub.status.idle": "2025-10-24T13:30:34.058953Z",
     "shell.execute_reply": "2025-10-24T13:30:34.057961Z"
    },
    "jupyter": {
     "outputs_hidden": true,
     "source_hidden": true
    },
    "papermill": {
     "duration": 3.743147,
     "end_time": "2025-10-24T13:30:34.060612",
     "exception": false,
     "start_time": "2025-10-24T13:30:30.317465",
     "status": "completed"
    },
    "tags": []
   },
   "outputs": [
    {
     "data": {
      "text/html": [
       "<div>\n",
       "<style scoped>\n",
       "    .dataframe tbody tr th:only-of-type {\n",
       "        vertical-align: middle;\n",
       "    }\n",
       "\n",
       "    .dataframe tbody tr th {\n",
       "        vertical-align: top;\n",
       "    }\n",
       "\n",
       "    .dataframe thead th {\n",
       "        text-align: right;\n",
       "    }\n",
       "</style>\n",
       "<table border=\"1\" class=\"dataframe\">\n",
       "  <thead>\n",
       "    <tr style=\"text-align: right;\">\n",
       "      <th></th>\n",
       "      <th>Month</th>\n",
       "      <th>SKU</th>\n",
       "      <th>revenue</th>\n",
       "    </tr>\n",
       "  </thead>\n",
       "  <tbody>\n",
       "    <tr>\n",
       "      <th>0</th>\n",
       "      <td>2022-04</td>\n",
       "      <td>J0230-SKD-M</td>\n",
       "      <td>527699.20</td>\n",
       "    </tr>\n",
       "    <tr>\n",
       "      <th>1</th>\n",
       "      <td>2022-04</td>\n",
       "      <td>J0230-SKD-S</td>\n",
       "      <td>479937.14</td>\n",
       "    </tr>\n",
       "    <tr>\n",
       "      <th>2</th>\n",
       "      <td>2022-04</td>\n",
       "      <td>JNE3797-KR-L</td>\n",
       "      <td>524581.77</td>\n",
       "    </tr>\n",
       "    <tr>\n",
       "      <th>3</th>\n",
       "      <td>2022-04</td>\n",
       "      <td>JNE3797-KR-M</td>\n",
       "      <td>454290.16</td>\n",
       "    </tr>\n",
       "    <tr>\n",
       "      <th>4</th>\n",
       "      <td>2022-04</td>\n",
       "      <td>JNE3797-KR-S</td>\n",
       "      <td>407302.57</td>\n",
       "    </tr>\n",
       "  </tbody>\n",
       "</table>\n",
       "</div>"
      ],
      "text/plain": [
       "     Month           SKU    revenue\n",
       "0  2022-04   J0230-SKD-M  527699.20\n",
       "1  2022-04   J0230-SKD-S  479937.14\n",
       "2  2022-04  JNE3797-KR-L  524581.77\n",
       "3  2022-04  JNE3797-KR-M  454290.16\n",
       "4  2022-04  JNE3797-KR-S  407302.57"
      ]
     },
     "execution_count": 29,
     "metadata": {},
     "output_type": "execute_result"
    }
   ],
   "source": [
    "#Trends Table\n",
    "query = \"\"\"\n",
    "With top_squs as (\n",
    "    Select SKU, SUM(Amount) as total_revenue\n",
    "    From asr\n",
    "    Group by SKU\n",
    "    Order by total_revenue desc\n",
    "    Limit 5\n",
    ")\n",
    "Select\n",
    "    strftime('%Y-%m', Date) as Month, a.SKU, Sum(a.amount) as revenue\n",
    "From asr a\n",
    "Join top_squs t on a.SKU = t.SKU\n",
    "Group By a.SKU\n",
    "Order By a.SKU;\n",
    "\"\"\"\n",
    "pysqldf(query)"
   ]
  },
  {
   "cell_type": "markdown",
   "id": "18ebd1a9",
   "metadata": {
    "papermill": {
     "duration": 0.011679,
     "end_time": "2025-10-24T13:30:34.085024",
     "exception": false,
     "start_time": "2025-10-24T13:30:34.073345",
     "status": "completed"
    },
    "tags": []
   },
   "source": [
    "# Historical Data"
   ]
  },
  {
   "cell_type": "markdown",
   "id": "2ad5d64d",
   "metadata": {
    "papermill": {
     "duration": 0.01159,
     "end_time": "2025-10-24T13:30:34.108665",
     "exception": false,
     "start_time": "2025-10-24T13:30:34.097075",
     "status": "completed"
    },
    "tags": []
   },
   "source": [
    "## Comparing SKU Quantity Sold vs Stock\n",
    "Shows how much of each product has been sold compared to current stock."
   ]
  },
  {
   "cell_type": "code",
   "execution_count": 30,
   "id": "48c4e19d",
   "metadata": {
    "collapsed": true,
    "execution": {
     "iopub.execute_input": "2025-10-24T13:30:34.135151Z",
     "iopub.status.busy": "2025-10-24T13:30:34.134195Z",
     "iopub.status.idle": "2025-10-24T13:30:37.938101Z",
     "shell.execute_reply": "2025-10-24T13:30:37.937003Z"
    },
    "jupyter": {
     "outputs_hidden": true,
     "source_hidden": true
    },
    "papermill": {
     "duration": 3.818879,
     "end_time": "2025-10-24T13:30:37.939959",
     "exception": false,
     "start_time": "2025-10-24T13:30:34.121080",
     "status": "completed"
    },
    "tags": []
   },
   "outputs": [
    {
     "data": {
      "text/html": [
       "<div>\n",
       "<style scoped>\n",
       "    .dataframe tbody tr th:only-of-type {\n",
       "        vertical-align: middle;\n",
       "    }\n",
       "\n",
       "    .dataframe tbody tr th {\n",
       "        vertical-align: top;\n",
       "    }\n",
       "\n",
       "    .dataframe thead th {\n",
       "        text-align: right;\n",
       "    }\n",
       "</style>\n",
       "<table border=\"1\" class=\"dataframe\">\n",
       "  <thead>\n",
       "    <tr style=\"text-align: right;\">\n",
       "      <th></th>\n",
       "      <th>SKU</th>\n",
       "      <th>total_sold</th>\n",
       "      <th>Stock</th>\n",
       "    </tr>\n",
       "  </thead>\n",
       "  <tbody>\n",
       "    <tr>\n",
       "      <th>0</th>\n",
       "      <td>JNE3797-KR-L</td>\n",
       "      <td>661</td>\n",
       "      <td>5.0</td>\n",
       "    </tr>\n",
       "    <tr>\n",
       "      <th>1</th>\n",
       "      <td>JNE3797-KR-M</td>\n",
       "      <td>561</td>\n",
       "      <td>6.0</td>\n",
       "    </tr>\n",
       "    <tr>\n",
       "      <th>2</th>\n",
       "      <td>JNE3797-KR-S</td>\n",
       "      <td>503</td>\n",
       "      <td>2.0</td>\n",
       "    </tr>\n",
       "    <tr>\n",
       "      <th>3</th>\n",
       "      <td>JNE3405-KR-L</td>\n",
       "      <td>485</td>\n",
       "      <td>446.0</td>\n",
       "    </tr>\n",
       "    <tr>\n",
       "      <th>4</th>\n",
       "      <td>J0230-SKD-M</td>\n",
       "      <td>468</td>\n",
       "      <td>152.0</td>\n",
       "    </tr>\n",
       "    <tr>\n",
       "      <th>5</th>\n",
       "      <td>J0230-SKD-S</td>\n",
       "      <td>421</td>\n",
       "      <td>84.0</td>\n",
       "    </tr>\n",
       "    <tr>\n",
       "      <th>6</th>\n",
       "      <td>JNE3797-KR-XL</td>\n",
       "      <td>415</td>\n",
       "      <td>13.0</td>\n",
       "    </tr>\n",
       "    <tr>\n",
       "      <th>7</th>\n",
       "      <td>JNE3405-KR-S</td>\n",
       "      <td>399</td>\n",
       "      <td>423.0</td>\n",
       "    </tr>\n",
       "    <tr>\n",
       "      <th>8</th>\n",
       "      <td>JNE3797-KR-XS</td>\n",
       "      <td>386</td>\n",
       "      <td>101.0</td>\n",
       "    </tr>\n",
       "    <tr>\n",
       "      <th>9</th>\n",
       "      <td>SET268-KR-NP-XL</td>\n",
       "      <td>373</td>\n",
       "      <td>176.0</td>\n",
       "    </tr>\n",
       "  </tbody>\n",
       "</table>\n",
       "</div>"
      ],
      "text/plain": [
       "               SKU  total_sold  Stock\n",
       "0     JNE3797-KR-L         661    5.0\n",
       "1     JNE3797-KR-M         561    6.0\n",
       "2     JNE3797-KR-S         503    2.0\n",
       "3     JNE3405-KR-L         485  446.0\n",
       "4      J0230-SKD-M         468  152.0\n",
       "5      J0230-SKD-S         421   84.0\n",
       "6    JNE3797-KR-XL         415   13.0\n",
       "7     JNE3405-KR-S         399  423.0\n",
       "8    JNE3797-KR-XS         386  101.0\n",
       "9  SET268-KR-NP-XL         373  176.0"
      ]
     },
     "execution_count": 30,
     "metadata": {},
     "output_type": "execute_result"
    }
   ],
   "source": [
    "#Quanity vs Stock\n",
    "query = \"\"\"\n",
    "SELECT a.SKU, SUM(a.Qty) AS total_sold, s.Stock\n",
    "FROM asr a\n",
    "LEFT JOIN sales s ON a.SKU = s.\"SKU Code\"\n",
    "GROUP BY a.SKU, s.Stock\n",
    "ORDER BY total_sold DESC\n",
    "LIMIT 10;\n",
    "\"\"\"\n",
    "pysqldf(query)"
   ]
  },
  {
   "cell_type": "markdown",
   "id": "c272bf25",
   "metadata": {
    "papermill": {
     "duration": 0.011884,
     "end_time": "2025-10-24T13:30:37.964439",
     "exception": false,
     "start_time": "2025-10-24T13:30:37.952555",
     "status": "completed"
    },
    "tags": []
   },
   "source": [
    "## Stock Coverage Percentage\n",
    "Displays what percentage of stock remains for each product."
   ]
  },
  {
   "cell_type": "code",
   "execution_count": 31,
   "id": "a2a307c0",
   "metadata": {
    "collapsed": true,
    "execution": {
     "iopub.execute_input": "2025-10-24T13:30:37.989825Z",
     "iopub.status.busy": "2025-10-24T13:30:37.989479Z",
     "iopub.status.idle": "2025-10-24T13:30:38.044700Z",
     "shell.execute_reply": "2025-10-24T13:30:38.043679Z"
    },
    "jupyter": {
     "outputs_hidden": true,
     "source_hidden": true
    },
    "papermill": {
     "duration": 0.070102,
     "end_time": "2025-10-24T13:30:38.046506",
     "exception": false,
     "start_time": "2025-10-24T13:30:37.976404",
     "status": "completed"
    },
    "tags": []
   },
   "outputs": [],
   "source": [
    "#quick fix to make the SKU's cooperate\n",
    "asr['SKU_clean'] = asr['SKU'].str.strip().str.upper()\n",
    "sales['SKU_clean'] = sales['SKU Code'].str.strip().str.upper()"
   ]
  },
  {
   "cell_type": "code",
   "execution_count": 32,
   "id": "fd8a29d0",
   "metadata": {
    "collapsed": true,
    "execution": {
     "iopub.execute_input": "2025-10-24T13:30:38.073368Z",
     "iopub.status.busy": "2025-10-24T13:30:38.072883Z",
     "iopub.status.idle": "2025-10-24T13:30:42.306727Z",
     "shell.execute_reply": "2025-10-24T13:30:42.305775Z"
    },
    "jupyter": {
     "outputs_hidden": true,
     "source_hidden": true
    },
    "papermill": {
     "duration": 4.249473,
     "end_time": "2025-10-24T13:30:42.308543",
     "exception": false,
     "start_time": "2025-10-24T13:30:38.059070",
     "status": "completed"
    },
    "tags": []
   },
   "outputs": [
    {
     "data": {
      "text/html": [
       "<div>\n",
       "<style scoped>\n",
       "    .dataframe tbody tr th:only-of-type {\n",
       "        vertical-align: middle;\n",
       "    }\n",
       "\n",
       "    .dataframe tbody tr th {\n",
       "        vertical-align: top;\n",
       "    }\n",
       "\n",
       "    .dataframe thead th {\n",
       "        text-align: right;\n",
       "    }\n",
       "</style>\n",
       "<table border=\"1\" class=\"dataframe\">\n",
       "  <thead>\n",
       "    <tr style=\"text-align: right;\">\n",
       "      <th></th>\n",
       "      <th>SKU</th>\n",
       "      <th>total_sold</th>\n",
       "      <th>Stock</th>\n",
       "      <th>stock_remaining_percent</th>\n",
       "    </tr>\n",
       "  </thead>\n",
       "  <tbody>\n",
       "    <tr>\n",
       "      <th>0</th>\n",
       "      <td>JNE3405-KR-XXL</td>\n",
       "      <td>186</td>\n",
       "      <td>1234.0</td>\n",
       "      <td>84.93</td>\n",
       "    </tr>\n",
       "    <tr>\n",
       "      <th>1</th>\n",
       "      <td>JNE3405-KR-XS</td>\n",
       "      <td>220</td>\n",
       "      <td>1230.0</td>\n",
       "      <td>82.11</td>\n",
       "    </tr>\n",
       "    <tr>\n",
       "      <th>2</th>\n",
       "      <td>JNE1525-KR-UDF19BLACK-M</td>\n",
       "      <td>27</td>\n",
       "      <td>1082.0</td>\n",
       "      <td>97.50</td>\n",
       "    </tr>\n",
       "    <tr>\n",
       "      <th>3</th>\n",
       "      <td>JNE3368-KR-XXXL</td>\n",
       "      <td>180</td>\n",
       "      <td>985.0</td>\n",
       "      <td>81.73</td>\n",
       "    </tr>\n",
       "    <tr>\n",
       "      <th>4</th>\n",
       "      <td>SET273-KR-NP-M</td>\n",
       "      <td>79</td>\n",
       "      <td>880.0</td>\n",
       "      <td>91.02</td>\n",
       "    </tr>\n",
       "    <tr>\n",
       "      <th>5</th>\n",
       "      <td>JNE1525-KR-UDF19BLACK-L</td>\n",
       "      <td>9</td>\n",
       "      <td>874.0</td>\n",
       "      <td>98.97</td>\n",
       "    </tr>\n",
       "    <tr>\n",
       "      <th>6</th>\n",
       "      <td>SET273-KR-NP-S</td>\n",
       "      <td>122</td>\n",
       "      <td>871.0</td>\n",
       "      <td>85.99</td>\n",
       "    </tr>\n",
       "    <tr>\n",
       "      <th>7</th>\n",
       "      <td>SET273-KR-NP-XS</td>\n",
       "      <td>48</td>\n",
       "      <td>862.0</td>\n",
       "      <td>94.43</td>\n",
       "    </tr>\n",
       "    <tr>\n",
       "      <th>8</th>\n",
       "      <td>JNE1525-KR-UDF19BLACK-XL</td>\n",
       "      <td>10</td>\n",
       "      <td>844.0</td>\n",
       "      <td>98.82</td>\n",
       "    </tr>\n",
       "    <tr>\n",
       "      <th>9</th>\n",
       "      <td>SET268-KR-NP-S</td>\n",
       "      <td>350</td>\n",
       "      <td>807.0</td>\n",
       "      <td>56.63</td>\n",
       "    </tr>\n",
       "  </tbody>\n",
       "</table>\n",
       "</div>"
      ],
      "text/plain": [
       "                        SKU  total_sold   Stock  stock_remaining_percent\n",
       "0            JNE3405-KR-XXL         186  1234.0                    84.93\n",
       "1             JNE3405-KR-XS         220  1230.0                    82.11\n",
       "2   JNE1525-KR-UDF19BLACK-M          27  1082.0                    97.50\n",
       "3           JNE3368-KR-XXXL         180   985.0                    81.73\n",
       "4            SET273-KR-NP-M          79   880.0                    91.02\n",
       "5   JNE1525-KR-UDF19BLACK-L           9   874.0                    98.97\n",
       "6            SET273-KR-NP-S         122   871.0                    85.99\n",
       "7           SET273-KR-NP-XS          48   862.0                    94.43\n",
       "8  JNE1525-KR-UDF19BLACK-XL          10   844.0                    98.82\n",
       "9            SET268-KR-NP-S         350   807.0                    56.63"
      ]
     },
     "execution_count": 32,
     "metadata": {},
     "output_type": "execute_result"
    }
   ],
   "source": [
    "#Stock Coverage\n",
    "query = \"\"\"\n",
    "SELECT a.SKU, SUM(a.Qty) AS total_sold, s.Stock,\n",
    "       ROUND((s.Stock - SUM(a.Qty)) * 100.0 / s.Stock, 2) AS stock_remaining_percent\n",
    "FROM asr a\n",
    "LEFT JOIN sales s ON a.'SKU_clean' = s.'SKU_clean'\n",
    "Where s.Stock is not null\n",
    "GROUP BY a.SKU, s.Stock\n",
    "ORDER BY s.Stock desc\n",
    "LIMIT 10;\n",
    "\"\"\"\n",
    "pysqldf(query)"
   ]
  }
 ],
 "metadata": {
  "kaggle": {
   "accelerator": "none",
   "dataSources": [
    {
     "datasetId": 2699295,
     "sourceId": 4642886,
     "sourceType": "datasetVersion"
    }
   ],
   "dockerImageVersionId": 31153,
   "isGpuEnabled": false,
   "isInternetEnabled": false,
   "language": "python",
   "sourceType": "notebook"
  },
  "kernelspec": {
   "display_name": "Python 3",
   "language": "python",
   "name": "python3"
  },
  "language_info": {
   "codemirror_mode": {
    "name": "ipython",
    "version": 3
   },
   "file_extension": ".py",
   "mimetype": "text/x-python",
   "name": "python",
   "nbconvert_exporter": "python",
   "pygments_lexer": "ipython3",
   "version": "3.11.13"
  },
  "papermill": {
   "default_parameters": {},
   "duration": 64.232441,
   "end_time": "2025-10-24T13:30:42.944893",
   "environment_variables": {},
   "exception": null,
   "input_path": "__notebook__.ipynb",
   "output_path": "__notebook__.ipynb",
   "parameters": {},
   "start_time": "2025-10-24T13:29:38.712452",
   "version": "2.6.0"
  }
 },
 "nbformat": 4,
 "nbformat_minor": 5
}
